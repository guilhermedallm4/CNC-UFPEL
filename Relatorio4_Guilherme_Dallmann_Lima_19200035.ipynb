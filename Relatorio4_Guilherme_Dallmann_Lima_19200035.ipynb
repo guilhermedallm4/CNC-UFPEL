{
  "nbformat": 4,
  "nbformat_minor": 0,
  "metadata": {
    "colab": {
      "provenance": []
    },
    "kernelspec": {
      "name": "python3",
      "display_name": "Python 3"
    },
    "language_info": {
      "name": "python"
    }
  },
  "cells": [
    {
      "cell_type": "markdown",
      "source": [
        "#Relatório 4 - Cálculo Numérico Computacional\n",
        "##Nome: Guilherme Dallmann Lima\n",
        "##Matricula: 19200035\n",
        "##Turma: T2"
      ],
      "metadata": {
        "id": "hxj0O1h0NTxI"
      }
    },
    {
      "cell_type": "markdown",
      "source": [
        "#Importando as Bibliotecas"
      ],
      "metadata": {
        "id": "dU_1Gy4MlZpf"
      }
    },
    {
      "cell_type": "code",
      "execution_count": null,
      "metadata": {
        "id": "EUd_WF7vlRCc"
      },
      "outputs": [],
      "source": [
        "import math\n",
        "import matplotlib.pyplot as plt\n",
        "import numpy as np\n",
        "from sympy import *\n",
        "x = Symbol('x')\n",
        "y = Symbol('y')\n",
        "import decimal\n",
        "import pandas as pd"
      ]
    },
    {
      "cell_type": "markdown",
      "source": [
        "#Metodos\n",
        "\n",
        "0.   Trapézio um Segmento e Multiplos Segmentos\n",
        "1.   Simpson 1/3 e 3/8\n",
        "2.   Euler\n",
        "3.   Runge-Kutta de 4ª ordem (RK4)\n",
        "\n"
      ],
      "metadata": {
        "id": "pQl5OC89DFpP"
      }
    },
    {
      "cell_type": "code",
      "source": [
        "def erroAbsoluto(vexato,vaprox):\n",
        "    erro = np.zeros(len(vexato))\n",
        "\n",
        "    for i in np.arange(0,len(vaprox)):\n",
        "        erro[i] = abs(vexato[i] - vaprox[i])\n",
        "\n",
        "    return erro\n",
        "\n",
        "def erroRelativoPercentual(vexato,vaprox):\n",
        "    erro = np.zeros(len(vaprox))\n",
        "\n",
        "    for i in np.arange(0,len(vaprox)):\n",
        "        if vaprox[i] != 0:\n",
        "            erro[i] = abs(vexato[i] - vaprox[i])/abs(vaprox[i]) * 100\n",
        "        else:\n",
        "            erro[i] = abs(vexato[i] - vaprox[i])\n",
        "\n",
        "    return erro"
      ],
      "metadata": {
        "id": "MDkDBpZ9RSpk"
      },
      "execution_count": null,
      "outputs": []
    },
    {
      "cell_type": "markdown",
      "source": [
        "##Trapézio"
      ],
      "metadata": {
        "id": "veNayPfVD1Eh"
      }
    },
    {
      "cell_type": "markdown",
      "source": [
        "###Trapézio um Segmento"
      ],
      "metadata": {
        "id": "Yu86fJ3u4rjQ"
      }
    },
    {
      "cell_type": "code",
      "source": [
        "def TrapOneSegment(h, f0, f1):\n",
        "  trap = (h * (f0 + f1))/2\n",
        "  return trap"
      ],
      "metadata": {
        "id": "_virIxRc4r24"
      },
      "execution_count": null,
      "outputs": []
    },
    {
      "cell_type": "markdown",
      "source": [
        "###Trapézio Multiplos Segmentos"
      ],
      "metadata": {
        "id": "GnwucNuj4yTJ"
      }
    },
    {
      "cell_type": "code",
      "source": [
        "def TrapManySegment(h, n, f):\n",
        "  sum = f[0]\n",
        "  for i in range(1, n-1):\n",
        "    sum = sum + 2 * f[i]\n",
        "  sum = sum + f[n-1]\n",
        "  trapm = (h * sum) / 2\n",
        "\n",
        "  return trapm"
      ],
      "metadata": {
        "id": "Hazpx0P14yay"
      },
      "execution_count": null,
      "outputs": []
    },
    {
      "cell_type": "markdown",
      "source": [
        "##Simpson 1/3 e 3/8"
      ],
      "metadata": {
        "id": "xGqSDhSn9o-B"
      }
    },
    {
      "cell_type": "markdown",
      "source": [
        "###Simp13m"
      ],
      "metadata": {
        "id": "mQlOFUj5_aOo"
      }
    },
    {
      "cell_type": "code",
      "source": [
        "def Simp13m(h, n, f):\n",
        "  sum = f[0]\n",
        "  for i in range(1, n-2, 2):\n",
        "    sum = sum + 4 * f[i] + 2 * f[i+1]\n",
        "  sum = sum + 4 * f[n-2] + f[n-1]\n",
        "  simp13m = (h * sum) / 3\n",
        "  return simp13m"
      ],
      "metadata": {
        "id": "Q6lt4lZP_aXe"
      },
      "execution_count": null,
      "outputs": []
    },
    {
      "cell_type": "markdown",
      "source": [
        "###Simp13"
      ],
      "metadata": {
        "id": "wxauNS3i-OBH"
      }
    },
    {
      "cell_type": "code",
      "source": [
        "def Simp13(h, f0, f1, f2):\n",
        "  simp13 = 2 * h * (f0+4*f1+f2)/6\n",
        "  return simp13"
      ],
      "metadata": {
        "id": "iA4_dtjI-Nqe"
      },
      "execution_count": null,
      "outputs": []
    },
    {
      "cell_type": "markdown",
      "source": [
        "###Simp38"
      ],
      "metadata": {
        "id": "vtCIOZZ_-OPP"
      }
    },
    {
      "cell_type": "code",
      "source": [
        "def Simp38(h, f0, f1, f2, f3):\n",
        "  simp38 = 3 * h * (f0+3*(f1+f2)+f3)/8\n",
        "  return simp38"
      ],
      "metadata": {
        "id": "suDT2ufa-OIJ"
      },
      "execution_count": null,
      "outputs": []
    },
    {
      "cell_type": "markdown",
      "source": [
        "###All regras"
      ],
      "metadata": {
        "id": "5YLngGrz_CzQ"
      }
    },
    {
      "cell_type": "code",
      "source": [
        "def simpInt(a, b, n, f):\n",
        "  h = (b-a)/n\n",
        "  if n == 1:\n",
        "    sum = TrapOneSegment(h, f[n-2], f[n-1])\n",
        "  else:\n",
        "    m = n\n",
        "    odd = (n / 2) - int(n / 2)\n",
        "    if odd > 0 and n > 1:\n",
        "      sum = sum + Simp38(h, f[n-3], f[n-2], f[n-1], f[n])\n",
        "      m = n - 3\n",
        "    if m > 1:\n",
        "      sum = sum + Simp13m(h, m, f)\n",
        "    simpInt = sum\n",
        "    return sum"
      ],
      "metadata": {
        "id": "QT92PcH09pOX"
      },
      "execution_count": null,
      "outputs": []
    },
    {
      "cell_type": "markdown",
      "source": [
        "##Euler"
      ],
      "metadata": {
        "id": "puU79rAr3-HY"
      }
    },
    {
      "cell_type": "code",
      "source": [
        "def euler(a, b, y0, m, func):\n",
        "  vetX = [0]*m\n",
        "  vetY = [0]*m\n",
        "  h = (b - a) / m\n",
        "  x = a\n",
        "  y = y0\n",
        "\n",
        "  vetX[0] = x\n",
        "  vetY[0] = y\n",
        "\n",
        "  fxy = func(a, y)\n",
        "\n",
        "  print(\"i\\tx\\ty\\tx²+y²\")\n",
        "  print(f\"0\\t%.4f\\t%.4f\\t%.4f\"%(x, y, fxy))\n",
        "\n",
        "\n",
        "  for i in range (1, m):\n",
        "    x = a + (i) * h\n",
        "    y = y + h * fxy\n",
        "    fxy = func(x, y) # avaliar f(x, y) em x = xi e y = yi\n",
        "\n",
        "    vetX[i] = x\n",
        "    vetY[i] = y\n",
        "    print(f\"%.0f\\t%.4f\\t%.4f\\t%.4f\"%(i, x, y, fxy))\n",
        "\n",
        "  return vetX, vetY"
      ],
      "metadata": {
        "id": "6C8RFAiD35cQ"
      },
      "execution_count": null,
      "outputs": []
    },
    {
      "cell_type": "markdown",
      "source": [
        "## Runge-Kutta de 4ª ordem (RK4)"
      ],
      "metadata": {
        "id": "9Nd7FTGrCE8r"
      }
    },
    {
      "cell_type": "code",
      "source": [
        "def rungekutta4(func, x0, y0, h, num_steps, flag=None):\n",
        "    xs = [x0]\n",
        "    ys = [y0]\n",
        "    ks = [[0] * (num_steps) for _ in range(4)] # matriz com os valores de k1, k2, k3 e k4\n",
        "\n",
        "    for i in range(num_steps):\n",
        "        t = xs[-1]\n",
        "        y = ys[-1]\n",
        "\n",
        "        ks[0][i] = h * func(t, y)\n",
        "        ks[1][i] = h * func(t + h/2, y + ks[0][i]/2)\n",
        "        ks[2][i] = h * func(t + h/2, y + ks[1][i]/2)\n",
        "        ks[3][i] = h * func(t + h, y + ks[2][i])\n",
        "\n",
        "        y_next = y + (ks[0][i] + 2*ks[1][i] + 2*ks[2][i] + ks[3][i])/6\n",
        "        x_next = t + h\n",
        "\n",
        "        xs.append(x_next)\n",
        "        ys.append(y_next)\n",
        "\n",
        "    if flag:\n",
        "      print(\"I\\tT\\tY\\tK1\\tK2\\tK3\\tK4\")\n",
        "      for i in range(0, num_steps):\n",
        "         ks[0][i] = ks[0][i] * 10\n",
        "         ks[1][i] = ks[1][i] * 10\n",
        "         ks[2][i] = ks[2][i] * 10\n",
        "         ks[3][i] = ks[3][i] * 10\n",
        "         print(f\"{i}\\t{xs[i]:.4f}\\t{ys[i]:.4f}\\t{ks[0][i]:.4f}\\t{ks[1][i]:.4f}\\t{ks[2][i]:.4f}\\t{ks[3][i]:.4f}\")\n",
        "         #t[i] = t[i+1]\n",
        "\n",
        "    return xs, ys, ks\n",
        "\n",
        "\n"
      ],
      "metadata": {
        "id": "juw2iOH9UJFP"
      },
      "execution_count": null,
      "outputs": []
    },
    {
      "cell_type": "markdown",
      "source": [
        "#Questões"
      ],
      "metadata": {
        "id": "aUKGwaQRD__A"
      }
    },
    {
      "cell_type": "markdown",
      "source": [
        "##1. O trabalho realizado por uma força F(x) cujo ângulo entre a direção do movimento e a força é dado por θ(x), pode ser obtido pela seguinte fórmula:\n",
        "\\begin{align*}\n",
        "W = 1 = \\int_{i_0}^{i_n} F(i)cos(\\theta(i)) \\,\n",
        "\\end{align*}\n",
        "\n",
        "##Em que $x_0$ e $x_n$ são as posições inicial e final, respectivamente.\n",
        "\n",
        "##Calcule a melhor aproximação ao trabalho realizado, W, ao puxar um bloco da posição 0 até à posição 30 sabendo que a força aplicada e o ângulo usado são dados na tabela seguinte.\n",
        "\n",
        "![image.png](data:image/png;base64,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)\n",
        "\n",
        "##Observação: Verificam-se 3 grupos de espaçamentos distintos."
      ],
      "metadata": {
        "id": "v6tDnB6cFFkZ"
      }
    },
    {
      "cell_type": "markdown",
      "source": [
        "VETORES"
      ],
      "metadata": {
        "id": "2sjyetE3hJqm"
      }
    },
    {
      "cell_type": "code",
      "source": [
        "x = np.array([0, 2.5, 5, 15, 20, 25, 30], dtype=\"double\")\n",
        "fx = np.array([0, 7, 9, 14, 10.5, 12, 5], dtype=\"double\")\n",
        "tetax = np.array([0.5, 0.9, 1.4, 0.9, 1.3, 1.48, 1.5], dtype=\"double\")"
      ],
      "metadata": {
        "id": "HAf9JWjdhL1N"
      },
      "execution_count": null,
      "outputs": []
    },
    {
      "cell_type": "markdown",
      "source": [
        "###a) Aplicar o Método de 1/3 de Simpson Repetido no Grupo 1, o qual possui 2 subintervalos, h = 2,5."
      ],
      "metadata": {
        "id": "dLSJZRxmFrBZ"
      }
    },
    {
      "cell_type": "code",
      "source": [
        "# 0 - 2,5 - 5\n",
        "h = 2.5\n",
        "\n",
        "func = lambda x, y : x * math.cos(y)\n",
        "\n",
        "f0 = func(fx[0], tetax[0])\n",
        "f1 = func(fx[1], tetax[1])\n",
        "f2 = func(fx[2], tetax[2])\n",
        "\n",
        "r1 = Simp13(h, f0, f1, f2)\n",
        "print(r1)"
      ],
      "metadata": {
        "id": "tZSlEGXKEBQA",
        "colab": {
          "base_uri": "https://localhost:8080/"
        },
        "outputId": "c58f8ab4-a122-4411-f2db-151e1a66dcff"
      },
      "execution_count": null,
      "outputs": [
        {
          "output_type": "stream",
          "name": "stdout",
          "text": [
            "15.778986164733977\n"
          ]
        }
      ]
    },
    {
      "cell_type": "markdown",
      "source": [
        "###b) Aplicar o Método do Trapézio Repetido no Grupo 2, o qual possui 1 subintervalo, h = 10."
      ],
      "metadata": {
        "id": "QcZNTQP_F0VW"
      }
    },
    {
      "cell_type": "code",
      "source": [
        "# 5 - 15\n",
        "# pode usar simpson repetido nSubint = 1 ou simpson simples\n",
        "h = 10\n",
        "f0 = func(fx[2], tetax[2])\n",
        "f1 = func(fx[3], tetax[3])\n",
        "\n",
        "r2 = TrapOneSegment(h, f0, f1)\n",
        "print(r2)"
      ],
      "metadata": {
        "id": "qm4Mdxz4F0iX",
        "colab": {
          "base_uri": "https://localhost:8080/"
        },
        "outputId": "75aa90e6-1628-4c39-863b-45ac4d092fea"
      },
      "execution_count": null,
      "outputs": [
        {
          "output_type": "stream",
          "name": "stdout",
          "text": [
            "51.16121920945736\n"
          ]
        }
      ]
    },
    {
      "cell_type": "markdown",
      "source": [
        "###c) Aplicar o Método do 3/8 Simpson Repetido no Grupo 3, o qual possui 3 subintervalos, h = 5."
      ],
      "metadata": {
        "id": "GgQy_4AVF1n_"
      }
    },
    {
      "cell_type": "code",
      "source": [
        "# 15 - 20 - 25 - 30\n",
        "\n",
        "h = 5\n",
        "f0 = func(fx[3], tetax[3])\n",
        "f1 = func(fx[4], tetax[4])\n",
        "f2 = func(fx[5], tetax[5])\n",
        "f3 = func(fx[6], tetax[6])\n",
        "\n",
        "r3 = Simp38(h, f0, f1, f2, f3)\n",
        "\n",
        "print(r3)"
      ],
      "metadata": {
        "id": "vlqY69bOF1yn",
        "colab": {
          "base_uri": "https://localhost:8080/"
        },
        "outputId": "7c0b3584-e049-4738-9aea-4af7f0e49326"
      },
      "execution_count": null,
      "outputs": [
        {
          "output_type": "stream",
          "name": "stdout",
          "text": [
            "38.89990714972025\n"
          ]
        }
      ]
    },
    {
      "cell_type": "markdown",
      "source": [
        "###$W = R1+R2+R3$"
      ],
      "metadata": {
        "id": "dLVRRTWPElNj"
      }
    },
    {
      "cell_type": "code",
      "source": [
        "w = r1+r2+r3\n",
        "\n",
        "print(\"A melhor aproximação ao trabalho realizado puxando o bloco da posição até a posição 30, é de: \", w)\n",
        "print(f\"Onde: W = R1 + R2 + R3\\nOs respectivos Ri's foram calculados a partir das regras de Simpson1/3, Trapézio de um segmento e Simpson3/8\" )\n",
        "print(f\"Onde: W = %.2f + %.2f + %.2f \" % (r1, r2, r3))\n",
        "\n"
      ],
      "metadata": {
        "colab": {
          "base_uri": "https://localhost:8080/"
        },
        "id": "CxBNMGurEvrH",
        "outputId": "f0c1a992-7591-4bdf-d1f6-8171e40adcb0"
      },
      "execution_count": null,
      "outputs": [
        {
          "output_type": "stream",
          "name": "stdout",
          "text": [
            "A melhor aproximação ao trabalho realizado puxando o bloco da posição até a posição 30, é de:  105.84011252391159\n",
            "Onde: W = R1 + R2 + R3\n",
            "Os respectivos Ri's foram calculados a partir das regras de Simpson1/3, Trapézio de um segmento e Simpson3/8\n",
            "Onde: W = 15.78 + 51.16 + 38.90 \n"
          ]
        }
      ]
    },
    {
      "cell_type": "markdown",
      "source": [
        "##2. Para o problema de valor inicial\n",
        "\n",
        "\\begin{align}\n",
        "  \\left\\{\n",
        "  \\begin{array}{cl}\n",
        "  y' = x² + y² \\\\\n",
        "  y(0) = 0\n",
        "  \\end{array}\n",
        "  \\right.\n",
        "\\end{align}"
      ],
      "metadata": {
        "id": "win5PhRjF_FC"
      }
    },
    {
      "cell_type": "markdown",
      "source": [
        "###a)Calcule y(0,5) usando o Método de Euler e Método de Runge-Kutta de 4ª ordem. Considere h = 0,1."
      ],
      "metadata": {
        "id": "LyHIKIplGGoO"
      }
    },
    {
      "cell_type": "code",
      "source": [
        "h = 0.1\n",
        "m = 5\n",
        "x0 = 0\n",
        "y0 = 0\n",
        "funcao = lambda x, y : x**2 + y**2\n",
        "\n",
        "print(\"REGRA DE EULER\")\n",
        "vetX, vetY = euler(0, 0.5, y0, 5, funcao)\n",
        "print(\"R:\", vetY[m-1])\n",
        "\n",
        "print(\"\\n\")\n",
        "print(\"\\n\")\n",
        "print(\"REGRA RUNGE-KUTTA 4° Ordem\")\n",
        "xs, ys, ks = rungekutta4(funcao, x0, y0, h, m, True)\n",
        "print(\"R:\", ys[m-1])"
      ],
      "metadata": {
        "id": "Jlk-G4XHGGw_",
        "colab": {
          "base_uri": "https://localhost:8080/"
        },
        "outputId": "db5286b7-557c-4c65-e4c0-caecccf274b9"
      },
      "execution_count": null,
      "outputs": [
        {
          "output_type": "stream",
          "name": "stdout",
          "text": [
            "REGRA DE EULER\n",
            "i\tx\ty\tx²+y²\n",
            "0\t0.0000\t0.0000\t0.0000\n",
            "1\t0.1000\t0.0000\t0.0100\n",
            "2\t0.2000\t0.0010\t0.0400\n",
            "3\t0.3000\t0.0050\t0.0900\n",
            "4\t0.4000\t0.0140\t0.1602\n",
            "R: 0.014002600100001004\n",
            "\n",
            "\n",
            "\n",
            "\n",
            "REGRA RUNGE-KUTTA 4° Ordem\n",
            "I\tT\tY\tK1\tK2\tK3\tK4\n",
            "0\t0.0000\t0.0000\t0.0000\t0.0025\t0.0025\t0.0100\n",
            "1\t0.1000\t0.0003\t0.0100\t0.0225\t0.0225\t0.0400\n",
            "2\t0.2000\t0.0027\t0.0400\t0.0625\t0.0625\t0.0901\n",
            "3\t0.3000\t0.0090\t0.0901\t0.1227\t0.1227\t0.1605\n",
            "4\t0.4000\t0.0214\t0.1605\t0.2034\t0.2035\t0.2517\n",
            "R: 0.021359447327141873\n"
          ]
        }
      ]
    },
    {
      "cell_type": "markdown",
      "source": [
        "###b) Compare os resultado obtidos na letra a com a solução exata do problema."
      ],
      "metadata": {
        "id": "PzQlSCwcGHE4"
      }
    },
    {
      "cell_type": "markdown",
      "source": [
        "Os métodos de Euler e Runge-Kutta são usados para resolver equações diferenciais ordinárias, mas diferem em sua abordagem para calcular a solução.\n",
        "\n",
        "O método de Euler é um método de primeira ordem que usa uma expansão linear para aproximar a solução. Ele é simples e fácil de implementar, mas pode ter precisão limitada para equações complexas ou com soluções oscilatórias.\n",
        "\n",
        "O método de Runge-Kutta é um método de alta ordem que usa uma combinação de fórmulas para melhorar a precisão da solução. Ele é mais complexo e exige mais cálculos do que o método de Euler, mas geralmente produz resultados mais precisos.\n",
        "\n",
        "Comparando matematicamente, podemos observar que o método de Euler usa apenas uma única inclinação para estimar o próximo valor da solução, enquanto o método de Runge-Kutta usa quatro inclinações ponderadas para obter uma estimativa mais precisa. Isso é representado pelas seguintes fórmulas:\n",
        "\n",
        "\n",
        "Método de Euler:\n",
        "\n",
        "y[i+1] = y[i] + h * f(x[i], y[i])\n",
        "\n",
        "\n",
        "Método de Runge-Kutta de 4ª ordem:\n",
        "\n",
        "k1 = h * f(x[i], y[i])\n",
        "\n",
        "k2 = h * f(x[i] + h/2, y[i] + k1/2)\n",
        "\n",
        "k3 = h * f(x[i] + h/2, y[i] + k2/2)\n",
        "\n",
        "k4 = h * f(x[i] + h, y[i] + k3)\n",
        "\n",
        "y[i+1] = y[i] + (k1 + 2k2 + 2k3 + k4) / 6\n",
        "\n",
        "\n",
        "Assim, podemos concluir que o método de Runge-Kutta produz resultados mais precisos devido à sua maior ordem e ao uso de múltiplas inclinações ponderadas para estimar a solução. No entanto, também é mais computacionalmente intensivo do que o método de Euler."
      ],
      "metadata": {
        "id": "0DHlBWz2stC5"
      }
    },
    {
      "cell_type": "markdown",
      "source": [
        "##3. Para o problema de valor inicial\n",
        "\n",
        "\\begin{align}\n",
        "  \\left\\{\n",
        "  \\begin{array}{cl}\n",
        "  y' = x + y \\\\\n",
        "  y(0) = 1\n",
        "  \\end{array}\n",
        "  \\right.\n",
        "\\end{align}"
      ],
      "metadata": {
        "id": "vgywgTcDGaNH"
      }
    },
    {
      "cell_type": "markdown",
      "source": [
        "###a) Calcule y(0,2) usando o Método de Runge-Kutta de 4ª ordem. Considere     \n",
        "###h = 0,1 e h = 0,2."
      ],
      "metadata": {
        "id": "Z6Hcxwr7GcfI"
      }
    },
    {
      "cell_type": "code",
      "source": [
        "h1 = 0.1\n",
        "x0 = 0\n",
        "y0 = 1\n",
        "m = 2\n",
        "func = lambda x, y : x + y\n",
        "#def rungekutta4(func, x0, y0, h, num_steps, flag=None)\n",
        "print(\"\\n\")\n",
        "print(\"REGRA RUNGE-KUTTA 4° Ordem - H = 0.1\")\n",
        "\n",
        "xs1, ys1, ks1 = rungekutta4(func, x0, y0, 0.1, m, True)\n",
        "print(f\"R: {ys1[m-1]}\")\n",
        "print(\"\\n\")\n",
        "\n",
        "print(\"REGRA RUNGE-KUTTA 4° Ordem - H = 0.2\")\n",
        "h2 = 0.2\n",
        "xs2, ys2, ks2 = rungekutta4(func, x0, y0, 0.2, m, True)\n",
        "print(f\"R: {ys2[m-1]}\")"
      ],
      "metadata": {
        "id": "hufBTKXgGckw",
        "colab": {
          "base_uri": "https://localhost:8080/"
        },
        "outputId": "8a8bf324-8ae4-4549-fd23-56de3075755b"
      },
      "execution_count": null,
      "outputs": [
        {
          "output_type": "stream",
          "name": "stdout",
          "text": [
            "\n",
            "\n",
            "REGRA RUNGE-KUTTA 4° Ordem - H = 0.1\n",
            "I\tT\tY\tK1\tK2\tK3\tK4\n",
            "0\t0.0000\t1.0000\t1.0000\t1.1000\t1.1050\t1.2105\n",
            "1\t0.1000\t1.1103\t1.2103\t1.3209\t1.3264\t1.4430\n",
            "R: 1.1103416666666668\n",
            "\n",
            "\n",
            "REGRA RUNGE-KUTTA 4° Ordem - H = 0.2\n",
            "I\tT\tY\tK1\tK2\tK3\tK4\n",
            "0\t0.0000\t1.0000\t2.0000\t2.4000\t2.4400\t2.8880\n",
            "1\t0.2000\t1.2428\t2.8856\t3.3742\t3.4230\t3.9702\n",
            "R: 1.2428\n"
          ]
        }
      ]
    },
    {
      "cell_type": "markdown",
      "source": [
        "###b) Compare os resultados obtidos na letra a com a solução exata do problema"
      ],
      "metadata": {
        "id": "wncarQj3GcrK"
      }
    },
    {
      "cell_type": "markdown",
      "source": [
        "####Apresentação dos valores para fins comparativos"
      ],
      "metadata": {
        "id": "M-4PXlfhX0dN"
      }
    },
    {
      "cell_type": "code",
      "source": [
        "h = 0.1\n",
        "#step = int(y0/h)\n",
        "fExato = lambda x: x + (x ** 2 / 2)\n",
        "vExatos = []\n",
        "\n",
        "for i in np.arange(x0, y0, h):\n",
        "    vExatos.append(fExato(i))\n",
        "\n",
        "erroRelPer1 = erroRelativoPercentual(vExatos, ys1)\n",
        "erroAbs1 = erroAbsoluto(vExatos, ys1)\n",
        "\n",
        "print(\"h = 0.1\")\n",
        "table1 = pd.DataFrame({'valorExato': vExatos[0:2], 'valorAproximado': ys1[0:2], 'erroAbsoluto': erroAbs1[0:2], 'erroPercentual': erroRelPer1[0:2]})\n",
        "print(table1)\n",
        "\n",
        "h = 0.2\n",
        "#step = int(y0/h)\n",
        "for i in np.arange(x0, y0, h):\n",
        "    vExatos.append(fExato(i))\n",
        "\n",
        "erroRelPer2 = erroRelativoPercentual(vExatos, ys2)\n",
        "erroAbs2 = erroAbsoluto(vExatos, ys2)\n",
        "\n",
        "\n",
        "print(\"\\n\\nh = 0.2\")\n",
        "table2 = pd.DataFrame({'valorExato': vExatos[0:2], 'valorAproximado': ys2[0:2], 'erroAbsoluto': erroAbs2[0:2], 'erroPercentual': erroRelPer2[0:2]})\n",
        "print(table2)\n"
      ],
      "metadata": {
        "colab": {
          "base_uri": "https://localhost:8080/"
        },
        "id": "w__iB-RsKfI5",
        "outputId": "4247e276-3bf0-4133-edfa-efc21148ccee"
      },
      "execution_count": null,
      "outputs": [
        {
          "output_type": "stream",
          "name": "stdout",
          "text": [
            "h = 0.1\n",
            "   valorExato  valorAproximado  erroAbsoluto  erroPercentual\n",
            "0       0.000         1.000000      1.000000      100.000000\n",
            "1       0.105         1.110342      1.005342       90.543451\n",
            "\n",
            "\n",
            "h = 0.2\n",
            "   valorExato  valorAproximado  erroAbsoluto  erroPercentual\n",
            "0       0.000           1.0000        1.0000      100.000000\n",
            "1       0.105           1.2428        1.1378       91.551336\n"
          ]
        }
      ]
    },
    {
      "cell_type": "markdown",
      "source": [
        "Para  verificar se o método está produzindo uma solução razoável é verificando se o erro diminui quando diminuímos o tamanho do passo. Em geral, espera-se que o erro diminua proporcionalmente ao quadrado do tamanho do passo. Como apresentado os valores do erro absoluto e erro percentual ao diminuir o passo de 0.2 para 0.1 é verificado que o valor está diminuindo proporcionalmente aos passos, oque indica que o método está produzindo uma solução razóavel.\n"
      ],
      "metadata": {
        "id": "3YDpEss9Jmy5"
      }
    }
  ]
}