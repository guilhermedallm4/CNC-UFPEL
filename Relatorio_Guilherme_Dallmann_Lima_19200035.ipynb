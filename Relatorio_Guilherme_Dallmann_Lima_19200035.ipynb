{
  "nbformat": 4,
  "nbformat_minor": 0,
  "metadata": {
    "colab": {
      "provenance": [],
      "collapsed_sections": [
        "QD3E-uOKYe2n",
        "Y4Y7BuBEYu-e",
        "2BgKYJwAhslV",
        "wD3Boy6Uh49e"
      ]
    },
    "kernelspec": {
      "name": "python3",
      "display_name": "Python 3"
    },
    "language_info": {
      "name": "python"
    }
  },
  "cells": [
    {
      "cell_type": "markdown",
      "source": [
        "#Relatório 1 - Cálculo Numérico Computacional\n",
        "##Nome: Guilherme Dallmann Lima\n",
        "##Matricula: 19200035\n",
        "##Turma: T2"
      ],
      "metadata": {
        "id": "NkVuKhkJdIlH"
      }
    },
    {
      "cell_type": "markdown",
      "source": [
        "#Importando as Bibliotecas"
      ],
      "metadata": {
        "id": "QD3E-uOKYe2n"
      }
    },
    {
      "cell_type": "code",
      "execution_count": null,
      "metadata": {
        "id": "hB-MPK9I9YwM"
      },
      "outputs": [],
      "source": [
        "import math\n",
        "import matplotlib.pyplot as plt\n",
        "import pandas as pd\n",
        "import numpy as np\n",
        "from sympy import *\n",
        "import time\n",
        "x = Symbol('x')\n",
        "values = []\n"
      ]
    },
    {
      "cell_type": "markdown",
      "source": [
        "\n",
        "#Criação dos Métodos\n",
        "*   Bissecção\n",
        "*   Falsa Posição\n",
        "*   Newton-Raphson\n",
        "*   Secante\n",
        "*   Show the Graphics"
      ],
      "metadata": {
        "id": "Y4Y7BuBEYu-e"
      }
    },
    {
      "cell_type": "markdown",
      "source": [
        "***Bissecção***"
      ],
      "metadata": {
        "id": "CzVHTCAVdvN7"
      }
    },
    {
      "cell_type": "code",
      "execution_count": null,
      "metadata": {
        "id": "XF6j9hsupcQt"
      },
      "outputs": [],
      "source": [
        "# Bissecção\n",
        "\n",
        "def metdBissec(function, a_0, b_0, precision):\n",
        "  inicio = time.time()\n",
        "  counter = 0\n",
        "  if function(a_0)*function(b_0) >= 0:\n",
        "    print(\"Método falhou\")\n",
        "    print(\"Quantidade de Interações Bissecção: \", counter)\n",
        "    values.append(counter)\n",
        "    fim = time.time()\n",
        "    print(\"Tempo de exucção da função: \", fim - inicio)\n",
        "    return None\n",
        "  a_n = a_0\n",
        "  b_n = b_0\n",
        "  x_n = (a_0 + b_0)/2\n",
        "  f = function(x_n)\n",
        "  values.append(x_n)\n",
        "  while (abs(function(x_n)) > precision):\n",
        "    m = function(a_n)\n",
        "    if(m * f > 0):\n",
        "      a_n = x_n\n",
        "    else:\n",
        "      b_n = x_n\n",
        "    counter = counter + 1\n",
        "    x_n = (a_n + b_n) / 2\n",
        "    f = function(x_n)\n",
        "    values.append(x_n)\n",
        "\n",
        "  print(\"Raiz encontrada: \", x_n)\n",
        "  print(\"Quantidade de Interações Falsa posição: \", counter)\n",
        "  fim = time.time()\n",
        "  print(\"Tempo de exucção da função: \", fim - inicio)\n"
      ]
    },
    {
      "cell_type": "markdown",
      "source": [
        "***Falsa posição***"
      ],
      "metadata": {
        "id": "6VrfdOlFdz5b"
      }
    },
    {
      "cell_type": "code",
      "source": [
        "# Falsa posição\n",
        "\n",
        "def metdFalsePosition(function, a_0, b_0, precision):\n",
        "  inicio = time.time()\n",
        "  counter = 0\n",
        "  if function(a_0)*function(b_0) >= 0:\n",
        "    print(\"Método falhou\")\n",
        "    print(\"Quantidade de Interações Falsa Posição: \", counter)\n",
        "    values.append(counter)\n",
        "    fim = time.time()\n",
        "    print(\"Tempo de exucção da função: \", fim - inicio)\n",
        "    return None\n",
        "\n",
        "  #if (b_0 - a_0) < precision:\n",
        "\t # if (function(a_0) < precision) or (function(b_0) < precision):\n",
        "    #  return b_0\n",
        "\n",
        "  fa = function(a_0)\n",
        "  fb = function(b_0)\n",
        "  xLine = ((a_0 * fb) - (b_0 * fa)) / (fb - fa)\n",
        "  fxLine = function(xLine)\n",
        "  values.append(xLine)\n",
        "  while(abs(fxLine) > precision):\n",
        "    if(fa * fxLine > 0):\n",
        "      a_0 = xLine\n",
        "    else:\n",
        "      b_0 = xLine\n",
        "    fa = function(a_0)\n",
        "    fb = function(b_0)\n",
        "    xLine = ((a_0 * fb) - (b_0 * fa)) / (fb - fa)\n",
        "    fxLine = function(xLine)\n",
        "    values.append(xLine)\n",
        "    counter = counter + 1\n",
        "  print(\"Raiz encontrada: \", xLine)\n",
        "  print(\"Quantidade de Interações Falsa posição: \", counter)\n",
        "  fim = time.time()\n",
        "  print(\"Tempo de exucção da função: \", fim - inicio)"
      ],
      "metadata": {
        "id": "RUOqPqf8a2p7"
      },
      "execution_count": null,
      "outputs": []
    },
    {
      "cell_type": "markdown",
      "source": [
        "***Newton-Raphson***"
      ],
      "metadata": {
        "id": "STGg8fjCd2n6"
      }
    },
    {
      "cell_type": "code",
      "source": [
        "# Newton-Raphson\n",
        "\n",
        "def metdNewtons(f, function, x0, precision, interacoes):\n",
        "    inicio = time.time()\n",
        "    counter = 0\n",
        "    if abs(x0) < precision:\n",
        "       print(\"Valor X-Linha: \")\n",
        "       print(x0)\n",
        "       print(\"Quantidade de Interações Newton-Raphson: \", counter)\n",
        "       values.append(counter)\n",
        "       fim = time.time()\n",
        "       print(\"Tempo de exucção da função: \", fim - inicio)\n",
        "       return None\n",
        "    derivada = diff(f, x, 1)\n",
        "    counter = counter + 1\n",
        "    functionLine = derivada.replace(x, x0)\n",
        "    xLine = x0 - (function(x0) / functionLine)\n",
        "    x0 = xLine\n",
        "    fxLine = function(xLine)\n",
        "    values.append(xLine)\n",
        "    counter = counter + 1\n",
        "    while (abs(fxLine) > precision) or (counter > interacoes):\n",
        "      functionLine = derivada.replace(x, x0)\n",
        "      xLine = x0 - (function(x0) / functionLine)\n",
        "      x0 = xLine\n",
        "      fxLine = function(xLine)\n",
        "      values.append(xLine)\n",
        "      counter = counter + 1\n",
        "    print(\"Raiz encontrada: \", xLine)\n",
        "    print(\"Quantidade de Interações Newton-Raphson: \", counter)\n",
        "    fim = time.time()\n",
        "    print(\"Tempo de exucção da função: \", fim - inicio)"
      ],
      "metadata": {
        "id": "tDVJ-KeLa6WZ"
      },
      "execution_count": null,
      "outputs": []
    },
    {
      "cell_type": "markdown",
      "source": [
        "***Secante***"
      ],
      "metadata": {
        "id": "Pc2b5dmld6As"
      }
    },
    {
      "cell_type": "code",
      "source": [
        "# Secante\n",
        "\n",
        "def metdSecante(function, x0, x1, precision):\n",
        "  inicio = time.time()\n",
        "  counter = 0\n",
        "  if abs(function(x0)) < precision:\n",
        "    print(\"Resultado Final\")\n",
        "    print(x0)\n",
        "    print(\"Quantidade de Interações Secante: \", counter)\n",
        "    values.append(counter)\n",
        "    fim = time.time()\n",
        "    print(\"Tempo de exucção da função: \", fim - inicio)\n",
        "    return None\n",
        "\n",
        "  xLine0 = function(x0)\n",
        "  xLine1 = function(x1)\n",
        "  counter = counter + 1\n",
        "  x2 = x1 - ((xLine1 * (x1 - x0)) / (xLine1 - xLine0))\n",
        "  xLine2 = function(x2)\n",
        "  counter = counter + 1\n",
        "  x0 = x1\n",
        "  x1 = x2\n",
        "  values.append(x2)\n",
        "  while abs(xLine2) > precision:\n",
        "      xLine0 = function(x0)\n",
        "      xLine1 = function(x1)\n",
        "      x2 = x1 - ((xLine1 * (x1 - x0)) / (xLine1 - xLine0))\n",
        "      xLine2 = function(x2)\n",
        "      counter = counter + 1\n",
        "      x0 = x1\n",
        "      x1 = x2\n",
        "      values.append(x2)\n",
        "  print(\"Raiz encontrada: \", x2)\n",
        "  print(\"Quantidade de Interações Secante: \", counter)\n",
        "  fim = time.time()\n",
        "  print(\"Tempo de exucção da função: \", fim - inicio)"
      ],
      "metadata": {
        "id": "dlRMBKN9a6ay"
      },
      "execution_count": null,
      "outputs": []
    },
    {
      "cell_type": "markdown",
      "source": [
        "***Show the Graphics***"
      ],
      "metadata": {
        "id": "PrEFqi3FfCq8"
      }
    },
    {
      "cell_type": "code",
      "source": [
        "def showGraphics(function, initial, final, numberPoints, title, finalPoint=0):\n",
        "  curva = np.linspace(initial, final, numberPoints)\n",
        "  valores = [function(valor) for valor in curva]\n",
        "  plt.title(title, fontsize=10)\n",
        "  plt.xlabel('x')\n",
        "  plt.ylabel('y')\n",
        "  plt.axhline(0, color='k')\n",
        "  #plt.axvline(0, color='k')\n",
        "  plt.plot(curva, valores, linestyle='-')\n",
        "  #plt.plot(curva, valores, line)\n",
        "  if finalPoint != 0:\n",
        "    finalPoint = float(\"{:.10f}\".format(finalPoint))\n",
        "    curva_Two = np.linspace(finalPoint, finalPoint, 1)\n",
        "    valores_Two = [function(valor) for valor in curva_Two]\n",
        "    plt.plot(curva_Two, valores_Two, 'ro')\n",
        "  plt.show()\n",
        "  values.clear()"
      ],
      "metadata": {
        "id": "to1WI-sPfFYL"
      },
      "execution_count": null,
      "outputs": []
    },
    {
      "cell_type": "markdown",
      "source": [
        "#Exercicios"
      ],
      "metadata": {
        "id": "cE26Bb83bPs_"
      }
    },
    {
      "cell_type": "markdown",
      "source": [
        "#Questão 1"
      ],
      "metadata": {
        "id": "2BgKYJwAhslV"
      }
    },
    {
      "cell_type": "markdown",
      "source": [
        "***1. A equação de Kepler, usada para determinar órbitas de satélites é dada por: M = x – E sen(x) . Dado que E = 0.2 e M = 0.5, obtenha a raiz da equação de Kepler usando o método da Bissecção. Considere a = 0.0, b = 2.0 e e = 10^-3***"
      ],
      "metadata": {
        "id": "km0O-vNocTqj"
      }
    },
    {
      "cell_type": "code",
      "source": [
        "question_One = lambda x : x - 0.2 * sin(x) - 0.5\n",
        "metdBissec(question_One, 0, 2.0, 10**-3)\n",
        "valor = values[len(values)-1]\n",
        "showGraphics(question_One, 0, 2, 10, 'x - 0.2 * sin(x) - 0.5', valor)"
      ],
      "metadata": {
        "colab": {
          "base_uri": "https://localhost:8080/",
          "height": 106
        },
        "id": "9TQYEqZ_cdQS",
        "outputId": "eaed11e6-1dcc-4261-d6a1-aed85349cda7"
      },
      "execution_count": null,
      "outputs": [
        {
          "output_type": "stream",
          "name": "stdout",
          "text": [
            "Raiz encontrada:  0.615234375\n",
            "Quantidade de Interações Falsa posição:  9\n",
            "Tempo de exucção da função:  0.3832817077636719\n"
          ]
        },
        {
          "output_type": "display_data",
          "data": {
            "text/plain": [
              "<Figure size 432x288 with 1 Axes>"
            ],
            "image/png": "[encoded data removed]"
          },
          "metadata": {
            "needs_background": "light"
          }
        }
      ]
    },
    {
      "cell_type": "markdown",
      "source": [
        "#Questão 2"
      ],
      "metadata": {
        "id": "vrr38eIlhpm4"
      }
    },
    {
      "cell_type": "markdown",
      "source": [
        "***2. Em problemas de fluxo em tubulações, é frequente precisar resolver a equação:\n",
        "c5 D5 + c1 D + c0 = 0. Se c5 = 1000, c1 = −3 e c0 = 9.04, determine a raiz usando o método de Newton-Raphson. Considere x0 = -0.5 e e = 10-3***"
      ],
      "metadata": {
        "id": "R1rkyGyxfKS-"
      }
    },
    {
      "cell_type": "code",
      "source": [
        "derivade = 1000 * x ** 5 -3 * x + 9.04\n",
        "question_Two = lambda x: 1000 * x ** 5 -3 * x + 9.04\n",
        "metdNewtons(derivade, question_Two, -0.5, 10**-3, 1000)\n",
        "valor = values[len(values)-1]\n",
        "showGraphics(question_Two, -0.5, 2, 10, '1000 * x ** 5 -3 * x + 9.04', valor)"
      ],
      "metadata": {
        "colab": {
          "base_uri": "https://localhost:8080/",
          "height": 106
        },
        "id": "CXuzl_98fWo7",
        "outputId": "42526d8c-0774-40cf-fddd-fbf2376b9e47"
      },
      "execution_count": null,
      "outputs": [
        {
          "output_type": "stream",
          "name": "stdout",
          "text": [
            "Raiz encontrada:  -0.400000065802437\n",
            "Quantidade de Interações Newton-Raphson:  5\n",
            "Tempo de exucção da função:  0.04447007179260254\n"
          ]
        },
        {
          "output_type": "display_data",
          "data": {
            "text/plain": [
              "<Figure size 432x288 with 1 Axes>"
            ],
            "image/png": "[encoded data removed]"
          },
          "metadata": {
            "needs_background": "light"
          }
        }
      ]
    },
    {
      "cell_type": "markdown",
      "source": [
        "#Questão 3"
      ],
      "metadata": {
        "id": "MLOFUAiZhvdt"
      }
    },
    {
      "cell_type": "markdown",
      "source": [
        "***3. Em engenharia ambiental, a equação que se segue pode ser usada para calcular\n",
        "o nível de oxigênio, c, existente num rio a jusante de um local de descarga de\n",
        "esgoto, c = 10 − 15(e−0.1x − e−0.5x), em que x representa a distância a partir do local de descarga. Usando um método à sua escolha, determine o local (a partir da descarga) em que o nível de oxigênio atinge o valor 4. Considere [-1.0,1.0] e e = 10^-3***"
      ],
      "metadata": {
        "id": "uOTqRMd8hO70"
      }
    },
    {
      "cell_type": "code",
      "source": [
        "function_Three = lambda x : 10 - 15 * (math.e ** (-0.1 * x) - math.e ** (-0.5 * x)) - 4\n",
        "derivade_Two = 10 - 15 * (math.e ** (-0.1 * x) - math.e ** (-0.5 * x)) - 4\n",
        "\n",
        "\n",
        "print(\"Falsa Posição\")\n",
        "metdFalsePosition(function_Three, -1.0, 1.0, 10**-3)\n",
        "valor = values[len(values)-1]\n",
        "showGraphics(function_Three, -0.5, 2, 10, '10 - 15 * (math.e ** (-0.1 * x) - math.e ** (-0.5 * x)) - 4')\n",
        "print(\"\")\n",
        "print(\"\")\n",
        "print(\"\")\n",
        "\n"
      ],
      "metadata": {
        "colab": {
          "base_uri": "https://localhost:8080/",
          "height": 415
        },
        "id": "lwAFacv2h0pK",
        "outputId": "270ce5e4-9ec4-488c-c8bb-e828f645afa5"
      },
      "execution_count": null,
      "outputs": [
        {
          "output_type": "stream",
          "name": "stdout",
          "text": [
            "Falsa Posição\n",
            "Método falhou\n",
            "Quantidade de Interações Falsa Posição:  0\n",
            "Tempo de exucção da função:  0.0012238025665283203\n"
          ]
        },
        {
          "output_type": "display_data",
          "data": {
            "text/plain": [
              "<Figure size 432x288 with 1 Axes>"
            ],
            "image/png": "[encoded data removed]"
          },
          "metadata": {
            "needs_background": "light"
          }
        },
        {
          "output_type": "stream",
          "name": "stdout",
          "text": [
            "\n",
            "\n",
            "\n"
          ]
        }
      ]
    },
    {
      "cell_type": "markdown",
      "source": [
        "***Método da Falsa Posição não encontrou a raiz no intervalo [-1.0,1.0] para a função c = 10 − 15(e−0.1x − e−0.5x).***"
      ],
      "metadata": {
        "id": "AhBnGL0w1jwx"
      }
    },
    {
      "cell_type": "markdown",
      "source": [
        "#Questão 4"
      ],
      "metadata": {
        "id": "u3bFqeK9h1bN"
      }
    },
    {
      "cell_type": "markdown",
      "source": [
        "***Determine a raiz real de f(x)= 2x4 + 4x3 + 3x2 – 10x – 15***"
      ],
      "metadata": {
        "id": "K-4mNt8Dh3g0"
      }
    },
    {
      "cell_type": "code",
      "source": [
        "function = lambda x : 2*x**4 + 4*x**3 + 3*x**2 - 10*x - 15\n",
        "derivade = 2*x**4 + 4*x**3 + 3*x**2 - 10*x - 15"
      ],
      "metadata": {
        "id": "MKwW88tnqzZc"
      },
      "execution_count": null,
      "outputs": []
    },
    {
      "cell_type": "markdown",
      "source": [
        "***a) Graficamente***\n"
      ],
      "metadata": {
        "id": "jwQfYz2VqccD"
      }
    },
    {
      "cell_type": "code",
      "source": [
        "showGraphics(function, 0, 10, 10, '2*x**4 + 4*x**3 + 3*x**2 - 10*x - 15')"
      ],
      "metadata": {
        "id": "hg6zra4yqdEm",
        "colab": {
          "base_uri": "https://localhost:8080/",
          "height": 293
        },
        "outputId": "3b931439-a315-4a8d-beec-f71be34c3ed2"
      },
      "execution_count": null,
      "outputs": [
        {
          "output_type": "display_data",
          "data": {
            "text/plain": [
              "<Figure size 432x288 with 1 Axes>"
            ],
            "image/png": "[encoded data removed]"
          },
          "metadata": {
            "needs_background": "light"
          }
        }
      ]
    },
    {
      "cell_type": "markdown",
      "source": [
        "***b) Usando o Método de Bissecção (e = 10-10, a = 0.0, b = 3.0)***"
      ],
      "metadata": {
        "id": "pbcihlN6qdf2"
      }
    },
    {
      "cell_type": "code",
      "source": [
        "# B)\n",
        "print(\"Bissecção\")\n",
        "metdBissec(function, 0.0, 3.0, 10**-10)\n",
        "valor = values[len(values)-1]\n",
        "showGraphics(function, -5, 0, 10, 'sin(x) * x + 4', valor)"
      ],
      "metadata": {
        "colab": {
          "base_uri": "https://localhost:8080/",
          "height": 362
        },
        "id": "-oetQclLh3x2",
        "outputId": "8674882b-a0e8-48d7-b4c5-4cfd27cd7613"
      },
      "execution_count": null,
      "outputs": [
        {
          "output_type": "stream",
          "name": "stdout",
          "text": [
            "Bissecção\n",
            "Raiz encontrada:  1.492878708664648\n",
            "Quantidade de Interações Falsa posição:  37\n",
            "Tempo de exucção da função:  0.0005793571472167969\n"
          ]
        },
        {
          "output_type": "display_data",
          "data": {
            "text/plain": [
              "<Figure size 432x288 with 1 Axes>"
            ],
            "image/png": "[encoded data removed]"
          },
          "metadata": {
            "needs_background": "light"
          }
        }
      ]
    },
    {
      "cell_type": "markdown",
      "source": [
        "***c) Usando o Método da Falsa Posição(e = 10-10, a = 0.0 e b = 3.0)***"
      ],
      "metadata": {
        "id": "_1dFFbV9qgfN"
      }
    },
    {
      "cell_type": "code",
      "source": [
        "#C)\n",
        "print(\"Falsa Posição\")\n",
        "metdFalsePosition(function, 0.0, 3.0, 10**-10)\n",
        "valor = values[len(values)-1]\n",
        "showGraphics(function, -5, 0, 10, 'sin(x) * x + 4', valor)"
      ],
      "metadata": {
        "colab": {
          "base_uri": "https://localhost:8080/",
          "height": 362
        },
        "id": "-wo7f3O5qhj-",
        "outputId": "65fc950e-51fc-4dae-9430-6959ffac7d6f"
      },
      "execution_count": null,
      "outputs": [
        {
          "output_type": "stream",
          "name": "stdout",
          "text": [
            "Falsa Posição\n",
            "Raiz encontrada:  1.492878708662261\n",
            "Quantidade de Interações Falsa posição:  77\n",
            "Tempo de exucção da função:  0.0005922317504882812\n"
          ]
        },
        {
          "output_type": "display_data",
          "data": {
            "text/plain": [
              "<Figure size 432x288 with 1 Axes>"
            ],
            "image/png": "[encoded data removed]"
          },
          "metadata": {
            "needs_background": "light"
          }
        }
      ]
    },
    {
      "cell_type": "markdown",
      "source": [
        "***d) Usando o Método de Newton-Raphson (e = 10-10, x0 = 3.0)***"
      ],
      "metadata": {
        "id": "pOSprIo5qkQd"
      }
    },
    {
      "cell_type": "code",
      "source": [
        "#D\n",
        "print(\"Newton-Raphson\")\n",
        "metdNewtons(derivade, function, 1.5, 10**-10, 1000)\n",
        "valor = values[len(values)-1]\n",
        "showGraphics(function, -5, 0, 10, 'sin(x) * x + 4', valor)"
      ],
      "metadata": {
        "colab": {
          "base_uri": "https://localhost:8080/",
          "height": 362
        },
        "id": "VO9cwLCyqk1t",
        "outputId": "80e8de10-134a-4612-ed60-6c26f7cb9516"
      },
      "execution_count": null,
      "outputs": [
        {
          "output_type": "stream",
          "name": "stdout",
          "text": [
            "Newton-Raphson\n",
            "Raiz encontrada:  1.49287870866360\n",
            "Quantidade de Interações Newton-Raphson:  4\n",
            "Tempo de exucção da função:  0.00934457778930664\n"
          ]
        },
        {
          "output_type": "display_data",
          "data": {
            "text/plain": [
              "<Figure size 432x288 with 1 Axes>"
            ],
            "image/png": "[encoded data removed]"
          },
          "metadata": {
            "needs_background": "light"
          }
        }
      ]
    },
    {
      "cell_type": "markdown",
      "source": [
        "\n",
        "***e) Usando o Método da Secante (e = 10-10, x0 = 0.0 e x1 = 3.0)***\n"
      ],
      "metadata": {
        "id": "wjE3UI8XqmBN"
      }
    },
    {
      "cell_type": "code",
      "source": [
        "#E\n",
        "print(\"Secante\")\n",
        "metdSecante(function, 0.0, 3.0, 10**-10)\n",
        "valor = values[len(values)-1]\n",
        "showGraphics(function, -5, 0, 10, 'sin(x) * x + 4', valor)"
      ],
      "metadata": {
        "colab": {
          "base_uri": "https://localhost:8080/",
          "height": 362
        },
        "id": "vevWuTEBqqa9",
        "outputId": "bd9303e7-92be-439f-d827-c8125454e9dc"
      },
      "execution_count": null,
      "outputs": [
        {
          "output_type": "stream",
          "name": "stdout",
          "text": [
            "Secante\n",
            "Raiz encontrada:  -1.300384132642908\n",
            "Quantidade de Interações Secante:  11\n",
            "Tempo de exucção da função:  0.0013518333435058594\n"
          ]
        },
        {
          "output_type": "display_data",
          "data": {
            "text/plain": [
              "<Figure size 432x288 with 1 Axes>"
            ],
            "image/png": "[encoded data removed]"
          },
          "metadata": {
            "needs_background": "light"
          }
        }
      ]
    },
    {
      "cell_type": "markdown",
      "source": [
        "***f) Compare e explique os resultados obtidos nas letras b, c, d, e (por exemplo: rapidez da convergência e esforço computacional)***"
      ],
      "metadata": {
        "id": "zM9Uy8KbqrF3"
      }
    },
    {
      "cell_type": "markdown",
      "source": [
        "***R:*** De acordo com o tempo de execução e o número de iterações realizadas por cada método, o método que teve o melhor resultado foi a Secante, por conta da quantidade iterações realizadas e consequentemente um resultado mais acertivo devido á pouca perda de valores nas casas decimais, e o tempo de execução foi o menor entre os demais métodos."
      ],
      "metadata": {
        "id": "_eFPCOfYqubt"
      }
    },
    {
      "cell_type": "markdown",
      "source": [
        "#Questão 5"
      ],
      "metadata": {
        "id": "wD3Boy6Uh49e"
      }
    },
    {
      "cell_type": "markdown",
      "source": [
        "***Determine a raiz real de f(x)= sen(x) x + 4***\n"
      ],
      "metadata": {
        "id": "x3h9skEAh5pV"
      }
    },
    {
      "cell_type": "code",
      "source": [
        "function = lambda x: sin(x) * x + 4\n",
        "derivade = sin(x) * x + 4"
      ],
      "metadata": {
        "id": "wIhdC-goqSm4"
      },
      "execution_count": null,
      "outputs": []
    },
    {
      "cell_type": "markdown",
      "source": [
        "***a) Graficamente***"
      ],
      "metadata": {
        "id": "wO1f0Jl9p2r4"
      }
    },
    {
      "cell_type": "code",
      "source": [
        "showGraphics(function, -5, 0, 10, 'sin(x) * x + 4')"
      ],
      "metadata": {
        "id": "ob4ecs9Qp4gx",
        "colab": {
          "base_uri": "https://localhost:8080/",
          "height": 293
        },
        "outputId": "7f4c3dde-c576-4f3f-bb62-9cd00ec17713"
      },
      "execution_count": null,
      "outputs": [
        {
          "output_type": "display_data",
          "data": {
            "text/plain": [
              "<Figure size 432x288 with 1 Axes>"
            ],
            "image/png": "[encoded data removed]"
          },
          "metadata": {
            "needs_background": "light"
          }
        }
      ]
    },
    {
      "cell_type": "markdown",
      "source": [
        "***b) Usando o Método de Bissecção (e = 10-10, a = 1.0, b = 5.0)***"
      ],
      "metadata": {
        "id": "hzGUe3J9p490"
      }
    },
    {
      "cell_type": "code",
      "source": [
        "\n",
        "# B)\n",
        "print(\"Bissecção\")\n",
        "metdBissec(function, 1.0, 5.0, 10**-10)\n",
        "valor = values[len(values)-1]\n",
        "showGraphics(function, -5, 0, 10, 'sin(x) * x + 4', valor)"
      ],
      "metadata": {
        "colab": {
          "base_uri": "https://localhost:8080/",
          "height": 362
        },
        "id": "HF3AMurch5-1",
        "outputId": "5e831d7b-9bac-4c98-f1a9-5b64f5c6e2b9"
      },
      "execution_count": null,
      "outputs": [
        {
          "output_type": "stream",
          "name": "stdout",
          "text": [
            "Bissecção\n",
            "Raiz encontrada:  4.323239543708041\n",
            "Quantidade de Interações Falsa posição:  33\n",
            "Tempo de exucção da função:  0.00928807258605957\n"
          ]
        },
        {
          "output_type": "display_data",
          "data": {
            "text/plain": [
              "<Figure size 432x288 with 1 Axes>"
            ],
            "image/png": "[encoded data removed]"
          },
          "metadata": {
            "needs_background": "light"
          }
        }
      ]
    },
    {
      "cell_type": "markdown",
      "source": [
        "***c) Usando o Método da Falsa Posição(e = 10-10, a = 1.0 e b = 5.0)***"
      ],
      "metadata": {
        "id": "L4acvHdxp9_Z"
      }
    },
    {
      "cell_type": "code",
      "source": [
        "#C)\n",
        "print(\"Falsa Posição\")\n",
        "metdFalsePosition(function,  1.0, 5.0, 10**-10)\n",
        "valor = values[len(values)-1]\n",
        "showGraphics(function, -5, 0, 10, 'sin(x) * x + 4', valor)"
      ],
      "metadata": {
        "colab": {
          "base_uri": "https://localhost:8080/",
          "height": 362
        },
        "id": "zim0Fqn_qAsI",
        "outputId": "22cf5b34-48de-4be9-e3a9-871df2454790"
      },
      "execution_count": null,
      "outputs": [
        {
          "output_type": "stream",
          "name": "stdout",
          "text": [
            "Falsa Posição\n",
            "Raiz encontrada:  4.32323954373313\n",
            "Quantidade de Interações Falsa posição:  8\n",
            "Tempo de exucção da função:  0.003106832504272461\n"
          ]
        },
        {
          "output_type": "display_data",
          "data": {
            "text/plain": [
              "<Figure size 432x288 with 1 Axes>"
            ],
            "image/png": "[encoded data removed]"
          },
          "metadata": {
            "needs_background": "light"
          }
        }
      ]
    },
    {
      "cell_type": "markdown",
      "source": [
        "***d) Usando o Método de Newton-Raphson (e = 10-10, x0 = 1.0)***"
      ],
      "metadata": {
        "id": "_t-Tn3vVqDnY"
      }
    },
    {
      "cell_type": "code",
      "source": [
        "#D\n",
        "print(\"Newton-Raphson\")\n",
        "metdNewtons(derivade, function, 1.5, 10**-10, 1000)\n",
        "valor = values[len(values)-1]\n",
        "showGraphics(function, -5, 0, 10, 'sin(x) * x + 4', valor)"
      ],
      "metadata": {
        "colab": {
          "base_uri": "https://localhost:8080/",
          "height": 362
        },
        "id": "PmaKadorqFUK",
        "outputId": "5454bbd3-4371-4507-bd53-d9ec12499d2b"
      },
      "execution_count": null,
      "outputs": [
        {
          "output_type": "stream",
          "name": "stdout",
          "text": [
            "Newton-Raphson\n",
            "Raiz encontrada:  -4.32323954371122\n",
            "Quantidade de Interações Newton-Raphson:  6\n",
            "Tempo de exucção da função:  0.01167750358581543\n"
          ]
        },
        {
          "output_type": "display_data",
          "data": {
            "text/plain": [
              "<Figure size 432x288 with 1 Axes>"
            ],
            "image/png": "[encoded data removed]"
          },
          "metadata": {
            "needs_background": "light"
          }
        }
      ]
    },
    {
      "cell_type": "markdown",
      "source": [
        "***e) Usando o Método da Secante (e = 10-10, x0 = 1.0 e x1 = 5.0)***"
      ],
      "metadata": {
        "id": "-Lndmdq1qHpQ"
      }
    },
    {
      "cell_type": "code",
      "source": [
        "#E\n",
        "print(\"Secante\")\n",
        "metdSecante(function,  1.0, 5.0, 10**-10)\n",
        "valor = values[len(values)-1]\n",
        "showGraphics(function, -5, 0, 10, 'sin(x) * x + 4', valor)"
      ],
      "metadata": {
        "colab": {
          "base_uri": "https://localhost:8080/",
          "height": 362
        },
        "id": "lSCguGoYqI3o",
        "outputId": "b60907f5-8e1c-4180-d5e4-14d3058c42ef"
      },
      "execution_count": null,
      "outputs": [
        {
          "output_type": "stream",
          "name": "stdout",
          "text": [
            "Secante\n",
            "Raiz encontrada:  4.32323954371374\n",
            "Quantidade de Interações Secante:  8\n",
            "Tempo de exucção da função:  0.002150297164916992\n"
          ]
        },
        {
          "output_type": "display_data",
          "data": {
            "text/plain": [
              "<Figure size 432x288 with 1 Axes>"
            ],
            "image/png": "[encoded data removed]"
          },
          "metadata": {
            "needs_background": "light"
          }
        }
      ]
    },
    {
      "cell_type": "markdown",
      "source": [
        "***f) Compare e explique os resultados obtidos nas letras b, c, d, e (por exemplo: rapidez da convergência e esforço computacional)***"
      ],
      "metadata": {
        "id": "IyroKNt5qKwH"
      }
    },
    {
      "cell_type": "markdown",
      "source": [
        "***R:*** De acordo com o tempo de execução e o número de iterações realizadas por cada método, o método que teve o melhor resultado foi a Falsa Posição, devido a pouca quantidade de iterações e o menor tempo de execução entre os demais métodos."
      ],
      "metadata": {
        "id": "ruJvg5JUqNCY"
      }
    }
  ]
}