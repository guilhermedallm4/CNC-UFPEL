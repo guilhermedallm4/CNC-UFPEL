{
  "nbformat": 4,
  "nbformat_minor": 0,
  "metadata": {
    "colab": {
      "provenance": []
    },
    "kernelspec": {
      "name": "python3",
      "display_name": "Python 3"
    },
    "language_info": {
      "name": "python"
    }
  },
  "cells": [
    {
      "cell_type": "markdown",
      "source": [
        "#Relatório 2 - Cálculo Numérico Computacional\n",
        "##Nome: Guilherme Dallmann Lima\n",
        "##Matricula: 19200035\n",
        "##Turma: T2"
      ],
      "metadata": {
        "id": "QWdADAmOVutw"
      }
    },
    {
      "cell_type": "markdown",
      "source": [
        "#Implementação dos Métodos e Bibliotecas"
      ],
      "metadata": {
        "id": "sheVPLo_VeCv"
      }
    },
    {
      "cell_type": "code",
      "execution_count": null,
      "metadata": {
        "id": "JWMuecGHUQsR"
      },
      "outputs": [],
      "source": [
        "import math\n",
        "import matplotlib.pyplot as plt\n",
        "import pandas as pd\n",
        "import numpy as np\n",
        "from sympy import *\n",
        "import time\n",
        "x = Symbol('x')\n",
        "values = []"
      ]
    },
    {
      "cell_type": "markdown",
      "source": [
        "***Show Graphics***"
      ],
      "metadata": {
        "id": "fW9YarlmUXhP"
      }
    },
    {
      "cell_type": "code",
      "source": [
        "def plot_two_functions(function1, function2, initial, final, numberPoints, title, xlabel, ylabel, label1, label2, point=None):\n",
        "    curva = np.linspace(initial, final, numberPoints)\n",
        "    valores1 = [function1(valor) for valor in curva]\n",
        "    valores2 = [function2(valor) for valor in curva]\n",
        "    plt.title(title, fontsize=10)\n",
        "    plt.xlabel(xlabel)\n",
        "    plt.ylabel(ylabel)\n",
        "    plt.axhline(0, color='k')\n",
        "    plt.plot(curva, valores1, linestyle='-', label=label1)\n",
        "    plt.plot(curva, valores2, linestyle='-', label=label2)\n",
        "    if point:\n",
        "        plt.plot(point[0], point[1], 'ro')\n",
        "    plt.legend()\n",
        "    plt.show()"
      ],
      "metadata": {
        "id": "FFj-fB-dUaHw"
      },
      "execution_count": null,
      "outputs": []
    },
    {
      "cell_type": "markdown",
      "source": [
        "***Pivotação Parcial***"
      ],
      "metadata": {
        "id": "2ugS58LeUdwY"
      }
    },
    {
      "cell_type": "code",
      "source": [
        "def pivotacao(j, matrizA, n, p):\n",
        "  aMax = abs(matrizA[j][j])\n",
        "  for k in range(j+1, n):\n",
        "    if(abs(matrizA[k][j]) > aMax):\n",
        "\n",
        "      aMax = matrizA[k][j]\n",
        "      p = k\n",
        "\n",
        "  return aMax, p"
      ],
      "metadata": {
        "id": "IIsVUehdUlqy"
      },
      "execution_count": null,
      "outputs": []
    },
    {
      "cell_type": "markdown",
      "source": [
        "***Gaussiana***"
      ],
      "metadata": {
        "id": "KmbD0LlMUmQU"
      }
    },
    {
      "cell_type": "code",
      "source": [
        "def Gaussiana(matrizA, b, n, pivot=True):\n",
        "  det = 1\n",
        "  info = 0\n",
        "  for j in range(n):\n",
        "    p = j\n",
        "    aMax = abs(matrizA[j][j])\n",
        "\n",
        "    if(pivot):\n",
        "        aMax, p = pivotacao(j, matrizA, n, p)\n",
        "        #for k in range(j+1, n):\n",
        "\n",
        "          #if(abs(matrizA[k][j]) > aMax):\n",
        "            #aMax = matrizA[k][j]\n",
        "            #p = k\n",
        "    if p != j:\n",
        "        for k in range(n):\n",
        "          t = matrizA[j][k]\n",
        "          matrizA[j][k] = matrizA[p][k]\n",
        "          matrizA[p][k] = t\n",
        "        t = b[j]\n",
        "        b[j] = b[p]\n",
        "        b[p] = t\n",
        "        det  = (det * -1)\n",
        "    det = det * matrizA[j][j]\n",
        "    if abs(matrizA[j][j]) != 0:\n",
        "        r = 1/matrizA[j][j]\n",
        "        for i in range(j+1, n):\n",
        "          mult = matrizA[i][j] * r\n",
        "          matrizA[i][j] = 0\n",
        "          for k in range(j+1, n):\n",
        "            matrizA[i][k] = matrizA[i][k] - (mult * matrizA[j][k])\n",
        "          b[i] = b[i] - (mult * b[j])\n",
        "    else:\n",
        "      if info == 0:\n",
        "          info = j\n",
        "  det = det * matrizA[n-1][n-1]\n",
        "  if(info == 0 and abs(matrizA[n-1][n-1])):\n",
        "      info = n\n",
        "  return matrizA, b, det, info\n"
      ],
      "metadata": {
        "id": "kSLRb0rUUoWW"
      },
      "execution_count": null,
      "outputs": []
    },
    {
      "cell_type": "markdown",
      "source": [
        "***FatoracaoLU***"
      ],
      "metadata": {
        "id": "Mi3ZUhRAUw-X"
      }
    },
    {
      "cell_type": "code",
      "source": [
        "def FatoracaoLU(A, b, n):\n",
        "\n",
        "  L = np.identity(n)\n",
        "  U = np.copy(A)\n",
        "\n",
        "  info = 0\n",
        "  PdU = 1\n",
        "\n",
        "  for j in range (n):\n",
        "    p = j\n",
        "    PdU = PdU * U[j][j]\n",
        "\n",
        "    if (abs(U[j][j]) != 0):\n",
        "      r = 1 / U[j][j]\n",
        "      for i in range (j+1, n):\n",
        "        mult = U[i][j] * r\n",
        "        L[i][j] = mult\n",
        "        U[i][j] = 0\n",
        "        for k in range (j+1, n):\n",
        "          U[i][k] = U[i][k] - mult * U[j][k]\n",
        "        b[i] = b[i] - mult * b[j]\n",
        "    else:\n",
        "      if info == 0:\n",
        "        info = j\n",
        "\n",
        "  return L, U, b"
      ],
      "metadata": {
        "id": "SQycea-_VHrM"
      },
      "execution_count": null,
      "outputs": []
    },
    {
      "cell_type": "markdown",
      "source": [
        "***Cholesky***"
      ],
      "metadata": {
        "id": "Z2XcokXpVIr9"
      }
    },
    {
      "cell_type": "code",
      "source": [
        "def cholesky(n , A):\n",
        "    G = np.zeros((n, n))\n",
        "    for i in range(n):\n",
        "        for j in range(i+1):\n",
        "            if j == i:\n",
        "                sum = 0\n",
        "                for k in range(j):\n",
        "                    sum += G[j][k]**2\n",
        "                G[j][j] = np.sqrt(A[j][j] - sum)\n",
        "            else:\n",
        "                sum = 0\n",
        "                for k in range(j):\n",
        "                    sum += G[i][k] * G[j][k]\n",
        "                G[i][j] = (A[i][j] - sum) / G[j][j]\n",
        "    return G, G.T"
      ],
      "metadata": {
        "id": "DDamcul9VL3e"
      },
      "execution_count": null,
      "outputs": []
    },
    {
      "cell_type": "markdown",
      "source": [
        "***Gaus Jacobi***"
      ],
      "metadata": {
        "id": "DE2FRI4tVTKJ"
      }
    },
    {
      "cell_type": "code",
      "source": [
        "def gausJacobi(n, A, b, toler, iterMax):\n",
        "  x = [0]*n\n",
        "  v = [0]*n\n",
        "  for i in range(n):\n",
        "    x[i] = b[i]/A[i][i]\n",
        "  iter = 0\n",
        "  true = True\n",
        "  while true:\n",
        "    iter = iter + 1\n",
        "    for i in range(n):\n",
        "      soma = 0\n",
        "      for j in range(n):\n",
        "        if i != j:\n",
        "          soma = soma + A[i][j]*x[j]\n",
        "      v[i] = (b[i] - soma)/A[i][i]\n",
        "    normaNum = 0\n",
        "    normaDen = 0\n",
        "    for i in range(n):\n",
        "      t = abs(v[i] - x[i])\n",
        "      if t > normaNum:\n",
        "        normaNum = t\n",
        "      if abs(v[i]) > normaDen:\n",
        "        normaDen = abs(v[i])\n",
        "      x[i] = v[i]\n",
        "    normaRel = normaNum/normaDen\n",
        "    #print(f\"Iteracao: {iter}\")\n",
        "    #print(f\"X: {x}\")\n",
        "    #print(f\"Norma Rel: {normaRel}\")\n",
        "    #print(\"======================\")\n",
        "    if (normaRel <= toler) or (iter >= iterMax):\n",
        "      true = False\n",
        "  if normaRel <= toler:\n",
        "    info = 0\n",
        "  else:\n",
        "    info = 1\n",
        "\n",
        "  return x, iter, info"
      ],
      "metadata": {
        "id": "h8MWhM_qVU-i"
      },
      "execution_count": null,
      "outputs": []
    },
    {
      "cell_type": "markdown",
      "source": [
        "***Gauss Seidel***"
      ],
      "metadata": {
        "id": "AMW-6FTxVXDa"
      }
    },
    {
      "cell_type": "code",
      "source": [
        "def gausSeidel(n, A, b, toler, iterMax):\n",
        "  x = [0]*n\n",
        "  v = [0]*n\n",
        "  for i in range(n):\n",
        "    x[i] = b[i]/A[i][i]\n",
        "  iter = 0\n",
        "  true = True\n",
        "  while true:\n",
        "    iter = iter + 1\n",
        "    normaNum = 0\n",
        "    normaDen = 0\n",
        "    for i in range(n):\n",
        "      soma = 0\n",
        "      for j in range(n):\n",
        "        if i != j:\n",
        "          soma = soma + (A[i][j] * x[j])\n",
        "      v[i] = x[i]\n",
        "      x[i] = (b[i] - soma)/A[i][i]\n",
        "      t = abs(v[i] - x[i])\n",
        "      if t > normaNum:\n",
        "        normaNum = t\n",
        "      if abs(x[i]) > normaDen:\n",
        "        normaDen = abs(x[i])\n",
        "    normaRel = normaNum / normaDen\n",
        "    #print(f\"Iteracao: {iter}\")\n",
        "    #print(f\"X: {x}\")\n",
        "    #print(f\"Norma Rel: {normaRel}\")\n",
        "    #print(\"======================\")\n",
        "    if(normaRel <= toler) or (iter >= iterMax):\n",
        "      true = False\n",
        "  if normaRel <= toler:\n",
        "    info = 0\n",
        "  else:\n",
        "    info = 1\n",
        "\n",
        "  return x, iter, info\n"
      ],
      "metadata": {
        "id": "wpVMn53n71LA"
      },
      "execution_count": null,
      "outputs": []
    },
    {
      "cell_type": "markdown",
      "source": [
        "#Questões"
      ],
      "metadata": {
        "id": "AOqbyEpmWJl2"
      }
    },
    {
      "cell_type": "markdown",
      "source": [
        "##***1) O circuito a seguir tem quatro resistências e duas fontes de voltagem. As resistências  são R1, R2, R3 e R4 ohms; as fontes de voltagem E1 e E2 volts; e as correntes são i1, i2 e i3 amperes.***\n",
        "\n",
        "\n",
        "![image.png](data:image/png;base64,iVBORw0KGgoAAAANSUhEUgAAA1UAAAHYCAYAAAClTsLpAAAgAElEQVR4nOzdZ3cc2Zng+f8Nm94g4Q1tFcmiL6uS1GqV1N0z5/S83Dm7+z129/1+o+2zO2d25vTp2VapVFKViix6UkUDWnggkd5FxN0XkQlkAglLkAWQz48HIDIyXEaGe+Le+1yltdYIIYQQQgghhNgX4+deASGEEEIIIYQ4yqzZuYWfex2EEEIIIYQQ4siSkiohhBBCCCGEeA0SVAkhhBBCCCHEa7B+7hUQQghxkDTd2YcU6mdbEyGEEOJ9ISVVQghxyOn2z07DhBBiv3T7nxBif6SkSgghDjENaBX+ofoO6y2XEkKI3ZEASoiDJCVVQghxiPW77ZFbISGEEOJwkZIqIYQ4xLYte1IadNB+YaBR7Sm0lFkJIXZBt0u7FWAQrJV9h787ZxQhxM4kqBJCiENMwRZFUxq0RmtN4HvUGx4tT2FaFq5jY9vG+vRCCLGRDh/K+F6LSrVGoGysSBTHcTCMdlAlxeJC7JoEVUIIcURsvL9RWqP9Fo1qibnFAuVqQCQWZzCXIZNOoLoiKgmuhBChdlmU1vjNJtVSnhev5mgZLtmhMXK5ASKOsaG9phBiJxJUCSHEEbCWnKJNaTB0gN+qU16Z5/n0DMtln0RqAJQikUxgmqDUemmXBFZCiJAG7dNsVFiafcnjh4+oEGPKN3HjSRwrgq10z4MZIcT2JKgSQogjS4PfwCsVKOaXWS4qGoHNYLVBgMLsjNP+LfdHQoh1AUGrTrmQZ2VpgSJJkiM1ap7GB+yfe/WEOGIkqBJCiCNirX1Dp/QJBWaESHqAoZEWRjwgnsyQSUYx2ynXe8cXQogOhelEyeSGGB0vkVIxhrIp4o7ZfiAjhNgLCaqEEOII6BcUaWWg7Ajx7AjHjQSDdR83EiOdSmKqruxdUvVPCNFFAygTJxJjYGyKD60YLWWTygyScE0MI9hpFkKIDdTM7Ly0RBRCiCNFr/+vA7QOaHmaVgCmYWKZJqa5HkZJQCXEe6a7p/BNdDhYa5QO0FrTaDbxMTBtF8syMZReeyAjhNgdKakSQohDJnyK3P0i1JONS2sgTKmuNZimibJMlDIwFJK5S4j32baHv24nrgnCBDiAbTtYhgmG0enqTgixRxJUCSHEIbR2T9P1qFjpTipkwv5lfI/A82i1PDwNynSxXRfbMteydkkplRDvh64mlH2Gts8b7WFaB3ieh+f5eC0fP9DYkSiW62AactYQYj8kqBJCiCPG95o061WqlSrlSoVKqUrdg0gyw+DQMNnMepsqIYQIhdWFW60G9VqVSrlMsVSnXG3S9AImpiYYyGUxXefnXlEhjiQJqoQQ4hDqxETdT5/DJ80B1XKB5YVZFhcWWFxepVSsY0RTjByzSQ4otGGiCaSUSgix3qmCDvBaTYoryyzMzzI/v8Byvkq5ZWBHY2SHh8koRUA7wc3PutZCHD3Gz70CQggheqk+P91c2yQVjxKLuPgtn9VCmVrDA9PCsCxQnVN7p8WEEOJdt1MgpBQYhkE04pKKR3FMg0q1wmqxgq8NDMsO22ZKKbcQ+yIlVUIIcYgpVCdXV7udlCIejxExApqNJrMLJbRZw43GSSZjuK4NBPQGU9L1rxDvJ7V+5CuFadukUikc5VEsFLBmljFMg3Q2RzQawzIMFFrOFkLsgwRVQghxyKmedFzhK7/VpF6tUWt4+MrGjcWIx6O4joHC75k+rDao15JX9LyHpF4X4v0QlmBrrfG8Jo1alWazgWGnyA0MEnVdTKUwtMbYlH20X+nV5hyjcg4R7zOp/ieEEEdQq9mgWq1Sa3pgR4nFE8SiLrYZpkoWQoh+gsCnUa1RrVZotVrYtk0ml8F2bGC7wEgjVYqF2JqUVAkhxJHQ9eg4CKjXa5QrZerNFm48SzKZImLbWAqMbavvdHUcvNYKw4B2nzXypFmIo023+6Fae90+qI32wFarRalSoVqroQyDWCJBMpnEtm0UfngO0L1zDMu0A8KqxQYakwCFbp9twuna1ZTf+CcU4nCSoEoIIY6E9SfEvu9Tr9WpVKq0fJ9IJk48mcSxLAw0hu69sVmv9te5OdI06nVWSxUaLU0sniQZj2GZoPrVERRCHAl6QylST393Omxr6XktSuUK1VoTy3JIpVNEXBdDdbW/6pqPQoelW406xWKBfL5AvemBYRGJpUhlsmTTSSxTSafj4r0mQZUQQhx6vUknWq0m1WqVer2ORhFNxIkn4tiWiUFP0/Su6TU68PFaTWqVIsvLy8wuFWjhMDZ+nEgkimUoecwsxDug82xkvexIAwFoj2azQbFUo1YPsN042WwGy+5k/dsQFOkAHfjUazVW8qssr6xQKhWp12o0PY1hR8lkh9DHJhnIJrEso30OEuL9I0GVEEIcCevtGWrtUqpmo4llhQFVLBbFsEy2au+ggCAIaDVqlAsrzL16zsuFIkRyJHMTBNLEVogjb2PambWjWmsM7aP9BvVajXK1Sd1TxJJxsgPZsJRJabTuzRWqCGg1G5SLJVaLJZo+JNNp4jGXQqFCvlCmUm5gGAax+GlipgNGe7m6u7RLwizx7pOgSgghDhnddVuz/jto36QEVCtVyuUanqeJxCMkE3Fc18FQYWYvYFOmPw0YhsJ1HIYGMhRXVphbrlHX0MJsB1WS4EKIo61fKTUorSHwCVp1KuUK5VoLD4tILEE2lcQyNFq3g6quWRhAs17H8zxi8SSZoSSJqIER1FlZKaJeLDI7n2d5aYnmySmiERtQaC2lVeL9I0GVEEIcSusp1NcFoJtU20+afUxisSjJRARTQRCAr8DcshafgWU72GaceCxKxHVoBHLrI8R7QWv8eo1yqUytGbSzhsZJRR2MoAHKIFDrJVzhoxyFsh1iSYOY5eBEI7gGKG3j+4rUap3V1Sqb+8YT4v0jQZUQQhw23fcmPUkmPHy/SbVao9bwwXCIxxPEXItqtUzFaxF3XeKxCIa5caYKlIHCxDAMDMNAqU5iivBH9/SHJYR4d2iU9vEaDcqVCo1A40TjJJIJTDxWFpZxIjEisSSO67TPBhowsd0oph2gTAPTNDBU+PRGa41hGMRjUbKDA7i2vVZC3jmrCPE+kaBKCCEOvQBFgNI+zWaTRqNBsxWAsrEsh1azyWqthm0oXMuCTcHR+p1OmC5Zdd30SN8zQrzzdKdNZZNatYoOfGzHwbBs8oUS+XyRTM4mEusEU+3zgVKYloWpNah2WnXfo16tUCwUaTSbRBIJhkZGsR0bpbrPLRJWifeLBFVCCHHI9LaHWk+DrtBoz6PV8vEC8IB6o0WpWMIxDaKpRNjXjOpfebAzt03L2/ZdIcSRsamwuesMoCHwwwyg2m+hA49avc5ivoShbGzbxTYU5oYy6zBQ0mgdEHgtmrUyK4sLLMwvk6+CmxzEsF1QRr8V6Cx67S0JtcS7StI9CSH60Fv8iLdj823HepCksCwby3FBKRr1Os16nWgkQjKZJBJxw3ubfrb5GuXbFeIdoDu/+h3sCmVYOLaNZZphVeJKlZavyQwOkUjEcSwLk/aDnY3JboKAZr3O6kqexbk5lhYWWVlZIb+6yvziErVGk0DrvkvWsJZZUIh3lZRUCXFk6O4Mte2qXG/umZ/Wmy9/B94xbNdDzb0vb/MNw7tLoTEJlIMViZMdHKLeMqjUm7jxOIOZJMODA8RjLrbRKdXqtz0kOBbifaSVgbJcnGSW4bEpfLdCC4tMMs7IYJbhgTS22ZVKvadESaGVgcbAR+EBZiRCLBal2ixTXHzK01aZZDKKaQ8RdW3Ax+w61xjI2Ue8+ySoEuII0Tqg2WyGdeG3LI44OIHW+J6PUgrTNDel6T7w5QU+vh9gGAamuSnTwnvOQGOjbIvhsUmSmUH8QGM5DpF4HNs2McMGUz/3igohDh2FNmyc1CBTpxPkJjy0sojGIsSiDqaxU9UlhWHZxOJJ3EiE3NAII8VV5mZe8uL5S1YKSywu50lkc7iugYm/xVyEeHdJUCXEEaC1xvc9yuUyjx8/5sSJk6RSKSzLRL2h4MrzPEqlMqureWKxGOl0mmg0yoFeFrvu/33fp1Ips7i4RCwaJZPJEIvHdzPpO3qh7nyqrq44lUIpiMRiOJFIe5DR7vT3Xd0OQojXphRgYlgG8YRNJAYoA8NUmMZu00oolGlimQaWZWObBspv0qxWyD+fp1ar4Xn+et1BHfRO+yY+lxCHiLSpEuII0EFAuVTm4U8P+S//z3/hwf37FAsFAr/TN8h+K1b0ny4INKVSiZ/+9je++eYb7t27x8rKCp7nvd4H2UIQBNRqNV69fMW3f/oT165dY25uDt/r/7Tz/dD93fR+T6ZpYts2tm1jWSYG6/3KqPY/IcT7SnX9dA8Ou1UwLRPbscLSbUPt8QrSPssYBrbtkIjFSScTRBwbQ3XnE9WvdWUS4iiSkiohDp3evG1aa5rNBi9fvuRP33zD1//+78Ta9dkjkQixeGwtXZzqLtXY+5LWhjcadWZmZvj+u+/48cYNzp07h+u6xONx0ul0V1un1715D9uJNZsNlpeXuHP3Dl//4Q/kBgZwbJvcQI5UJt23bdW7HTjs9jZkN+3K+s9Lr/3Wm169y1tWiPdTb1a+zjlfr7/YcKroeqCjNUFnRNV+aKMUCgMME9O0cR2XeCyKbRqwIVmFnE/E+0KCKiEOFb1+XWsnbvA8j3w+z927d/j6669p1Ot8++23jIyNMjg4iOM6WJ2+iQ7g6qW1Jr+ywk8PHnDjx+s8evSIVrNBNpshm80Si8VwHGcfn6ytezV12E6sVCrx5PFj/vrd9zx59IjZaJRcLsf4xDjnUxffu/ZVGxOSbA4hdxN06a7fnYC7/QxZr/+gu1+rcNmqM74Q4kjriaX6PZwKk1L0F3YY7HtNWl6Ap02U5eCYJoYR1u5reIpGYGJHYmTTKaK2iUmA0T6RdMrL3v3q2kJIUCXEoVetVrh37x4/fP89C/NzgGZxcYEfr11jZHiIRCJBJps9sOU1mg0ePnzId999x8yrVxAEvHrxgts3bzI8PMTIyDC53OCe57vVRbXRaDD76hU3b9zg+vVrNJoNPN/j+vVrZHM5Tpw4STKVeu3PJaATULU8j2bLw/P8MDlIs4XXauFb9lo1QiGEUNqnXiqwslqk6pm4yRyZZAzHUjQbdQqVBrXAZHBojKGBFFFbYbSTVHSfRySoEu8DCaqEOMSazQYzr2a4du0ad+/eXS/C0JoHDx4wNDTExMQk0VgM13XZazPJTvlHmM48bFT8+NEjbt68wdMn09SrNdDgtVq8eP6cH3/8kdzgIL/85a+6sgHu4RK5oZqJDgLm52a5desmt2/epFmvh081fZ/l5WVu377F8RPH+f3v/wHTNNrVAOWSvG5v2yLwA+q1KvmFWWbmFymVK9TxWZqfIW75jAxlSSfjuI79xjM9CiHegn6lUJ3ryG4Ocq2pVCu8mplhdqlMYLrkBjKk4hEsy8Q0HbK5IbLZDNGoi2mE02x8OLN2qZACcPEOk6BKiENFta87miAIyK+u8v3333Hn9m2KxWJPNY1yscT9e/cYGR0lm8sxMjoaBh6vsfRSscStGze5c+s2y0uL+MF6oojVQoHHDx8xPDzCxMQEk5NT+6oG2H1RXV1d5eFPD7l75w6vXryEQK9dfOv1Ok8eP+Hrr7/mwoWLDA7msG0Hw3j37/YPpj+w7oxe4UZXhoHtuCSyg5wwXYYmW3hYONE4iXiUWMzFtCR/kRBHVaeS707p0XeKbjpxV6AMYskMYxPgxivUPU08FiURDx/kOa5D1I0QjUbA6Ornqs8SJaAS7zoJqoQ4cHvrlFZvGF+hwvTi5Qo//fQT165f59WrV2itcRyb0ZFRFhcWqDcazM3O8uP165w8dYpILEY6lcIyzR2X2bN8HV6GA19z9+5dbt28ycsXL2g2mziOQzQaw/Na1BoNFhYWuHfnDmNjo6TTGTKZTLu9016CgLAKmu/5PH/6jNs3b/Lk0WNqtVq4vFiUVqtFvdFkdTXPvXv3+PrrP/D73/+egVwOZUh2u/1RGIaB7UZJu1EyA0NoFEFXljCttNz8CHFEaUD3TTqxQVexUXf7zX4Pc7SyiKeyuLEUg8MezZaPYRg4rotlWZim6nlwI+kpxPvM/N/+9//j//y5V6Lb2g1mT+m0HJziqNAbXrVLCHpzLbWHrf/umSbQ1Gs1Xrx4wf/4t3/jdruUynVdxkZH+Yd/+Efyq6vUqlXqjTrNVgtlGIyMjJBMJLBtZ88lHV7LY2Vlhf/7X/6FO7dvUSgUsB2H8fEJzp09i+NGaNTrlCsVarUafuAzPjFOKpXGcZxdHafdW8b3PPLLK/zlz9/y1+++49XLlximyeDgIOcvXCCeSNBoNKhWa7SaLWZn5/jgww/JZDLh8oz157BydtgNteXPxuTLCulrQ4ij6HXbLXVfN5QKX6t2Gnaj3TdVxHVwHSfsymGtf6utIjg5O4v3y6EKqjY+sYfuoGrj6aLfQdxv+FbD6DPPjcN2O89+zTF3aqK50+fZbp77Wcftln2Q89zqc/ebfrv12c08X2dbbjfu62y3fvqXrKiu99b6FtJhtr/lpUVu/HiD//7f/hvLi4uYSjE+Ps5v/v7v+Z//l/+VcqXCysoy5VKJeq3GSj7PyMgwQ0NDxGJxDNPYojRHb3qp0BSLBb754x/5+uuvmZ+fw2t5jI6M8tXvfsc//cf/iO045Ffz5FdXaTTq1Ks1lGEwMTlJOp3GMHZObxDeuIfZ5qrVKj/+eI2v//A1T6enadTrpNJpPrpwgf/pP/9npqaOsby8zMzsLL7nUS6WiERchoaHw9Ixy+qa51HaB9/ksbfTPPvZXEra+9R5r597q2G7nedhOY/tZtx+tvuM+9mWe5l+q3XZzXKO4jXlfdgH9zZPhe56QLK7zx0GT/RpXqU2jK/aQZbR/r+zrO3Wu993eRiP5/3sQzuNe5T3QbFfUv1PiENFUyoWePDgAV//4Q+srqyA1iRSKc599BH/9E//gWQqxe9+/3uWlpZYza9SKKxSyOf585++JZvJEo3GGBwa2vUSa7U6z54941//9V+Zn52l1WySzWY5e+4cV65e5fTp05iWRblcplwu8/zZM1ZWVrh75w7Hjh0jFo0yNj6+6+VVKhWeTj/h+rVrTE9PUylXSMQTnD79Ab/+u7/j5OnTDA2PMDc/z9LSEtPT0wS+x1/+8hcmJycZGMgyMjKCZdv72cBCCCGEEAfuUAVV2g9oeWFqX41uB9EbIm8FSm+Or3vG65lkr08Stojme4L63TxJ2zBsbXq1zbDdznN9W6xP32/Yxs+zw7BN220/23Krz71hnvv63Bvn+Qa35evsQzrsS77leSwsLJAbyJHL5TBMk53aApVLZaanp7l18xZPHj+m2WjgRCKcOXuWz7/4BRNTUximyfj4OJ98+inLK0vcvHGDarXGkydPuHP7DgO5QSJupE8a8t59W2sIfJ+XL1/yzdd/5NnTaer1GqZpcvzECT759FNOnDhBLB5namqKCxcusLAwT7GwSqFQYObVS65fu8ZgbpBMJks0Fmsvpf0EtM9n9VoeS4tL3Lhxgzu371BcXcWyLUbHx7hw8QKXrlwhkUjguhGuXL3C4uICc/Pz1KtV8ktL/PlPfyIScfniiy9IZzKsd0K5vtz97UPbjLvlsO7hu53nNvvQQe6DW07fz36O54M49vpNv9V5rN/0b3lbbjr/97P9Zww0tJpNPN9DB0HYxs0O+5lbS2y57225xbr87NeEPvPc8prQb/p9XhM2LXuneXatT8+fh3UfPOz3JUbXOHvYbhuHyX0JPSt8EMczqj2K7lkNwzAxTavdVu796hvyoByqoKparfDs2XOePp2m0WygA01YoN21gyjWMqDpDdOvjduzD22YnvWbvd72LZuHbZqn3jBsw7Td028atnbcqi2G6Z7PtN08Nb0HV8/69FvObj93v+22YdhO89zqc/fblrvabvvalruf55bbco+fu2c5er0voPmFBS5dusTVq1dJryV16LY+favVYn5+jnv37nL3zm2KxQKWZTE2NsaVK1c5f/4CkWgYuESiUc599BHzi/MsLCzw/OkzSoUC9+7fIzc0RCaTIRKNYm8qzVlfXhAELC8vc/fOHa5d+4FysYjn+0wdO8aFSxc5+9E5MgNZDNMgmUxy8tRJlpYusby0yO1btymXSjx++Ihbo2MMDg1x7tw5wnokbCnM9vcTd27dZnZmhlarxdDwMB+ePcvFy5fXSqAM02Lq2HGuXP2YZ8+e8+O1a3hei8ePHuG6DsVCoR00qrV2ANt9393f0Zb70MbvcRfz3OvxvO0+tOM+2Ptp9n4891p/e+/H80Ece/2m3+o81m/619uW+zg39pzHem3cllt9Rh1oms0mvu+htUYpA8exsSw7HGfT5+5+VLDTtuxdn/1fE8LfB3VN6DvPLa4J/abf+7H3esfzttfXbT/jWzied9xue9lf3tC1dG35RtewPRy7/T437LAt35P7kg3D9rstFYDesC2BTDrLxOQkExPjJJPSN+R+HKqgqlwu8+D+ff79D/8fpWIR3w82n3wUvUFVZydpv9jy5LXNSXvTsLWddsM8X+cg3PGA0+ufqd/0/db7TR1w227L/d6Ebd6Wh/Xktba/7OFzd4atTaY1vg4TTlQqFRKJBBcvXSIajYbjdp3IdDv9UmF1lUcPH3H3zl1evniBDgJSmQwXLlzk4sVLjI6OrjckVgYjo6NcuHCB2VevKORXya+s8PLFC+7dvcPw8BDZbJbBocG1tVtfXrjm9Xqdn376G9evX+Plixf4vk80FuP8hfNcunyJ0bGxtZTppmUyNDTE2XPnWFhYYG5mjqWlRZaWFrl75w5DQ0OMjY2RSqcxtkiSUa/Xef7sGXdu32b6yRPqtRrRaJTjJ05w4eJFTn/wwdrylKlIJJN8cOYMX/7yS6ann1AqFCmXwzTyMzMza9X/Oje5ne/C2PB9613sg2/reN7pJmzH81jX9tz78dxrffb7OZ5f/9jrN/1BBlWvcx7bNKzv9YOucXf3GdEQBD46aL9Atft7U+F+2h7P6JpjsGF9tl7OxvVpj7Xna0L4e9trac+wfcxzi2tpv+n3sw++zvG85TVhr9vyTRzPW5zH1sd900GV0TVk6+OxczU8yKDqTd2XKBTBXveXbef5Bu9LNg3b37YMt+fmoOrE8VP84stfkE6nJKjap0MVVDWbLVZWVnj+9Bn5fB7f99d2fN29M7T/739R67XbcRX9p904bC/jHrZ5vs622Mu4h+1zv4npt9oW3cM77924fp1sNsvo+Bhj4+OYyujJsqS1xmt5PH/6jFu3bvHk0WOq1SqRSITJqWN89tlnnDp9CjcS6Vmi67qcPHGSzz77nJfPX1Cr1ahVq0w/fkIul2N4eJh0Jt2uWqTW1lLrgMD3WZif58fr17hz+zb1eh2lFCdPnOTK5aucOnWaRDzRs56RaJSJiQkuXb7M3OwcP3z/HdVqlRcvnnPrxg2mpqb49PPPsG0bpYyez6e1ZmF+jvv373H/3j2Wl5YxUIyNj3Ph4kXOnD1HNpvt2oJg2hbDI8N8/Mkn3Lt3nx+vXaNULFAsFikWSl0bfv3GE8Do+lI06+eOo7APbnUe2+24R/nYexPH48Zhexn3TZwHO8NVn+Hr+7Duyb4YdC1V9sHDO0+5Lzm4eb7N+xIFPdePvU5/FLZbOKz7rKP7/mmbDoXVs3gtr88aiN04VEFVt40Xnn4Xod0O2+24Bz2/ozzPrea323GP6uc+qOm731uYn+PWzRtMTE2STKdJJRI9U/p+wML8PHdv3+Gn+w9YWlrCtCwGh4b47IsvOPPRR6Qzmb7LSKbTfHj2LJ9+/jmrq6u8evmSlaUlfnrwN0ZGRxkbH2d4eATb7k2SXa3WuH7tOjdv3mRxYQGAaDTGL778knMffUQ2O7CWYW/t8yiDRDLFqdOn+fTzz5idneHpkyeUi0UePXzIn775htMfnGYgl8Pa0IFss9nk/v373Lp5k1cvX+C1WiQTCc6dPcfFS5cYn5jANDefjlzXZWJqin/+T/+Jp9NPKJeKayV7e/0ethvvsO2Dch47HPM8iPNgvxuk3a7PXpaz23nKPni05nkU1vFtzfNN3Je8zvoc1Xn2C7q2W67YvUMVVK0HUmGBZSIeZ2x8gsmpSVLp9M+6bkLslg40jUadly9fMf34EdV2n1N//ctfODY1xenTp4nF4pimgef5lIpF7t65w61bt5ifmwMgl8tx/sIFPv3sU3IDA+2U5Ztvz0zDZCA7wKeffcbLly+p1mqsLC0xPzfLnZs3GRsd5bMvvmh30msR+D6VSoVHP/3ED3/9KzOvXhHogGQ8wdVPPuHK1SuMjI60S5t6T7FKgWVZZLJZzn30ETOvXlEulZidmWF5eYm7d+/w7Z/+xN9/9Vuy2YG16X3f49Gjh9y6cYOn09PUqlVc1+WDM2e4cvUqU8eOEYvFNveR0j4bxKJRzp8/z5e//BWTk1PYtkU8llgP+lTvdtnU5lKuFOJn1NkPAz+gWqnw6NFDFubmaDQaxONxTp8+zcTkJLbjtvfVfs+UZScWQryOzWeV1dVVnj99ysyrVzSbra57cLFfhyqo2iieTPLh2TN8+eUvmZiaCgfu5dGfED+DIAioVas8/Olv/NdalefPn4elOT/9xA/ff08ykWB8fAI3EqFarfJ0epoff/yRp0+fUKlWiMfjnDh5gs8++4ypqSki0ciWnfkqpYhEo0xNHeOTTz4lv5Kn0W7H9fTpU3788TpDw8O4Z84Qj4cd6i7MzfOXv/yFJ48eUSlXiLgRJiYn+c1vfrMW4BhbZP5RhoETiTA2Nsblq1eYm52hUqmwms8zNz/PN9/8kcmpSc6ec4jH4wS+Tz6f5/q1H3j400/k83kM02JsbJwrV6/y4Zmz7YCvd3md+vMoME2LZCrFr//u73QCfjcAACAASURBVFhdzROJREilUth22P5KbzgndLZUT1Al5wzxJm25j60P9Fsei4sLNJsNioUCzWaTZDLJpUuX+eLLL4knErDWmerGOcitjhDidWyuIPn86TP++PUfWFxcpCVV/g7EoQ6qHMdhYCDHsePHOfXB6bVdQi4v4jDTWrf7esrw7NkzKpUKC/MLLC0u8sP33zM5OUksFiOVSrMwP8ft27e5f/8eK/k8pmUyOjbK+QsXuHTpEolkcsfUpqZpkkgkwqQVMzMU8nmmn06zks9z//59JsYnyGQyjI4arOZXefDgPtd++IHl5WXQmsHBQS5fucLlTobCnjZYXdqDDMMgFo9z6uQpLl+5ysryCpVKhUq5zIMHD/jhr38lkUhy4uRJ6rUaDx484OaNG8zMztBqNskNDnLmo3Nhtr/RUVzH3ebTKZQKl/nhhx/S8lrYtk0kElnbLhIviUOra+f0Wi1i8Rip9Ho7R8dxGBoa5tSpUyTTaZRh7HiBU2i0H+B5Hl6g0crCcWxMY8MChRCio7vavFLhqSLQ21/zxZ4d6qBKoVBKYRjGWsN3KZ4Uh54CIxKW/vziF1+yvLhEqVSmVq3w5PFjfvzxRzKZDAO5HI8fPeL27VvMvHqF7/nkRnJ8eOYMly5dZmx8HKNPO6N+DNMMkz5cusji0gKrxQLz8/PMvJrh1q1bDI2M4Ps+S4sLXPvhB549e0qj2SCRSHD6gw/4xZdfrqUzV1tUNexkfFAoDMNkYCDHhYsXWVhYYGFxkVevXlFYLfDdd98xMjJKLBajXCrx3V/+wvSTaUqlcph849gxLn98lVOnTxOLb10q1rNJVZgNsL0iGzZ3p5hg82OXTvY/ozvTzXt+BumXlW3jGJu35fu9zXYSsMW1qWuAal/HFL37ojYUGAbKMNrVfLehNUp7tBpVSqUyxboPVoxcLkfMNbEMCarE4aR7ylzlfPJ26Q2bPKwFgqFAKQmoDtChDqq6STAljhrLsvn4k0949eols/NzPH/6lFq9zo/tbIDpdJrHjx7x+NEj6vU6iVicEydOcvnyZT48cwaj3WZIs9W+33VzrMB2bD744AOWl5dYWlqisLpKrVrl8ePHpDMZVvN5VvMr/Hj9Go1GA9M0GZ+c5OrHH3Ph0iXsdjrzzXNvL6PrB6VwIxEmJia5fPkKCwsLLC8u0mg0ePzTQ65fu4ZSBtVKhWs//MDKygpozcjICOcvnOf8+fMM5HL7PJnvfhrFpiZXQhy4HUKhA6DbvzX4HrXSMrMvZnm1UseIDYDp4gymMHcu6BLi9WyqXy2E6DgyQZUQR02ndOXqJ5+wuLBIIZ9nZWWF+dlZrn3/PZZts7CwwMryEgoYn5zg4uVLnDl7lvQ+E7Nks1k+PHOW+YUFFuYXefLoESvLy1y/fo3nz58R+H4Y4ADpbJZPP/2UTz79jFi7U+G9isVifPjhh+RXlpl+8oTHDx+itebO7dvMzy+g0CwvLeF7Hql0mrMfnePK1Y8ZGxvb1/KEeL9pfM+jWCwyMzvLs/kSkXSDTCbDYCaKu6mzbyGEEG+LBFVCvAGqXbyuleLY8eNc+fRjnr14RuXGTRq1Gs+ePUMpRbPZBA3ZgQHOnT/PhYsXGR0bwzCMHR4E6g3/h48PDdNkdHSMSxcvsTA3z9LCAuVyifzSMuViEXSYnTAai/LR+fNcuXqVicmJsArexuoBG5bQOzRkmiapdJoz587xd7/5DQvz81TKZfIrK5RLJZRS1BsNLNPi7NmzXL58mampY0QikX1s1Z3sJTnt+0vtapu8znaT1q9vkmEY2I5DJBolHvdxolEirrNWdXBj5U35FsSB2mcJ1e7OO+LNke3/NkhQJcQbFouHpTm/+PKXzM3MMjc7S61WA8LSrFgsxpmzZ8P04lPHiEZj7P8SFM5vamqKK1euMDszw4N796lWK3jVMLuP47iMjI7yiy+/5IMPPiAajdJu/r5hThuun/0ynLUb24+OjvLJJ5/w09/+xu2btyiXS3ieh1IKZRgMj4xw+fJlzpw9x8DAAIaxczuqvX7u/jfzcoO/F919gIU1M/e+3da3+NYVV8X+KBTKsklmBzh+UpEYbKGcJMNDOWzL7B5RqmeJg7PF/qT1+lXDkHY5h9j2JwQ5VRwcCaqEeMMUiqHBIa5evcrjhw+p1+usLC/je147IBnjytWrnD17lnQms3Nj9Q1z38g0TTLZLGfPnWN+fp788govX72k2WhgtvuZuvrxx1y+fJnc4GDfeUBvw2INa4kqNjJMk3giwYmTJ/nqq9+xuLDIs2cNWs3mWturS5cvcf7iRcbGxohEtsv29zqkpGq/OsGU53kEgUapcD9SnUbMqjvM367sUrwZav0/0yKayDAWSTHQgkDZxKJRTCNYfzQid0niIG2xPwVBgO/7BFpjmVbYv2D7nCHJDw6bfgmJel/JaeP1SVAlxBvUyVnpOA5jY2P85re/ZXFhkXqtRrVSIZPNcv7iBS5fuRL2J+U6bJeaYt3GJ0+947uuy+joKFeuXOXli5cUyyVWlpaIxxMcP3GCr776HSMjo1iW3TWHrZfZW41o86nXMMJqgL/89a+5d/8+xVKRhYUFbMtibGyML3/5S06ePEksFtvFZxNvV3g5DTQUiyWq1SqGoYjGokQiEWzbxjQ2Vg8N9c+8L9/v69icnbHzhmq/r9CGg+0oLMcAZXSGrk0j34A4aL3Z+8K/Wq0W5XKZSiXs0N11HVzXxbZtLKv39lKCrMNNAqqDIUGVEG+B1pBMpvj888/56f4D8ivLLC8vMzk1xedffMHZs2dxnK0Dqn6Z+HYqYXIjUc6eO8fS0hKzs7PU6w1GRkf5+JNPuHjpEu4O7Zq2vznWXb/DC6ZpWqRSKf75n/+Z/MoK+XyebDbLb7/6aq0UzurKaLh5eeJN6pRGbby56TyhDPyAx4+fMD39BK0DRkdHmZicYGhwiGg0imm1S66Qp9A72bYsT3WNpXZ6PqzDNOoAWhG0xw2g/Xf4o5Ray0Ao34x4W6rVKk+ePOHRo8copZicnGB8fJzBocGwE/lOVzjt84WcN96snQIj2fpvngRVQrxFlmXx29/+lpWVFVZXV7l4+TJnzp7Fsu1tz3j7ahmkwHYdTp/5gC++/AXJZJLBwUG++t1Xm54iHhTDNDl16hSff/45jUaDWCzGr379a3JDQ5uW2T9QFD8vRbPZolhcpVAo8mR6mlg0xsBAlpGREYaGhhgYGMB131QVznfHwbQo00AQPpXxNV6zSbVWo1StUm16KNslmRpgIJtBdZVWCfG2aA3NZpNypUKxVOLRo8fE43Ey2QyjIyOMjI6QSafbDw3lLP8mvU5QJd/MwTgyQZV0jSDeBYZhMjE5yW+/+op6o8H4+Di5wcF2B9fdY/ZLG7HH1uftjrOHh4f58ssvOX78OG4kwsjISLuD393Y/fI6TyHdaJSrn3wS9kNlGExMTOC6kbUOvDd3RAhhqsRdL0q8QVprPM/H83zq9TrVSpVyucTS0hLxeJxEMkE2kyWbzZLJZIjH49i21fX9ir65UnY9ae9xHgQBtUqZ1aUllhbmWSmWKVWbaNMhOzSKE00ToDCVCu9wOZiEI0J0267mgtZhqn/f86jXalQqFQqFIstLS0xPT5NOp0inM2H/jJkMyURirc2mOGBbbdIdzkNSbfhgHJmgSu63xFHWffGIRMNqeYHWRCKR8Kn/rs5m+zgKlCIaiTJ17BhDw8MA7U5+X/f0uXUFRKUUY2NjZLNZgiAgFo+3g8ZtHo0c+QNc02p5tFotPM/bdrx1B3UJe/15aq0JAk2jUScIgp73fN+nWq1Sq9VYWVnBtCxSySTpdJp0Jk0qlSKVTJJIJIjHEziOIzdM+9yf+5dIKwxDYRoaw29SKhaZy1ew3Djx7BC2Y8nd0BGktcbzPZqNBr7ffcy9yXPE681P96yaplwp02g2wiyA7feUWj9n1Os1YBnXdUkkEuE5I50mnU6RSCZIxBPEYjFc18VqZ69cX1PZqQ/MLgIqcTCOTFAlxLsgzKQWdgrced3/5lP1VOXZqvVUv3dVT8CjwTBwXRfHcdvL3E+Jwk4XZdXzl+M42LaNBgxz8/JUp53ItvM8WiqVCsvLK5RKJbQOthjr8AZVWsPKykrYd9qm9zulHxrfb7LSylMoFDBeGUQjEdKZDLmBgXb1wByJRALXdTHNg06dfzRs+9RXd42l+6eAWX/8YKBMiEajuINZbL/OYrGOKvooJ0okFiMadVHtVlZrc+5Z+LtxfL1rOoHH/Nwc1Wqtq3Tx6ARV9XqdQqGw6UFMZ5lBEE5Qq9VpNJrk86vYtoXrOmSzGQZyOQZzgwwMDJBKpXAcJ9x33+cHMq/BgHfgAeXRJkGVED+D3d1s7pwoYv3v7YOdg+oXamP+p82v2mtjGK91+T56vUspSqUSz58/Z35+Ht/324N1+8Nsl45cr7/UXX/0vN1Jqa03D9tqnpum1xtqkKr2606VMajVajQa9W0/qdbg+wG+H6CUxmt51BsNioUCi4uLTB07xuTkJAPZgfc2qHp9a49EUBhhNwuGgiAsDdWGTSQalgy6to2B33d6cXj5gU+5XGZ6+in5fL6rtGqb47n72N1xWL86qBuGbRp3t8PW5+n7PlprlOq33uuCwCcIfDyvRavVpNlsUCgWya/kGRsbY2pqilwuh2l2OrHuXG1kXxZHhwRVQog9eRu9FB1MI/+3K5FIMD4xTjKZJAi2usntl55jN48W+433evPU7fHCuCosqZqdnWVhYYF6ffvAqsOyLJLJJLlcjsHBHNmBAdLpNIlEYq06j9i9jft8d6JA3/OoVCuUqhUwIkTjSeKxGJYh7SGOIkMZxGNxJicnyeVya6U63e1pleq0Nd3PMb5dw76N0++21XrvPOv1Ovl8nsXFpR2mW2dZFqlUktxgjsHBQbKZLOlMmkQ88X5XGRbvBAmqhDjS3lYOvbCC0cbZd673e1/qzlPodrv7o5L+IBaLMTo6Si6X21BPBo5CUBUEAfV6ndXV1S2DKtM0cV2XVCpsF5FKp0gmEyQTSeKJOLFYDNuyMS1zLZ2y2IuN6WnC7zgIApqNBtVqhVq9geGkiCfD9igGYLSr06pt5tWZozgcTNMkFosyMTGO7wddp4yjE1QVikWCQLO0tLxhvN7HYolEglQqGba/TLXPGcmwpDUSieC4DtZaO0zZR8XRJUGVEO8AzfplbG+XpK0uoqrn/6DPO9tOvsUIQXsOO91uH8XLaqfDy0B3vo0uekP1va2G9dOvSuA+59lzK9U1rtaawA+IRCJhVbPO+Eph2zaxWIxYPEY8FiORCJNUpFJhY/NIxMWyLCzTCvuyQvqx2p8+5bNKg9b4vk+93qBcrtJqedgJZ+2GtHPMbw6o2j9rtUsVWnUSr3cCah02X5F2GG+dUgrLskkkwva161/BNsFOv6p+W9Fdb65VG+43bMNy9jDPQGtc1+053pVSuK5LNBolFgsftHSCqVQ6RSIeXztnmKYVJrUxpJKfeDdIUCXEkdS5EwrTWegN196961+pT28ctK9SqXabHdWe0S7WUW1cpSOgE4wczkpvG9ttdbTb7miNr3wsy8K2baLRKI7jEIlGScTjaxm7kqkk8Vg8fLrcTkYi7aYOznpymvZR1i6l8LwW1WqNSqUGGiKRCLFYrN2wf+MNdxhMqU5iEa9Fo9Gi1WzRCjQBJoYTIeLYOLaJZcoN7c+hk6Ro/SHGTg+4Dh/LNDFNs33OiOG6DpFIZD3TXyZDOpUOE624Ttc5Q7qqFu8mCaqEOLLezgWpb+2T/c5H/Lx2+BJc1yWbzZBKpchkMmvto2KxGNFYlEjExbFt5GbobdGgA1qtFuVKnUqlgWnaxONxYtEIlmWhdasrrUXn/3bpY+BRLpXI58POnKv1Jp42iSZSDAwMkM2miMciWIaxNv3OVQg7ZB84EF0PrN5WZe6DYhgGkUiEbDbLwMAAmUx6wzkjRjQaxTTMrRP6bRwuFwpxhElQJcQRp9i5Btn2U3f/32fehNX29lK1sLfcK5zKeK8vlof/dkkZBkNDQ0SjEUzTJNnue2pj9R7xJvW2WVF4aO3RatSpVOqUa2BH4iQTCaKui6FYT8WtIDxSNUqDrwPK5QqvZuZYXl6mXC5Tbae2tiybwsg49akTDI+NkYo6GMrD2PaOtl8GObF/G0sYjx434jI8MhQ+bHGctXOG7dg7tKnUG/6UfUq8GySoEkLsaK+XvLeRIVAcLEMpcrkcAwPZtWpJEkz93AK036DZqFKuNKi3TGKZBMlEAscxIQj6Z3PRPl6rxcLCIrVag1gsQSKZIvA9ysVVVhYXWZqbpWVEUNE0kUiUiHzVYo9cxyGXy5HNZjFUmPq/u02mEO8bCaqEOPLefF38vc5pvemO3KkdDtt/D53gybKs9us3vkJik+6y4PDoMQjwWnXq1SqVRpOmYZGLxUhEbYygSbXSwlQQj0cx8dfmECa2qFGt1Ullc6SSSVzXBu1RL6/yzPB5vlCiVCpRKJYZHUwTcX6mj/2e6lfut/mwO9wHomEYqHYQJS3zhJCgSoh3xOEqG9rLGnRnFpRnnD8vCaZ+Pv02vaEhaDRp1OrUWj6e5eK4LqZuUS8X8AONG40RjccxuzL+dTpojiWSpLM5kokErm2gdItU1KCWz7BUrFP2fRqNBoGvd1ELTXaOt+MobWcJpYToJkGVEEfG0ep3Ztdr9tqZC4+Cw/s9icOjOznjWntGz6PZbNLyfbRhEqCpVct4TRPDdoklUmtJNTu3uEoZOI5LbjCKG41j2BaoAIXCti3iUYdIxKbuGe0sdNutkXgT3u9w5H3+7OJdJkGVEEfaVo3HD/qitceSML35ybfqpFTfYtZSSiXeZxt7N9MoAhQeYcfbBgGm1tRqVQoll3Q6xUA8TjqVaCeYaHddgIFh28RsmxgmQXeoFnZ7hdZhOuyI7RKNuliWSSfJhRBCiP2R+xghxBuhgwDf88I7uG1u1vbeYbEQ7wuF6USIJpIkk3EiNvieh2G5ZHLDDOQGsZRuh12904W9XrX7rOp6x/c11XoLlEkiESeVTEhfY0IIcQCkpEqII2/9SbTvtfBaDVqNJp7fQgeaAAPd/unuVVehw6o/KAzTxLJsLMvBsGwM00ApvdYZ6daBjwaCcF7t4KnR8CjXWlRqTTQwOJjBsU2MLeaxXfcl8txcvM98ZRCJJ5mYtImnh6nVfZxonFgySSwWwbIMFD7QXYtWrXcGDhi6E1hp/MCnWqlTrPvY0QSpgQwDqXg7MNtADkAhhNgTCaqEODJ2usvRlIt5Xj1/zLMnT5ibnaFcqtDyDVo4aMMC08CwDAzAUhrHNLEdm2g0QW5ohNGJY+RGx0mlkkRcG8sACNqN4PsJMAIPghaB16RZr/No+iU37j9ludhk8tgxfvPrT7GsCIZkQRBiV9a78TUwzAjRhIMVSRIECsOyUKaFYaq1BxnrR1b4+KO73zrVrkhI4NNqNlhYKdBUUdIDaXIDAyQiJsZaJcN24hgl1ViEEGKvJKgS4khpN0RHd5UhrbNMiDo2UVvRKhd4cvc2z+cKVHwXM5pkYHiIqeOTJGIRNB71coNKpUy1UiPAJDM0xsTxU3xw9iynTp1iYGAA1wqXtr6k7o4bNZ7XpFJYYfbFM54+fMCdv01z49ECnpXhM8Pl86ZPeh9PvOUhuRAGWoEyTRxzvbw4aJcMr58H1qkNQ1S7IVWz2aRYLFEo14gkswwMDpJKJHCMzVUEIay1K49BhBBi9ySoEuII6lNZB4BkOkMmmWBqbISxgRStwhzPZ5ep1Q1SqShTJz/gH//pK4YHM1h+i9LqCrMvn/P40d+4ffsud+/dJpoY4MKVz/jFb37P5Y8/ZSQbxTAUqPUbuM6Nm+d5lIol5l7O8Oj+PW7/8C0/3nnITMUmO3URTxvthvJCiN1azwzX/9gJS5H0hnG7dbVj1Bqv5VEqVckXyliOy0AuRyqZwLVNDB2ACo9ovV6HsJ1NUAghxG5JUCXEkbce6gRYBIaBGYkzmBtgYiRL1HUwvCjR9BATx09z/soVUnEHWweYfgv1ySXKq5/x5z99zb/8X/+VZ8/nuf79nyk0TYzkMPHLp7FdjWFqdLsKX1i9SFOr15lfWGZltcTExATHh/6R+aUVlp5V2jdqYUsqKXUS4iBtXw2404YKAnQQUCqVyRcqeIHJ8HCOVDqBaxkoHaC1Rqv1Y9voCdPCPq9gvYNoIYQQ/UlQJcQ7RQEmGBa2bRGxwVThMI0FhgmmyVqLCcPANEwymTS/+vILpu//jUahyPPVMs+fv+T2g8ccH80SH4v3zRAWj8U5ceIUxybGsVslvNUXDA9kcWZbXesjN2NCvF1hYGWgKRQKrOaL+IHJwOAwmUwS0wyPyVbLo1Fv0PJbRBJxHNuSHqCFEGKfJKgS4gjoJEze3Hh8c4uK8Ldqd+oZ/tD1s/Y6zPuHxsKwoqTSg0xNjPEw9YCZ1QLVcoG5V68orJ6mOeQQcU1UTzsLhWGYuJEIhmthNn2adRfLttpJKfr9CCGgkzdzP1PR1aKy+5hS7TkGYdIJ36NULPLy+QuKlQamE8MLAiqlZRTgB4pGKyAIIJGIMp5KIseoEELsnwRVQhwV2yb/6985bxhUbZ5N7yuTQNkYVoRkMknUtTGVT9BqUq1UqDcaaN2Vhr17Lqq9DG2gDAPDUGvxW/9lbtVZsRBiX/T6H53jLvA8apUS00+mefHiFbWGh7JdTMfBaI/jBWb4MCUzQCKVxDCMPlX8Np8/hBBC9CdBlRBHxRtpmNQOljSgNb7vEeh2OwqlME0LwzDDki/6hUI7Denu+Lf/B5AwS4i92epY6SSX0Bpank+96WE5Lq5po5XRM6EyFI7rkEzESSYSGKp/ygshhBC7I0GVEEfA1n3GdIqvdrod0ms/uuvvsN2FB0Gdeq3I/OIShUqdljaw3QiZbIZEPIZlGGHgpbYLgboDqH7vdRe1qd4p2m/JTZ0Qu6H6/Nk5pgwM0yIaT3PygzNMeh6BXs8V2KGViWHaRCJRYtFIWMKMHINCCLFfElQJceRt6mGmz+v2j+78BOs/+LQaFZ5OP+Knh0+YXynjGTa5gQFOnDjOYG4A27Jf+2Zr2+BJUjgLsQs7HSHtsMiwsSM22Uisayo5uoQQ4k2SoEqId57GwMfEw8TH1EHYN43XoFQqsLI4x7Mnj/nhhx+493SRKlEmTpzk0mdXufLRMbKpKJa19yb1/dcktLF5vRBCCCHEUSZBlRDvnN5qeIoAgha1coFXz6b54c/f4pgav1qkvLrK8tISc/OLzM0vkxw6ztRHY5w+e5bzFy9yYmyAqGtgKN2u+re/EKh7bbpJQCXEwer0UtWnwl/7fznqhBDiTZCgSoh3WOf2KQgC6vUaC/Oz3L97C69eZvnVc4r5AvVmgOEmGZ86zcSJk0yeOMWxYxNhJ6ExF9vQ+6s+1LeBxnZN7Hc7rhBH0+tk0uuf33OLsTZkCpVwSggh3jwJqoQ4orZroxTGM+03lAobrxtm2CFwxKZcbTA384K5mUVaKsbw8QEmz1zmypWPmJocJZ2MY1sGZqfPm9e0tn7bZjDceNsorayEgP4pYLY8MjbksFCotX6t1ue241yEEELskQRVQhxRu7010igM0yYeT3LixAl+9asvqKwsoEurNCoN5ooB5aai3AQnFseNOphWmBXQ3HapeyOZxYTYjS1KbdUOo3S/17eE+I30ySCEEKJNgiohjqi93SYZGE6ERHqAsWOncSZGoVKgWi5TuvmQwtwjvvm3/5eBtINjfcbEWI6EA+C/qdUXQrwh8vBCCCHePgmqhDiiFOwyqlJopdDKwjcclB0lGjW5cPE8xeV5yqUSdx6+JP/qId9+8y12NI1hOxwbSmDZW82zX1W91yW3guJ916+j7K7jQofDW60WXssDwLZtLMtCqa6WjxsOR0mpLoQQb54EVUIcYdulfdBrf3Qq3ilQBlqZYLmkB0e4/PEnlIoVCoUS0zMrTP/tDslMjljUJmqfwcglcAwwCPZ+S7ZdX8C7/iRCiA4N6CCgUq6Qz6+gtSaXGySdTrfHWG8/peSYEkKIt0qCKiGOqJ3bVKl2auXeH40iUBY4CUaPnebjT2vkV5Ypl/7MbHGOh3d+IJmIEE/EMCNnyMUdXNXCXEupvk0CCaX6viWtOYTYiz5dD6z12x1QLpeZnZ0lCAIikWhXUNVNcv4JIcTbJEGVEEeK7v2rfb+k1gZ3BVDtm7Dw8bZe+wmAAAPPiODGFCc/+JC/rxWZm31J82+zrMw95e6NCJFkikgqh3t8BNNRKNUJ0fpV91M9N37dwzvrKrd4Quyk/7HV+W0AgdY0m01KpRK+79NsNntH1z3/ofbVv5x0cSCEEHslQZUQR0ZvWmRDdeKlzTc7WuueHyN8xN1+HZZUBVrhK59YeoAz5y/xD/+YZ7Xy32k+nWXx+UOufeuQSGbJxX6BPZImZltYysfcpqSqe5mg0QeQjl2I98vugpc91a7dxbx2XgPp4kAIIbYjQZUQR1zf2xwNfuDj+y3AA90Cv4Xn+XgBBFqhCUusWsrBSQ/y2a9/y+zcEkHjGx69XGblxWP+/O//RjrhoD7/jLGhDAkTTLytV0ZD4AftoGrHtRRCHBJSkiyEEK9HgiohjiLV818XH6U1rVaDYqnCUqFGvenhe00atRKlwgql1QLp6Agok4AAX2mwYsQyil//5u8oF/KU67eYXqwwM/2QP/4PBwzFZ1cvMzWSxbAMVDtxRdgxsIbAp9XyWCmU+f/Zu9OmOLY8z/Pf4+6xLwRBBDtIAiEBEmiX7pI3O2vSxmy6Z3nUY9bzOmbm+byWeQVjNmZT3dWVXZk3K/PukpAQSGIXOwQBsa/uZx5EsC8CCbTV/3MNCSI83D24Cnf/+Tnnf1LZPJVKCcoFSrkMdrWKdsAx1U7nROMD7qpFLgAAIABJREFU/qqE+PLoY5uptqsAnslxc2CpIx4TQghxJAlVQnyOjrnIyaZTJFaXmJ+ZYPLFM569nCddqFB1IJtOMDE+yj//fz76+q5yubODtpYYoYAXFJimh87LPdx9+BXJXJXU45esJJNMjT8DbLZWFhkc6KP3cjftrXEspalWSmRSmyTXVlhfmmN6/DmLq0kqlTLV9AZzk+P8+PcYXR3NtLQ0E21qJOj347JMCVZCnEGtZfmC8o3ezU/qwONCCCFOR0KVEJ+NvYPYj7obrbHLJbKpDTYSCdKFKuGWHoZiPVSVhTZcWB4fmY111vx+GsNhYtFGwEBjoDExvSGu3hgmVzVwBaIsrWxSRmF6LXKpDRLrUZrjzTj10s2OY1Mq5EhtJVlPJEnmKvRcu0lLj8IxfPiCYVJbSbxeC58/QDAUwvEpjh6QL4Q4ltr/wzGFNt9/1TuPSBdeIYQ4CwlVQnxWTpqZCiKRCOEbN7nWd51SVVN1zPpUVfVy6soA5cJ0uTDdHlyu7UNAbf4qW7kIRpt58M3vuHX3Kyp2bdyVo0y06cZ0e7HcHkwTwMHjdtPa2kZzrImbQ8NUqpqqzW7ZdmWiXC4M04XlsrBME6v+Whn2LsQZfPB7EPLpFEKIs5BQJcSXxHRhmCE8XnBjsD16aft6TO/MXbUdtPYXO9eYKMPA5fPg8ho781xpVRtFpZVRX7I+GbAyUS4PlsuDBXjr26i1fql929u9RpMWKiHehcQcIYT4dEmoEuKLodDKZLcMhNrzzO53u98fLMpc7waoDncxVErV1+rsvhQFyqi/7qi92Z5fZ38peCHE2W3PAyfBSgghPk0SqoT4Iqhjvj9+qeOfPbq04NGvPd0ahRBCCCG+ZFKASwghhBBCCCHeg4QqIYQQQgghhHgPEqqEEEIIIYQQ4j1IqBJCCCGEEEKI9yChSgghhBBCCCHeg4QqIYQQQgghhHgPUlJdCCGE+KTpY/4+bjmZzEAIIT40aakSQgghPnl690vp/T8fWEIIIcSHJ6FKCCGE+FSdbl5vIYQQH5mEKiGEEOKTcERb0zFNT9IqJYQQnxYZUyWEEEJ8AnZHRO0dG7Xn+50hVQearNT2X9KUJYQQH4uEKiGEEOITpXf+AK1B14OTqv+3E7YkTwkhxEcloUoIIYT4BJy+pUkSlBBCfGokVAkhhBCfKIWqZ6j9I6h2a//JyCohhPgUSKEKIYQQQgghhHgP0lIlhBBCfPJ2x1IJIYT49EioEkIIIT5R+XyebDZHsVjEcRwcR5NMbmJXa99vJjcxDbO2sAKf10coHMLj8dRKWSgJYUII8SFIqBJCCCE+UflCgZWVFRKJBKVSCa2hVCpRLBbQWjM/v8Da2joAyoC21ja8Xi8ej+cj77kQQvzbIqFKCCGE+EQ5tk0+n2N1bZXUVqr2mKNxHAelIJVK7bRGWS6LcCiMaZrSTVAIIT4wCVVCCCHEJ8rr9eD3+zANk1KpdOh5rWvV/wzDwOvz7rRSSa8/IYT4sKT6nxBCCPGJ8np9hEJhAoHAieOjlFI0NjYSiUQwTDm1CyHEhyZHXiGEEOITZVkWfr+fUCiEz+c7djnTNGiKRmloCNfD1/aXEEKID0FClRBCCPGJMgyFx+MhHA4TCoUOtVYpVfvyeD1EIg34/X6JUkII8RFIqBJCCCE+WbVQ1dDQQDhcK0Jx8HnDMGkINxAKhXG7peqfEEJ8DBKqhBBCiE+SBjQul4tQKEhDQwMul2vfEkopLMuiqSmG3++vhy5pqxJCiA9NQpUQQgjxCTNME4/XSygU2hOcdlmWRXNz84ljroQQQlwsCVVCCCHEJ0HXv/ZTqhacQqEQkUgEy9qdDcW0TPwBP42NETxez4H1HF6XEEKIiyGhSgghhPgE7Mag/YFIAZZlEgqFaGxsxO121x5XtfFW0WgUfyCw04KlD61LCCHERZNQJYQQQnySdkujm4ZJIOCnoaEBn8+HYRgYhoHP66WlpRm323XiPFZCCCEuloQqIYQQ4hOg6v8dNceUYRi43W6CoSCBQACXy4VpGvj9flqam7FM68h1CiGE+DAkVAkhhBCfAaUUfr+fSGMEv9+PZVkEAgGampqwLKseyIQQQnwMcmtLCCGE+EwE/H4aI40kgglcLotIJILb7ZGuf0II8ZFJqBJCCCE+A9uFKRoawjQ0hCmXvUSjUZRS+0KVtFgJIcSHJ6FKCCGE+EyYponP5yMajaK1JhqNfuxdEkIIgYQqIYQQ4rOw3Rrl8/lobm7GMBShUPAj75UQQgiQUCWEEEJ8Vnw+X22uKgUul+tj744QQggkVAkhhBCfFcNQKENO30II8SmRo7IQQgjxGdlf6U+KUgghxKdAQpUQQghxZhp94BG188zexy4i9Eh9PyGE+NTI5L9CCCHEB1GPQpqd5KUBLQlJCCE+e9JSJYQQQryDw1lIAfqtrUh7MtXuA0IIIT5rEqqEEEKIMzsuOqnDP+6EJr37mDr0rRBCiM+YdP8TQgghhBBCiPcgoUoIIYS4KLr+h3aoVipkMmkq5RLqFN0EhRBCfD6k+58QQghxQRzHoVIpk9raYmZmmvX1NYrF4oFufxKvhBDicyehSgghhLgA1WqVfC5HIrHO9PQ0v/z8M+tra1QrVZRSKMPA5XYfmHdKCCHE50hClRBCCHFOtNagNZVqlVQqxcL8PC/Hx3j27BmvXr4klUpjGAZen49IY4TGxkZM0/zYuy2EEOI9SagSQggh3pumlqc01UqF9fU1Xr96zdMnTxgZecrMzAx2pYJlWYTDYbq7u7lz5w7d3d24PdJaJYQQnzsJVUIIIcQ5qNQLUSwvLfP86VMeP37M1PQUyWQS7Th4fD7a2tq4fr2fe/fvcevOHZqbm7EsORULIcTnTo7kQgghxHuwbZtiIc/62hqTExM8ffKEl2PjLK+ukMvnMQ2DSCRCZ1c39+7dZWh4mMuXL9MQieByueprkZYqIYT4nEmoEkIIId6B1ppKpUI6nWJuZoaxsTFePH/O5MQEm8kktuPg9/tpaW3l6rVr3Llzl2vXr9PW3kbAH0Cr3XmBFRoJVkII8fmSUCWEEEKcmca2qyQS67wcG+PJ48eMjo6yMD9PMV8AoCHSwJWeHoZv3eL2nbv0DwzgDwT2FKbQe9YmwUoIIT5nEqqEEEKIM9IaKpUqszMz/OlPf2L02TM2NzdxbBtVD0bRWIw79+/zhz/8gSs9vfVX7p2dSqH3BCshhBCfL+Nj74AQQgjxudJaYxgGlmVhGkefUh1HUymX0ZKfhBDiiyUtVUIIIcQ78HjcDA0P0xiN8uvPP/PzTz8x8fo1+VwOgKWFBf70T/+FpaVFvvn6Gx48fIjfX+/+p1RtTqs6KakuhBCfNwlVQgghxBkppVDKIBwO09vbS8Dvp7mlpTYv1dOnrK6sUCqVWFpcIl8okExsML+wwP3797l06RLBUOhjvwUhhBDnSEKVEEII8U5qrUtut5vOri5CoRDN8TjxeJyRp0+Zm3tDOrXFRiJBNpNlZWWFjUSCO3fucO36dVpaWrB2SqoLIYT4nEmoEkIIId6DUgamqYhEIgwMDtLW3k5HZye//PwLr16Ns7a6SiGfZ2FhgXQqxfybNzx69Ih7Dx7Q1t6Oz+fDMEx2ewBKV0AhhPjcSKgSQgghzmhvzQlV/9MwLbw+k2a3h2+++ZbOzk4e/9bNzz/9xMvxccqlEqlUitHnz1lZXubV69f8D//+33O9v59gMLhTav3fSrjanaNLCCE+fxKqhBBCiHdw3KxSyjQIhIJcvtJDMBSivaODp48f8+OPP7Kxvk6pWGRldYVcPs/66ir37t/n62+/pbu7G5/PtzdVfdFkVi4hxJdEQpUQQghxBhrQCo6aYmqnip9SeP0+Wlpb8fl8NEWjtLS2MPJ0hInXr9nc3CS1tcVEoUA+n2c9sc6tW7cZGBykpbUVt9tdz1YfInYcbne76K3p7U1JmXkhxBdCQpUQQghxRsdHDw2q9rxpGhgeD9GmJvw+H5HGCE1NMeLxOC/Hx1laXCSfzzP/5g2ZTIbkxgZr6+sMDg5ypaeHUCiEZVkodZFTSh5MNRfVfrQ/QUkLlRDiSyOhSgghhDgDBSe2sKgD808ZloUVDOL1evH7A8TjcZpbWhh58pS52Rm2trZYX1sjn8+zsZFkbWWF1NYWPb29xGJxfH4fpmHu2cB5R5KDLVUX2zFvZ83SSiWE+IJIqBJCCCEumDIMXG438XgzwVCIplictrZ2nvz6KyPPRkgmk2QzGaYmJ9nc3GRlZYW79+4zeOMGnV2dhENhXJa1J5F8bm09kqCEEF82CVVCCCHEB6IMA7/fz6XLl4jFYrS1t9Ha2cGvv/zC7PQ0mUyG1ZUVkhsbJBIJlpYWuX37NgMDg7S0tuxUCBRCCPFpkVAlhBBCnJuTW5C2C1kYhok/GKT3+nUi0SjNzXGePx3h5cuXLC4sUCyVeDM3Rz6bZX1tjeXlZYaGh+jqvkQoFMZ1rpMGH9znz60VTAghPj4JVUIIIcS5elsoUSgFpmni9/lwt7bicbvwuj2USiU2EgmKxSLlUon1tXVK5RKFQgEUhMIN+P3+cwxVHzpAHdcNUIKcEOLzJqFKCCGE+Ai2Y4TWGoUCpdBao7cLXWznDw2Oo9F6T8n2z9hOrFK6Xizx839PQgghoUoIIYT4YGqRQmuwbZtSqcja6iovx8d5/uwZc3NzFIsllFK43W6ampq43HOFgcEbDAwMEmmIYJnWofXVfMhwsr3dd9vmzqtlriohxBdCQpUQQgjxgWitQWuqdpVsNsv8m3mejYzwww8/MDM1RTabRaHwen20tbUxMDjInXt3uTk0RFtbO8ow9rRW6VNlqouIXbuR6mAievsWVP3L0dJCJYT4ckioEkIIIT4QrTXFQoGNjQSvX0/wr99/z+PffiOdTmNXq5imSUNjI11dXXz99dfcunuXrq4uAoEgyrzISYA/PIlUQogviYQqIYQQ4kzO2vWtNk7KrlZJpVLMzc7y22+/8esvv7C4sEAmnUYDXp+ftvY2hodv8fCrR/T09NAYjeLxeM+tlPr7ddp7H3snFZb+fkKIL4+EKiGEEOIMDnd9Oz6iaO3Uxk4Vi2wkEoyMjPDkyRNejo+zurxMuVzGsiwaIo1c7+/n9p073Lh5k0uXLxMIBDBN84TiFOrC0pFmfwA7XHT9rBvWe6LUnu6LQgjxhZBQJYQQQpyrWlhwHE21UmZra4s3c3OMjIzw9MkTJicnSafTmErhcru5dOkSN24OcffePQYGB4nF41iWi+Oy1HY8OW2w+Xjd7PSeP2E3np1t/4UQ4nMgoUoIIYQ4g7eFAa0B7VAoFFhfW+PVy5f8/PPP/PjDD6TTaRzbxnK5CIfDdHR08N13v+ebb76hvbMTj8fDsWnqA1JQfyPbD5x3iQt2SsfXVv3x37MQQrwPCVVCCCHEe9stla61plIuMzczy1+//56//etfmZmeBsABTMuisSnK3bv3+N/+03+iu/sSbo8HZRzV0e5wF8PjQ91J3eneHlrO3hnvNK+QsCSE+LdBQpUQQghxTiqVMmura/z880/89MOPTE1NsZnc2Hk+GAwyNDzMd999x927d4k3t+Byu84xe+wdDQVHj4g6+dXbr3q37R29XefAeiVqCSG+NBKqhBBCiPdUrdokkxu8fv2KJ789ZvT5KIsLC2QzGbR28Pv9tHd08uDhA4Zu3eLq1avEm5sx6xP5bneBO67HnUaj621UJwUSQzsoHHYr7Rk4KDSqtsK9c0Op7XXXOBg4GNTawmxM5exd7BgasFE4GBp01aZYrpAvlCiUbSyXD384gsvlRhmglI3SDhowlIyqEkJ8OSRUCSGEEO+kFkcy6Qzz8/OMj4/xbGSEl+PjbCQSlMtl3C43sXiM3qt93Lp1i6Fbw7S3dxAIBjAti+3Iojk6vKg9ZSneVjRPaVBaUy0XSW6ss7S8QjqdoVixsbVC1wPT3hUpBcowcbks3F4//lCESCRKpCFEKOCtb1bveZXesw8alANOlVIxR2JtnZWFRVZW10mmshTLDobbTzjaQmtbO51dHTQ3N+FyGbXgJ8X/hPi49jU0ywfyfUmoEkIIIc5Ao0GDbVdJJpNMTkzw5PFjnj9/zsKbN2SzWexqFb/fT1f3JYaGh7h77z79AwOEwiFcLjdGfSLfg93tDtaD0Mf+cNR+1b6q1SrprU0W5iaZnppmcWmVZLpAyQZHufGHIoSCPnxuE8us1+PTNoZhEQg1EG9up6O7m47ObuLNcXxeF6ah2Z4pq7aLDuDgVErkMlssvpnl2bNRxsdesrC4TCaTo2I72MrCF4xyuaePodt3Gbpzm0uXOvFaBganaQkTQlyE2o0SXZ8aYvvgclx3XnEaEqqEEEKIM9JoSuUyo6Oj/Ov33zM+Nsb62hqlYnFnmebWVh4+esS3v/uW7kuXCAZDtTmn1O5li7FnfbutVXtjxu4jbw0fChxlYnl8tHZ2EglZhDya9MYak6tLbKTL2J4IvcOdtF+5RldzCK9pU8xn2VhfYmlhkdczrxgpOfgiLVy6fpt/+OMfuXKpnVDABYaD0mCia934nCq5zBazE6/58e8/8HzsNZu5AnbVRpkKVS1TzmfJbW2SSm6wsJJgKZnlf/pf/kc6YyEMU2GonXY4IcQHZDsO5XIZx3HQWuM4tTn1HGe7+zDIJ/NsJFQJIYQQ78A0DBojEUzTxLZt7Gp13/N21aZarQIKr9f3gfZKgeUiGAoR8zuo4mXmp6eYmJhlQ5cxXT7argwydO8+fR0RAmYJp5KjkE2zvrTI6JPH/Prbc16Pv2B2tcBWocr//B/+SP+1ywS8JlZ9vJaBjV3Osbo4z+iz5ywvrdLb10/blWtEoxFclMlurjI1OcWz356ysJZidnqKovLT2NzGf/jvvsYVsqRwhRAfSXpzi7mZWQqFAlprcrksmUyGcrn8sXftsyWhSgghhDgrpTBdLjq7uvh3f/gD0WiU0efPmZmeJpNOA5BMJhkZeUq1WiWRSDAwOEg0GsVyuepdbt7OqccNY0+3HOfYghX1Vi1V79hjGfjCQfyBAG7LwgK0ZeEPhglHokQaG/CbJZQO4URjxBsjBF2KciHHSvIxy+tzPH+suXK5k0hTE52tcQzDxqSE6ThsJjdYXl4hU1G0D97n5o0btHe0EQr4MbVNKZ/iSnc38aCXv/7wGy8X0iSX53n62298dX8Qb6AJv2VgaefQOxFCnMXBip/HL5PP55mZnubXX39lZWW5fuMHUqkUyWSSXC6H42iUUih1mvWKbRKqhBBCiDNQ9aIRhmnSEIkweOMG4YYGYrEYsXiciVevSCQSlEpF3szNkc/n2Uiss762Tv9AP51dXYTDYQzT3LPO3dEMak94qg94OhDBNFrVKgUaHE2r2usNlwvTsjCVgaEVDiam5cJ01x83HRQWpkvjMxy6O1vpu9zG8xc+VpJrbK1ZTE3N0nP9BvHmNjxGbQyGsm3SiQTZTJZAUxut1+7QdaWTaNCNx1Qo7RAM+GnwWXjtLMnEGonN16xktlicm2VjK0UkXqsKaACmBCsh3stuh73DZW+041CpVlhdXWNy4jXPn43wfGSETDqDdmqvLJfLFItFqlX7w+74F0RClRBCCPEOFAqXy01jYyMej4dwOEQ8Hicej/NyfJzFhQXS6TSLCwtkUikSiQ3WVle5eWuInp4emmIxfD7/ztqOHCD+HmPGt8uoK2VgoDC2HzvyC0zTIhjwEYuGiTUGMClTLBdYX0+Q3MpRcQy228xsR1OqVHF5vLS3ddPZ00Mo7MNlVDG0DcrEcLnxhcNc6mrn6qVOxidXWN7aIptKkc3lqdhOvSVO7oAL8W5OPkBoralWKmQyGZaXlxh7McbTp0+YmpokmUhQrVbx+nw0NjYSCodpb28nEAgcKpgjTkdClRBCCHFGSu+JAsogEAjg8XQRaWikubmZ1pZWnj9/xuTkJOurq2xtbZHJZNjc3GRlfZXh4WFu3rxJR0cnPr8f0zSpT1W1w4Cd+ni7pdXrMejAtZTefkIfEVH25JYTqycrUIaBy+XC5XbVq/M5lKsVKtXqzkY0BmUszGCUWJuXQKyNWMiFx7AxDrQ4GYaBz+8jFo8Tboig2UJrjdZaiowJcY72fu63C08Ui0U2NzaYmZ7mydOnjL0YZW52lmwuh2mahBvCNLe1MXjjBh0dHfT09BBvjqPUcW3g4iQSqoQQQoj3UksHlmXREIkQDoeIxeI0t7QQb27mxegoczMzZLM55uffsJFMsLy0xNrKCrdu36mVWg+FsFwWCqM+Jqpm99Lm5Ily3zbyQaH2Vx48YiGtNbZdpVAski/k69MNg9/rxev17Kn3buCYHiIt3YRiVTw+Hz7TPmbbtbEZHo8Ht9uDaVp4fX78fj+mtV2oQtKVEOdB1+ePcxyHXC7P/Js3jL14wciTJ7wYHSWRWEcphWVZxJubud7fz82hIYZv3aKtrY1AIIBlHRcNDn5OpTnrIAlVQgghxDlShklTPM5tn4/mlmbaOzp4+vgxk69fs7q6RiGXZ2pigkQiwZu5N6ytrTEwOEBbWzvBUBDTPPup+bSXN0eGHmwMHOxKiY1kmrnFdRZX0pQJYnrDdHa00RoL4zGrQC08maZJOByqXcQZhwvB79uC1hTLZYq2g+kP0tbRRTQUwm8oLJxTF+0QQpxMa025XGIzmeT1q1c8HamNnXozO0upVAIg1NDApUuXGBoe5u7du1zt6yMYCmFZFoZhvmUL4iQSqoQQQoj3sK9bntoen2QSDAbpvnSZUChMW2srI+0djD57xvz8G9LpNJuJBM8LBdbX11lYmGdoeJje3qvE4jHcHg+GMnZal9B7t7S9tQM/vTWbaDTbc9A4gI22K1QrBcqFLJsri0yMjjI6PsV6qowVaqH76gADA9dpjzfgMasY9VBVqwxWuwDTarvAxuFgpbWmVCqR2NwklS8QjMYZvHWLxnAInwkux0Yu44R4V7ufuEq5TDqVYnFpkZfj4/z222/MzczUiuYUi1guFx2dnVzv7+fOvXsM9A/Q0tpCIBjCMIx6Q/TJt2ekFuDJJFQJIYQQF8AwTXw+H+7WVoKhIJHGKK2tLYw8fcrriQkSa2uk02kKhQK5fI7V1TVWV1a5OXSTtvZ2goEglsuFYdY6Ab7fBY0GxwG7QiGzyeb6MmtsYVWz5DIZkok15mdnmJ54zZv1DIGmNtra+3j4zbcMXr9KNOzDpQ6PmdLoWmvVvpHt28vYVG2brVSO5ZUNimWbzkvd3LozTDDgw6V0bSLhd3xHQohdhUKBhYUFfv31V375+Sfm5+fJZjLY1SqGURv3ee/+fR4++oq+a31Eo0243O593Y23bT8ibchnI6FKCCGEeA/quMp9sDN+IRxuIBAIEmuK0hSLE2tuYWx0lOnpSYqFYq1SYCpNMrFOYn2NoeFhrvT0EG1qwuP1Yprmvhaxd6G1g13Oszo/zQtPmXWfTTWbJLGVJbGZJpXOUnUcwu29XOu4xJWr/QwND9HSHMXrMjD0CV319N690ygctFOlWCixsLTBaiJNIBTmxs1+rvZ04/EYGKrMbhuXEOJ9OI5DvlBgYyPB8soy+UIex3FqNzyUwmVZxJpitLe309DQgGkd30Z8zNFMPqlvIaFKCCGEeG8nX27sDA5vaaGhMUpnVxctba34f/AzNz3D1tYWuUyGsdFRFubnWV5e5u79+/T399Pa3k4oGMRwud6vVUc7OOUiieUFJkobzBTW2FiZZ3E9S9kIEGvv4uade9y+c5eBa1e50tWGywSFg6p3+zuqJtiBGXEAjdZV7EqRZHKL8ckFciVFb28f9+/eIhLyYVGU2+BCnCOPz0traysDA4Ok02mmpiZZX09QLBTQ1FqyXo6P0RCJULWrtLa2EQgGdsZwnqb7nziZ+b//H//n//Wxd2JbOpVianKS169fUyoWCIXDXL5yhd7eXhqj0Y+9e0IIIcR7M4zapMFXrlyhv7+fXD5PoVikWCpSrlQoFArMzc6ysLBIuVzC4/EQDAbxuFwYhlkbz3TiFmrFJ0zKlAtZpiammZqYYzOVxwhEuPngKx7euUlnPES1kGZ9I4njmDS3dnLn4e+48/BrOjs7cBt2vYjF/tmtTlJ73gG7RD69yauJaf72ywiBaCsPv/mOoVvDWCaYVPesV+aqEuJ9WaZFQ0MDXV2d9Fy5gtaabDZLoVDArlYpl8u8efOGyalJKpUKwUAAv9+Px+1GGfXqoPI5fC8SqoQQQogz0Ed8wWkvR9TOGAbLMgkEAly7do1YLIbjOGSyWYqlEtpxyOfyLC8vsby8TDFfIBgKEfD5anNanTg759GhaitdRgejXL/3Dffu3ORqZxMByyabTpFMrJMrlMmWFW5fiLa2NvweA1PZJwYqtfPf7vPKrlDKbLI4M8mPvzyj4gpz95vvuDE0RDDgwVJVFA4GezsUycWcEO9D1bv5WS6LYDBYaw1vbcVQinQmQ7lUwnEcSsUiC4uLzC8sUC6VaGhowOV214tVqLccW8RJpPufEEIIcVaHytyd8eVKoZSBx+OhuaWFe/fv0xBpINoU5S//8mcS6+tUKhWSGxuUSiUy6QypdJpvv/2Wnt5eAsHgmbanAa0UWlkYLj+eQJiWxiAefYtsNk9qc4u59QyzE+P4gg00hHz8/tEdsCxMVSu5XhsttftG9/0KdC1eKu1QyGVZXFhk/PU0uVKVuw9/x/WBG4QbwpgcLnYhgUqI87FzXPH6aG1rw+fzEYvFuXTpMj/99CMvx8eplMukNjd5OTZGamuLubk5vv7mG/quXSMajeI+onjF7o0j+ayeREKVEEIIcVYHQpTeU6vidJcdtYW3r13cbheGYWDbdm1wef252oS8Do52UIaB5XK9551kA60MHGXh8nlp7rjM7btFNhOr5H94zmJ6lakXjwn4XMSAnY+mAAAgAElEQVRjTfT1XCLgUShdOfym970XjUGVSj7D6vIiEzMLrGVsrt28w40bN4g2NWKZtdC1d0JjIcR5UygFluUiGm0iEAwSi8VoisdoaWll9PkzEokEuVyO6akpEokEyWSSu3fvcvPmTbouXSIUCtXWpHbXKd5OQpUQQghxBkd1hXP0brB6++VHLZxorXHsKolEglcvX/L3v/+dx789JpVKoTVYLotwQ4TLly9z++4dvvr6a3p6enC73Wfb2SM4mNiGF3+gke4rPXz7zQMSyTSF5zNsrM4x+tQk0NiEPxSmq7mBgGWiVHXnTrXaeR/bXw52uUBiZYGZ6RnWtnJEOq5y7+tviYSDuEwHpW3UTrl1dcZuk0KIgw63HB9oYTIUbo+H9s4OmuIxrvZepakpysjICEuLi2QzGVKbm/z4t7+xurzM6uoq9+7fp6+vj4ZIAy5X7WaPTHtwOhKqhBBCiPdkUOsB9/ZegLoWphyHcrnM1maSf/qnf+Jf//pX5mbnKOTzaK1xuVw0xePcu3+fr77+msGbN4hGo1hvHU91QH2u34Pjv8DEwUKbHvyhRnqvD/LtZo5MtsjTF9NsLs/x/X/7E60tLXge3aW9OYLHNDGw97Q0adAOBjZ2tURifY2xVxMsrW8Rab7E8INvCUciuFQFk+pOoNIabBtsR2MYnP09CSFOqTbOyjAVXp+P3r6rtLQ0c72/n+///GdGRkZIp1LYjsPszAwbGxtMT0/x7bff8vDRI+LxZrxeL6o+3kqcTEKVEEIIcU5Oc9nhOA7JjQ1Gnz/nP//jPzIzM0MymaRULKK1xufzMTA4yHff/Z6bw0O0tbcTCAYxrLOdsk93CWTimD680Q76hyqkklsUshlGJhbIrZj81//3/yHgdeF+eJ9YYxCPUhhUd15t4EA5T3ZjhadPx1ncKNDSeY3rAwPEon7c9Sp/261ZCo3jaOYX11ldS9DU1EhHeyt+r+dM700I8XYHZ9AzLItwJMLDR49oa2vjen8/f/rnf2ZhcZFSoUA6lWL8xRhrq2tMTEzwu999x+CNGzQ1xaSh6hQkVAkhhBBncrA96qTOMbtd/QBy2SyvXr/iyW+PefZshKnJKfK5HJVqFbfHQ2dnJ3fv3OHW7dv0Xr1am/zX58Oot+bo+iqP39bulwK049THZGk0Gq1tHNtGa6c2+5Qy0bhRlkk03sHw7WGy6U22slmmVrZYmZvgX//yZyyvhwf37hAPujFUrZ1LYWOXC2ytLDL29FfmFtN4YpfxhaNUqzbp9RUUuvalHbRToVQqsJbY4teR13R0X6GpuQVlHD8JqRDieG8rHLH9rAaoT8WgTINgKMTlK1cIBIO0tLTwyy+/8GJ0lNWVFQr5PKvLy5RLJVKbW7x584bhW7fo6e0lGAxd8Dv6vFm6fuD90BF0fz9Qib+H7T1py+9HCCE+DXrn/KX2XbIcf5y2bZtSscT6+hpjY2M8G3nK+Ng4S0uLFAtFtOPQ3NLC1b4+bg4NMTw8TFdXF8FQCJfLBYZxytPAdiEIG1M7GGiKuRK5QpFStUrVcaiUixRzKYqFPOVqAx7LRAOmMnD5g7R2X+bmnQyJVJ7N738ild9gauwpgWAQn8vF7RvXiYQ8+IwKTjlLYnmeF0+f8vPff2Qpa+OPpVleWiToc+HChp1rDNCOTalUIpkpsZm36bh6E2+wAcN0ITMBC3ExdiYt2FN0wjRN/IEA7S4X4XCYcCRCS2srL0ZHmZmeZjO5SWJ9nWKxyFYqxdraGkOrq/T3D9DS2orrvQvmfBzbt5yOmsT8PHzQliq99/d/iuPnziL6MzrYHmxr/QDrlYAqhBCfHq1r46ZSW1sszC/wYuwFTx4/Zm52lq1kkkqlitfroa29nRtDQ9y6fZtr16/THI/j9fnq88aAVnpPNDmZQqMrZTKZJNnNFSZev2J+folMvkBZO5RLeZbnZ5h4GcfSRdriDUSCfgJeE8N04QnH6Lo6wP18mcTqGiMvJtnaWObV08dYyqBaLHCpu43OqEU1vczL0RF+/PEXnr94TarsoOaWsVxuTGPPhMF6e8+gaiuqppdrd74i1NSCJxBGGcCeLoVCiPOlUAeupTVGvYhFo9vN4I0bNEajxJubiTbFeP3yJaurK2QzWaYnp9ja3GJ9dZVkYoMbQ0N0dHQQCoWwXK6P9p7OqjatBBd6/8b6kJfgeueP+qDencf12cLABf9SjnbcBg/s93nslzo42nnvzwppwxJCiI/nbcfd7UIUxWKB9bV1Jl694vHjx4yOPmdtbY1ioYBpGDRGo3R0dPDd779j4MYNOru6aGiIYLmsPdvRtVCidrsQ1h49+iaaQlMpl2pjIl6NM/H6FRtbWbyhMDGPQdn0k09t8PrlKE4lR6m3m6vdnfg9YbSywOUj2NTCtcEblDJpCsUyi5tlKqrC0ptZfjUVqdRlrOutlJLzzM3OkUhuoTx+/Jaul6KogLPd8W/7lKYAA2VY+PxB+gcGiMfjuNxuUJX3/58ihDiC3vNnzd6jxva8VqFQGLfbTUO4gZaWVlpbWnn65DFv5uZIp1KsLi+Tz2RIrCdYWFzgwYMHXO27RrSpCa/X81Hnsdp+h289Ln+AfbN2E8rFX6obu01Pp8oeR5bH/yiB6qCLKASr93+rDk6Csn97Oz+eqnyvEEKI83PMiCa9O34ql8syMzXN0ydPePr0CdNTUyQ3NgBwuVy0trdz6/ZtHj16RH9/P43RKG6P54guNfUO+qc87zmY4PLhb4zTeuU63kgzV4fLVGyFjUVVucF04fF6CIdDxJoiBLwuDFVvV1IWpjtAY0sXd7/z42/uZitXpaxNbMON2+shGo0QaWzA9loMuQN09N2mXN3evqpPsLVn39mZlQuNieH20XN9kHijF59RwcQ+5e9dCHE6+sDfRx9X9vJ4vDQ3NxMKhWhujtPZ0c4Pf/87z0ZGSCQSbKVSZHI51jcSLC8vc+/+fe4/eEBfX99FvpFTqfWE2z7KbD+476dal78Lzg+fZKEKCQmnd3JPfiGEEB+Oplgssrq6ytiLMZ6NjPD61UuWl5bI5/MowyAajdJ3rY/hW7e5OTzM1d5evD4fpnkexRpqrUPK5SMSbyfY2IxtO2it6z1/FLoenpRSGIaBZRmYprkn/higDHBb+ON+boZbsHXtxqumdlfbNE0s0wQdJ97eU9/Gvt048uJl5/JOGbg8ntpkwFTkHCbEp0Ip3F4PTbE4za2bBAJBzD1VR227Smpri6XFRXqv9uLoT+eGyKdwPfyBQtXJ0fDgL+Hw0uqkJz+8feVUjva2CdlO5YT1Hz887YxdKYUQQpzB0cfXcrnM5maSN3NzjL14wejzUeZmZ9ncTFKpVPD5/XR0dNA/MMDwrWH6+q7R3NKC3++vd8E5ar3qwE9vOwGq+rQ0CtNwY1pnmCR47/ZULfgYhoHXch3Yttrzt4uzjKg4XOBDCPEhHDySHKdSqbC1tcmbuTmeP3vG/Pw8+Xx+57ji9fno7Ozk+sAA169dJ9oYfcsaT+uUQ2xOsL+F6uM4JlRd9Dzn6vDIIL2/S6BWqtac9ykee/XuSWXf/zu13UXjHP6P6uPf+MF/OJ9CzhRCiH9rdL0FJ5PJsLqyyuTkJC9Gn/NybJyVlWVyuRyWZRJvbubSpcsMDQ1zY+gm3d3dRCIR3J69oeeo5p2jgsyFvJMDP7894J3vdj/FE70QX4L6yMwDd+L3feLqY0CzuSyrK6tMTU0y+vw5r16+ZGV5mWKpiNfrJRyJ0NXVxfCtW9y4eZPLly7TEI6cbhdOfaH6jkOR9Kdxs8YCcJzaL9RxbLSzd3zVhy1jUSoVKZdLtX3RGrtapVwuUyoWKRWL+5a+sKFVx6zYMA2s7Tt2antB9iys3xKETh5Hpg+dNPcvfWA01Z5tgsLB0QpbgzJMDKXqnUCEEEJcjPqFSDbD1OQkL1684MXzUaYmJ0isr1OtVvH5fbS3d3B9YIDh4VsMDAzS1t6O1+tFGcf10ThjmdxT7Oeuo84KZ93Gu59ZDl70SKQS4qIcLqK2fYm67wjjOFQqZdLpDHOzM4yNjfHixQsmJybYWF8HIBAM0tzSQk9vL7du3aJ/YICOjg78/sDeOu3s1me4gAJuJ6h3aL7YjZySBVCtVink82SzWarlMs65HOrOso7assvLy2xsbFCplMFxKBQKJDc2WFlewuvz7llenVOoOnyyUQerTtb5/D7i8TiGYewsi6Y2U7yu4jgVHAdsrdD6+Ap9x+1zLQJZ6Ho/d8NSbJ9zD/e0r//D1Q7KruLYFUpVyFcMvIEwbsvAVPYpuooIIYR4F1pDtVphZnqan378kce/PWZudoZCPr+zTGOkkZs3h/j2u98xOHiDcCRSn8BXH6p6u3vGPNvIgLPd1z2uReqoAVFq/4XK9olRnWcU+jQuhIT40in2F7vZrlBaLhVJJBJMvHzFk6dPGB0dZWF+nkKxgMu0aIxGuXz5CoM3bzA0PMzA4CDBQBDjiDGg53Nk+LDHhPMu0WcB5HM55mZnmZ6aIrWVwtEOR/963hYVzvrY/gP82voar16/qrVKaU06lWLy9WvcpsnMzMyBtRzRhfCIdR5/0jjmsaPSmlJ0dnXx+9//Ho/Xs/85x6ZSzJFOrpJMZ8kVqpTtkwLf0fupMdFYKNNNQyRCrDlKOOw7eYKyaplCZovkRoLVZJY8Ia5cGyTaEMBUGqSikhBCXJhqtcrS4iILb96wldygUi7vez4QCtHa1kZraxser/eYtQghxIflOA6ZdIqFhXmePXvGD3/7OzMzs2QzKbTjEPB5icWaGbhxg3v3H3BzaIjWttadHltfigsJVdlslsnJSb7/y19YfDOPo51jWqsuNlRtt5hVq7XarI5ts7S0xNbmJpbLdUSHuA8Xqh48fMCjR4/qfeDVTotn1dHk8kVm3ywwNTnB/Js51taTpPMVqrgxXB58oQA+vw+PaWJQC6wKjXac2u/atimVKuTyVUzLQ/+Nm3z1u6/oDVzFa6r6HU0HtAOOQ9Uukc+m2UqsMz8zzdj4Kybm1ohduUWo5RKhUBDXoa4lQgghzpPH4+H+/fuYhkEgGOTV+DgrKysUCgW01qwur/DLzz9jOw537t6hs6u7NmGmVZ/N5IS+CzWf63H8qPd1+L18ru9OiM9T7XOZy+XZ2EjwanycX375meejo2ysJygVi1iWSaSpie5Ll7h9+w63bt2ms6uLcCSCZbmOKahzeCtn/2yf9hWnGf95tq3q4+LDO7AAbNumUCiQ2kqR3Nysja3a3tpZnDK3HPe4dhy04+xbZaVUJl2poAxj9yXve745Vd7bs4OGQSaTQWtn/6KKWnWkQJD2Sz24TVDFTdbfTDA/uULO8ROKtdDX3E5HzxWioQBuXUHhoNA4dpVqpUypUGBjY4OpyQWSyU0S8TiZQp6KApcCU4PSGpwq1XKeTCrJ3MwEr8dfMT72iqnpRbbKJv3RqxSrUMXAQR3RbVAIIcS5UGCYJtF4nDv37tHY1ER7WxvPRkaYnp4mk8mQz+eYmHhNJptheXmZu3fv0j84QFNTDK/Xi2Eae1b3bp3a334aPE0H9INrOWKtp7iY2u/oLoVCiA9Lo9GOxrar5HI5ZqanefLkCc9HRpidnSW5sYHWGr/fR1t7BwODA9y6fZtr1/ppjsXw+f0Y1tuLhR/sP/YunO0qGlod2VPrvFuWTry39Q4sANOyCAQCNMViFEtFHGdv97+LcdTpo1IuUygUcPRukQWX5cLtcWO5PmKTo1I0RiK1E+CBioTKNPH4A7T6fTSH3VjFNVbmJhifWKJSdvB4Q1y+NsDdB/dojYbx2iUMauOdHMfGqZYpF4ukUymam8YYH5vA6zJr/V13yk3UflN2tUIumyaxtkQuk6RUzJJKbrC2uo7tbcLRJo4y0cpATl5CCHGB6iHDNE3iLS0EQyFi0SjNzc2MPB3h1etXrKysksvWLmI2NpIkEglW19a4OXST7q5uwg3h3e40ewog7ZY1uugpMiToCPEl07oWporFIslkkvEXLxgZGWH0+XMWFxcpl0pYpkkkGqX36lVu3LzJzeFhent7iTREapOCn+GGyrkcTc4UP86w8M6k5AcePsvm3sIC8Pv9dHd3c//BfXp6e2oTBe7Z8lk60J3m7R3X0lYuFslkMtj11ioFuN0efH4fbs/+sUxH9tJ7j8dO3H+luHLlMi6Xi4O//t0GLgOv10tDOEgkHMTr8aCKJh5fgKZ4Cy3t7cQaAvjsEibbRSQ04GBojdKapkgThoaCo7EU9dYytbMdW0PF1tha09reRjgYIp3MMDe7Sk5rcHQ9hMlJUgghLpI6cLLw+/1c6ekh3tJCR2cXsV+aefbsOfNzc6RSW2wkEqRSWywuLLC6ssK9+/fo67tGa2trvcXKOLFrzd7eIwe3fWCpo/b2yGV0/SLjYs4Ych4S4mPQ6J2PebVSIZ1KsbC4wNjoC/76r39lamKCXC63M+9Ua0sL1/v7efjVVwwODtLc0oLb7Tmwzv0u6tP9bu31uzPg7a5I7xYj3FmqtszefT/v92EBRKNRotEo9x482LeTxzu4G6f8FeztN3fwCb0bT47dzJmdptvD+65376MK0zBxWS4syw3UW4yU2m3h2vkXsxt+titBtbS10HWpnc1sHq/bwtTsNn8qA5c3QFOrl3hLDHSOzdVVmmMvCHhMSoUqSjsXXrpSCCFEzf7qfRpMk1A4zK07d+i6dJkrV3r429/+xvORp2wkk1TLZRbezLG6ssLrVy/5h3/4B/7hj3+kIRLB7XZjmOaB22L7z4fn2vVlu9u9Oimkvc/KP9RlmBBil641jGiNXamymdxkfGyMv/71e/76l7/UqpMqMA2jNiF5Vxd/+MMf+N133+1M93Dsmusf69o9/3pE2XM9v/vYzq4csXdHOHC42NdefygvqANX9rut+vu2oTVoB+3o+rRRGq0MlGFhmkbt2vo840bd2ztJnrdj9/zzPeAev+enH3inALfHy81bdyhWHaxgCLd1sOPHnmS25x+agd75RyiEEOLja4g08NU339B9qZv+/uv8+V/+hbEXL3Bsm0q5xOTr16ytrfHLr7/yH//j/0r/QD8NDQ2Ypxi7IIQQx9KaSqnE7Owsf/nzX/j5p5+Yn52luGe+11g8zoNHj/jjH//I1b4+AsFgvTfWyc52pV4fSqTtnYYTXW9s0PWx/ygFjq4XcWN30IsyDgxlqSWvk+ZgVdg7W3AcTaVcJZfPk0isk8vl8fiCNEbjhBuiWO7aezVwtvfkXBw4eus9fx7Mgyc55XInBaoLz1QX1cFB1f/e7ni3/efemHMwSW/vi4OpbZRdoVgsUsaNEWgkYLkwLQNLaYxDr9kbqHY7+x3Vdrg9EwrHLCOEEOICKIVpmgQCAbq7L+H3+2lpbeXxr7/y888/s7qyQqVSYXNjg7FCkf87l+fe/Xs8fPiQq319+AMBQB2eV3P72z13jLftlHjac5f4xOO+3r/4+TttjxY5MwlxXkrFEmtrqzwbGeHHH35gYmKSxPoapUIRDIXL7ebu/fs8evQVQ8NDdHZ24g8EUErVW50Ofx53WoN2PsJv/8wq7YBdYX19hanXL3kzM8l6YoN8RWNjYWPhYNbmZtUOJjaGAq/bhc/nJRxpoqW9i47uHmItLXi8XiwTTG2zfbRz2HdljKmrKKdENp1lcnqOkWfjTE5OsJXapFxxMCwP4Uic7it93HrwFZd6ewn7XbiN2tpOnMLolOSW2Km8azeG49o+602k2sHQDpVSjunJSYpGmGDLJSKNAdyWwtTlPUHtLetF1z4Qcn4SQogP7qibkEopPF4vra1ttUIWsRjx5mZGnj5lcmKCjUSCXDbD+NgLspk06+vr3Llzh8EbN2hpbcXt9tQnnD/cmV2r2s1fY/8GOZSW9MH9OrJz4QfzbmMmhBBvk0qlmJ2e5vGTx/z6yy/MTk2RzeZwbBvDNAiFw/z+D3/gwYOHXO/vJx6PY7lcp65DsW8s0hEvUvv6/WkMBT6XSTTkY8tnsZjbZGJinqW1FBXDgyfYSHNrKx2tcbxeN8qpkM+mWVtZolB8hen2E21up7P3KtcGbtDV0U5j0Avm7l0lRa0mwXaISyXXeTE6xtNn40xNL5Ar5FBKk8vmSG6mKVUmmZx+w2Iyy7/77y2u93TQFHJhmZxfSfXtX8L+/toXebg9vK3dYWZv2+7uay92H3e3d/RjhwtW7IyJU7uvU/XxYrX/6ftfUZurqko+k+bFsxHsUCdd3iZ8DVH87C0neXSFJg07fWf3/kb31o3ae9dSCCHEh6WUwrQswuEw165dJxaL0dbWxq+xOC9Gn7O8tEy5XGJhfp6tVIrlpSXW1tYYunWL7u5uGsIN9Quf3TOePu54rtnXNfzwGCy56ybEl6pcKrG+kWB2dpa5uVmyuVqg2ub1eOjr66P3ai/RaBTTsk4179T+6R7OcAxRBuFII+HAdeJRH163QSKRYmZ6gbIFgaYgV67d5NG9YeIhN9hFUptJVpaWmJ6aZGJikrHnTwiPdrG4tMqDR48YuH6VSDiAaWhMtrsVOjh2mXw2x9TUPOMvp0lni3RdvkIsHsPv95Da3GBmcpLJyRmWV+f58QdNuKWLhqCXkCeG12e+yzs8xNrtIPapOY+3dz4O1xU5zT7VIpZjVygX8uQzabLKpmqX6yXVHZRTxSnmWHkzz8uxlzT2BYhXbGwMjiv9WFuzqt99PBzsdr6vP2VImBJCiI+q1rXGwO1xE4vHefjoER2dnVzu6eG//fM/s7S4SC6bIZ1KMfbiBcvLy8zMzPDtt99y/Xo/sXgcj9eLWZ/XyjjiHLRzE25PT53tFq3zL0RxXj7++V2Iz9XBKt2hcJje3l4y6TSp1BbTk1Nk0mmqlQqO45DJZvnr99/j9/sBaIrF8fl8GMbeTnQnb0kd+dgRN/2VgaMAw43L9BJpjNDaGiMWbcCtwDYsgpE4HVeu03/jNo1eB4MydrWCXcqzMn+Vn//6Z/7zP/4X1t9M8VPRxtbgCwS5eu0qQZeJiVMbIqOrVCp5VteSvJpexvA2cv+bO1y9dhV/wI9pgCrnWZoa52/f/5n/+v3PzG1t8Hpikv6eLrriIYJe/7kMk5Hufxem9s8tk95ifGyUQilL2OPCa5drg+m0TbWUJ51YZXFmkpevprjVcp2KwzkOmRNCCPEpMU2LYChET28vTbEYfX19/Pm//Qu//PQTKytLtbvNq6v8ksuxtLDAvQcPuP/gIdeuXSMUDn3s3RdC/P/s3edzG9me5vnvSQNL0Hsn720ZVVVf29MRPbuxL/ZN/5ezEbOxEdM7N6Zn+3bdO/eWlfeUREqi9xYemWdfACBBT4qkDPV8KiiRSSAzAarAfPA753c+Un7Ep6u7m0QiTm9fLz/98CM///gjw2/fUiqVyGazPHz4kOmZGb6+dYvf/Oa3XLlyhUQycQRnYyotIypXw76DH/OJ+R4+kMOAF8OJp/ATdfh+ARcHE43iJqM0Rk+RKC4y/Pw+Pz+fZnZynIFnL+g6cZbGrj7izdVzthAWyecyzMwvEpgYl67f4NTpk9Q1pHDd8ttL0TBOU+Qs+cVxhl4PMTawwuzsAsvLKxSLxcoZH9y6UPX+LuXXr7u8vlq28S21jUPfDmPN5nezfijF1kPy1m5ZnkiXz2WZnhjH2iJxzyESFCAsEAYBhewKS7NTzIyOsbS8QrEYVJam2vtAjeq6bFuOb/1o350UEfk8VCtG1epS+aXawfd9mpqaiMfjxGJR+k/0cffObZ4+fcrC3DzplTRv37whm8sxPj7O9es3uHHzBr19fUQiEYzZfVp1zUj0j4B61IocJcdxiPg+TU3NRKMxkokkPT093Ltzl8ePHzE+MUE2m2VsZIQfCwWmp6YYGnzFrW+/paO9nVgshuO6HDQN2MoV8ups0EoTDGMMjuPgYFYXFTa1H9VWb9bgR6K0trXS19fL07cLzOUKLMzPMT4+zdJynqApVXkxNYTWweDT0NjIxUsNdPX0UldfV54nRaV1XGVNruamJpqaW/H9PJ7n4TjVZSwOZ6F178NNWd2irVHtJFuqi5dtNa31qM51czmzdqbXdrOrVuPVFrXDeDxGd3cXp86coi7ml0OVLWHDgCCfI7M4x3hzKw+ePMOrtrPcpcNK9Vhr0ctZ+0blLsa+/5+oiIhswUBY042vOhzQGIdk0uXU6dOkUinqUuW2xrd/vc3SwiLZTLY8NDCdZml5iXwhj3Ecuru7icXiux1SRI6xTS1ojME45Tds6upSnDh5klQqRXNzMx0dHTx6/IgXL16Qz+WYrASsubk5ZmZmuHL1KmfOnK0MNY6uBYzKdfja+/Zr44vNFicRVrdtddleDVbr4otlY8kCyuErFonS2NhANOLikqeYz5HOZMkXLKF1VkOVMR6RaJKWVp8mIiTq6vBcs9qmfW3XDjguGAfP92lvb6exsaH8JtUen/PdeFu+9L7n9jxrP6tNq399RDZWyHaqUrFaQkokk5w4eYrrN27SnIrjhwVMpWe/CUqUMsuMnRginctTl0zgOQZj7T6ef8O6NKW3AUVEPi7brHhZbtjqEI/FicVilb/jOI5TXhLDWoqFArlcjmw2SzaXpVDIE27bqUJEPh8brkNXA5DBdQ2JRIKIHyGRSNLS0kJHVycNjY28HhxiZmaa+fl5stks83NzTE1NMTM9w4WLF+nu7aE+lcJzvc3H2OEcdnxVqn3Tv/pRudatLgG04YFgbUgQBISVx+U4Dq7jVOaA2cr9yqHKizik/DjWuDiOhzHVEXDh6j6z+RILy3nSuRLt7e1cPH+ajrYWYtEoh9X4ziufuMXakDD8sC/U1oZYawltZcEwDE7l3bz1o9uOrlK1HWOctda2NSez7cQ264A1uH6cVFMLrV1dtDXWES0VcAnK9SUbYIo5mpIxhoeHoaWJRMTHNTgWUjwAACAASURBVFs1D7E7/4OtCfuHMdlOREQOrjq0ZONWi8WG5dC0sLDA82dPefjgAUNDQ2SzWQB836e+vp6e/n4uX7nChQsXaW5uwfO8LdeqEhGB6nVqeV2qpuZmEskETS0tlfXybvP48WNGR0dILy8zMjxMeiXN7PQMU1NTXL12lTNnzlSGEUYxTrW2VPNqUzO/ZHV8WU23aafmotTW3qh6k9Wvy92rraldD8tSKhVZWVlmemqabK5IiEcskaSxIUU85mCcEGssoS2HLeM4+KwuHbz2YUMMIaVigamped6Mz1MyUa5du8C1S2foaGsk6nuwsar1jjyAUlCikMuTy+colYLd7nNkgiCgWCxQLBWxNsQYB9+P4Hs+ruu+hzPYPrZEo1Hq6+trAtVe0rsLuISm8rGhqmRxyq12Gxu4evUKab+Z+ro4EbeS4Pepdu1pERH5OFlrCcKAXCbL9NQUP//8Mw/u3+fFwADTU5MEQYDnebR1dnLp4kWu37jBpcuX6TtRXkgYs3lZeBGRrTiOQywep6u7m5aWVlpaWunu6eHevbs8ffyYubk5FubmyKysMDs7w/j4OFM3prh2/TpdXV3EEwlc192iuLE2AWb19WiHN3o296u2lXRV/rtcnQ8plUosLy7waugNLwZfk84U8CKNtLV10NfTRWMqXhPaDCEGZ92bTNX9BRCWCIMc8zOz3HvwmBdDo9Q3d/Dl119yoq+LVDKO44Z7Goe2Fx5AenmF129e8+rlKxYXFrC2puzxHpVDVZHSulDl4723UFVr/VPc29/PH/7wB2Kx2CHuF0JcnFiS3nPnyRHDTcaJOZU2kSIicuyUSkVmpqcZGBjgwb373P71VyYmJshkMmAMyboUp06f4vr161y/cYNTp0/T3NKC7/vrRucrUInIXhkM0cpaVc3NzXR1ddLZ2cmD+/cZfvuWTCbD6Mgoi4tLTE1MMD4+xo2bNzlT6VQajW5//bvf1yKDxaWERxHPBji2CMUcK8vLzE1PMjjwnF9/vseL8QxZJ0nvmXNcv36d86d7aY67RCojvrY+doihiC3kWFmaZ2z4LY8ePebX2w+Ynl2mve8scwsZ2rMl6hIQcQ+vKOEBrKysMPjyFX/9y18ZGxkmDKvD747WpiNUhiFaW0mvq11BnD0tUHYUZ1Yeymn4+utbfPfdt0SjUdZP2ttwt+rCINt1Oqr5jWiNIcDFeAmSjRHiGKxjyOeWmE1nMFiSyQSxWHR1fZLdzldERD4+1kIYBiwtLTE8PMyTx495cO8eT588YXlpiUKhSCwep6OjkzNnz/DFV19y4fwFOjo7qatLri4AvLZDhSoR2Wz1MpS1ypFZ626G63k0tTRzJXqNltY2Oju7ePDgPq9evmR6aop0eoWhwVcsLC4wOTnJtevXuXjpEn19fTQ2NlKdt7XpzZ1dLkXXfTsoklmaZ2ToBQ/qDAmTpZBeZGFulsmJSYbHphifXKGh9wqnu/q5dP0mV69epqejmTqvVA5BNlx7bDVMUKKUX2ZhdpzXL14w8Ow5d+89YujtBMs5y9RyiblSjMWSz1dXz3Oyu4G6uHcowcqDcoUonU4zOzPD5PgkYRgQ1oyX3K5vxXYNPt51W5ldN3LTrm5Zf9/q93batp/brj8fu26bMYaFhXlsuPcxl3uLOeVmFtaA54AhICimGZ+e5M3ILI6X4PSpPjw/gutuN42uZuzojmehX78iIh+GIQwDstksL1++5Kcff+ThwweMDo8wPz+P77o0NTdx4uQprly5wtVr1zh1+jSNTU3EolGcDW+q6dVcRN6ZqczXbGggFouRSqVo72ino6ODp0+fMjo8zMLiIuPj42QyGebm5srh6uo1zp0/T1Nzc7m5w5Zv9m++Fl0fuspLDgVhwMrSMm8GhzC5eUx6gqmxUZZXMmSLlkiyia6TF+k5eYaTp0/R29tDW2sjqbiHZ8LN+64RYikUSyytZJhbXCLEpaGxkfZcAWYWWVic5uXj+1jrkPRCErHLeJ0tRF3wDji3yrNYXNclkUzS0txMNp0mDMPySsirJ1wz2WyLB7HV9r1s2/jUB6WAXC5HLpeFMMBxXKKxGNFoDNdfW1Kr2kp8c2TYPsrsJVRttw1jaGhoxJidhiBWx4OufdQee4cWGIDFWIsTZlhZmGJ46BVPB+epbz9D7wmfdQuombUJfhY2HWv9ES369Ssi8uFZa0mnMzx98oS7t28zODhIoVDAcRw6Oju5fOUK165d5+LlS/T3nyCRTFZGatTspPqFBieIyE5WK1SbVd+iN0557abunh5SqTqamppoa2/ncaX1+vTkFAsL82QzWRbn55mdnmFmeobLV67S2dVBXSqF7/tblKr28AJlHHA8XM/DIyC7PMvrF0+ZXS5AtJHTl3s5d+0mV67fpKezmVTMw3NZbfS24QGtO6Q1LsaLE0+10tF/lpbOk5w8e4HJ8WFePHvGk+evGJ6eZOjJHXq6Wmjv6iLV1IqX9PBsfh9P8mYeQCKRoL+/n1u3bnHmzBnC0FZKh3ZDKCr/lEz16n71AdjKD3DDNsBYs8X9zdrXNbtaXlrhzZs3DA2+opDPk0gk6entpb+/n/rGhtXbrt1/zbqmjusSkll3juUtNduq96/uc0O6MgDGcOr06Uov+5pHaSgnnMocNGstYWgpBQFhEABOuatiEBAGpfLfYTlArU2mo3KbPKX0PG9fPmfg6QAj8xHOd10nEk9V2keWG4jYjcezltCuD1jVjux7q1OpmiUictSsteRzOUaHR5iZmaFQKOA6DnWpFN989x3/8JvfcO7ceZqam/A8v/aeW34qIrKV/XaANsZQ39DIpctJWtva6OjsoLmlmccPHzM2OsLK0grDb4eZm51jdHiU2ZlZrly9yumzZ2hra8WPRIA9zPWs+YbreqSaWjh38TLfXOggPZxgaWaK7OAkK4GhGBisH6GuuZloNILnBHhs00jPri8gGMcjmqynM5mis/dk+XhBgeWZEU52txL3DdlfnjKzNMXY8BtGJ2boOnma+mQMOIRQ1dzSTHNLC7dufbPNE3BYr+Srk4nWB8vKcYbfvOVPf/oT01NTLBZLNDU3c+vbb/nnf/7PnD57esO+tpvUdFA71qw2HM5W+uwHOJSwQYl8oUQ2V6RQLJQfYylHMbNMfmmJgmdwCPAMOMZiw4BSqUipUCCXWWZ6dIgf/vYzjwen8Nsukmpqwo/HMW4BKOHYctnUsSGEAUGxSKEYUAgsAVAMitiwVAlbhoCaRdb29H+Ypj+LiBydtaHlDhCLxTh16hT/8i//Qk9vX+VdX73+isj753k+XV1dNDc3c/LkKXq6evjr99/zYuAFy8vLLC8v8+zZE0ZGhnn95jV/+Mc/8tXXX9Pe3r5hT5uvow3rOwMa4xKNJ2lp7+LMxct4PXWkMxkWM//O8zeTvHnxiO//Z4y2tnYSF07hp2IYx8MxQc04tZ2u09dHy9D1aWzr4uZX3+K5UUZHZym8GiEzP8Xc3ByZbBHYqXfB3ni730R2ZENsKUsus8LSzBhvhseYmJknW8gBsLI4y8snj4kQ0tHWTNx1iHoG1zEEpTy5zAqLC3OMDL/hxcBLRkbGMHXtnD/XSn1zA65f80O2AbaUp5BfJpueZeztCBOT06zkCuRNhNnZGWanp1hoSELSJRExRPxyY3cREfl4GGNoamzim2+/I1XfgPPeO9yKiGzmeT5Nzc1cv3GD2dlZpmdmWF5eXv1+Lp9jaPAVDY31NDY1bRGqdlM7qs0FP0GiuYtvfvM75qamKWTTDE7M83bgKf/2//53ou7/wfnzp2iqixM1Du+yppTFUDI+fl0z3SdOcencCWanxiiVspTyecLS4RSPvHXtD3at2e15FhI7Vj3M5uYTO57Cnkst+2mTAbun3N2VgoD00jJDA0958ewxrwaeMj6zSCxZh2NjYEsMDTxjZnKMWMTHdyxupVJFWCIsFSkWsqTTKywtZciVDB2NzfR0t9PSEMczFlOZlBeUSiwvLjI2PMTo8EteDrxkZGIKP5HEOnGWF2e5/+uPrMyM0t/bQX93B22tDTieu6k7ioiIfEDG4HgeyWSysgaM2aZKpdduETl61tpy47qVFUbHRrl7+zaPHj1ifn4ei8UxDn7Ep6WlhevXr3Pr1i1Onz61en+z6Xp7u+vv8tpSIYbQGEKn3AW7paOLf/jtP7C0tMhi+h5TyzM8vv0Tba1NuL7H+TMnaEpGKl1Q7YZaVO0RtsoiDqFxcb0o8WQ9Pd1d1CeirPgOrlN+6T2MV9p9Vqr284K/eXs1SO3txN81NR70HPd2z7UbGDw/Rqqpje6TZ0nWN3Pu6tcUrUuIT2AcQpzKv61wdcEys+6juvCYg8WlvqWDntPn6WyI4JviWqnTcfEiMZINLbSWSuDX09F3gXzREhifkhOjqbWdpoYUTfUJ4lGvvCCaiIh8Fvb9O0xEPmvVtWmLhSLT01O8GBjg3r17PLx/n9HRUTKZDK7nUV+foq+vn6+++oprN25w5uxZmpqaN7zmrOuusPOBTfUq2ME6HpFYklPnL/DNwgLzy1l+vP2Ypdlh7vz0A8lUA/FYjGh/F3VxF4dwteCw82FqXwEdrHFwPJ94oo6IHyGZSJBMxvAjzu7nuwfvdfhfbROIj/aF3qx1fTTrN2/5dLueR6KhkTMNjZy9eIVqx73QVEfN13Yp3Ko+V9tSojbBVzvmF3EIAYPj+SQbmqhraOLEmQsb9uoQrN6nvE9n23rgDg9eREQ+abbya0Cv6CKynWrnaGstmfQKI8MjPHz4kDu3f+XJo0fMzc0BEI3FaOto5/z583z51Vd88823tLS2EolEqF7jVvvCVXrcbXfE9Y3UKneylYICrk+8vonLN26yvJJhZnqa569GGHv9gju/NFOXTJKKR/G624l6bvnI1tacQbUF3OZXvtXbWEsQWDL5kBIRGpqaaW5uIBHzYLtGGPvgvdfebzWtwHc/1gf6dbDNP4atN69OuSv/uMzG7ZV7rmamrR755olx5Wi08Ye7VuisPZfazx3C1X7rZl9DJkVE5FjZapS7iAhQ7SAdBCWy2SwvBgb487//mdu//sL42DhBqYjjOESicfr7e/n61i1+94ffc+XqNRynet1qNu6yuucNG+zqh7Xlxmq2st1aW8kELgEuuBGa2ju5+eUXLM7NMD/7r+QXc7x6+oBYNEpDfYp4qoHWhjjGcfAoYWyAISS0DoE15Xbtxl29Jq+WNxwbQFgkm8syMr1A3ktxuruf3q52GhI+rv3EQtWncvl+NOd5dL/Z1LNPRERERPYqDAOmp6b4jz//mb/+5S+8ffuWleVlwiDAGENDQwNffX2L3/7+91y5doXmlpbKfKbNdrr+NIAJQiiFhDYkpNxqolRZhqi2FXhIeTmJ1s5ufvv73zE6Okzh1ydMLiww9OwBf4nFide38NX187jJ8nA7lxImyJPPhSxnArxYkkg8iev7QEhYjmt4FCnkl5mZmeLZ20ka+i9z6uI1etpbqfct7mFUqracz3VEPoWL/n319qf6lO0jmu7x3cN9NZaoGZu43T94ERH5uBzpq7UqVCKyav0LwszMDI8ePOCHH37g2ePHTE5Oks1mCa0llUpx5swZvvn2O67duElvXy/1DSncylqtG62PEXZ1xBSm3DPAWCjkiiwupVlYSpMPAgqmQGZlkaX5GdLLSzRHEwS4ODhgLG4kRltXJ//8v/9vLKQLBI9eMbMyz4tnT/ESDTg2z7VLJ2mrj2KLWWbH3/Lr3cf8cucJJpKk/8x5rly/zrnzZ0lGy51V0+kMA0+f8eMvd0g2t3P91h85d+EcTfVJIqZ0OI0qdluKqnakotmwjW22b9eR4yhVGyxuHEy31fbtbrtfe/udZTCVYX/lBXqrWw+POYJ9iojI0TnK35NGgUpEVpWDTmgtpWKB588HeHD/Pg/u3+fFwAALCwuUikWi0Shd3T1cvHyJm9dvcPHyZdo7Oogn4pUhf/t5xQoxYcDSwhxTo6958/IpTx4/5uXrEfIWgqDA0vQoj+/8QDRc4fzpPk70dpWXHoq6OE4UP9nIyfNX+IffzJLNBeQG3rA4N87Tez9DYYGxtxe4fK6f/vY6SoUiiwvzDL54xlK6wKuhIQaHBjl9+hRtzY0YWyIsZsll0yQaO/ju4inOnD9Pe0sjUd+pNJE7OG9PL75bNW/YUHFZP6eIQ3iX7B12YMqhZd2p1VRxNi42fHjv5O32D227NhcH/5WqICUi8qmovGLXvjN5NEcQEQEsYRhSyOeZm5tj8NUrfvnlZx49eMjY2BiZdJrQQktrKydPnOTqtWtcu3GdU6dP09DQiO/7lUC1t76iq9P5LZjK2qqZTJ5MAfxEMyfPX6bjxAVKeJhIgkSqjlI+zdJKmlwhILDlNmuh8TFuklh9hKs3v6JQDGnp7GZ2uUDgxkkkouTzBTK5AoF1SKQaOHHyBDeuXmJscoZsybA8N8OwA0G+E8/38X2fhsYuTnd3093TS11dXTlQHeK7UHvr/rfX433od8fs+iYYW52O3e4b72yvv8LMuj6A+tUnIiIiIoet2tkvCEqsrKwwPjbG48eP+ev33zM8/JbF+QVKpRKRSLkD3o0bN/jq66+5cOEC7Z2dxBNxXMetmVKy92vd1c+Mob6+njNnz9PZ008uX6QUWMJKxz8w4HiYSBQ/niSVTBDxXcoju1yscTCuS1t3L7/7Y4IbX39DvmQo4WNNBBNNkkpGaIg7RJwiV6/FaG/rYHJqjvmlLAULiWSK1rZWUvUNeLEk0ViCRCJOMubiOrxDl+yd7RqqthqiYNg8vOBDDPmrtdVQPgfWBagPfY4f+ugiIvIhrY3VtubDvw8pIsdJtUU6q539Fubnefr0KT//9CP37t1jYnSMfKGAAZLJOk6cPME//PZ33Lhxg97+fhrq6/EjPge+XjUOFg83miIVTVFXWZOKdR/lM14LWba8/lTtIzIGN5qksT1OA4bQuICLrSwjZAhxCTC2RCqSoK6+ha4TBXLFkNCC67pEohGi0SjGLbe1KDddD44kE7zXdapERESkTKFKRA5bGAbkcjmGhoa4d/cuD+/dY/DVK2ZmZgiCcoe73r4+rt+4wc0vvuTS5Uu0tLYRi8VwXfeQzsJg8fb0Gleez7Rd5z2nEqA2CnFXOySAxSsnpIhPzI8RrS2oGFOpuFmgtPeH8A4UqkREREREPmFhaMnlskxPT/NyYIAHDx/y7PFjxsbGyq3Sw5BUfT3nzp/n2vXrXLl6jVOnTtHYVJ47ZYxzSB2kzbq/9nDL3b9rtv0Oa6sOlyfafMgm2ApVIiIiIiKfsFw2y+joKI8ePuD2L7/wanCQ2ZkZctksAIm6JF98+SXffPcd5y9coKOjk/pUCterVqc0ReWgFKpERERERD5h+XyemelphgaHePXqFZMTExSLRQAcxyEWjXH23DnOnTtHT08PyWTyHVqly04OulSTiIiIiIh8QI7rEE8kaGxupqWtjbq6VGVYnyk3riiVmJ2ZYXJ8nMX5efL5PEEQYK1d7RYoB6NKlYiIiIjIJ6y+vp4LFy7Q2NhIe3sbv/z8My8HBpicmCCfz7O0tMT/+NOfmJyc5Ouvv+bKtav0nzhJsq4Oo2rVoVCoEhERERH5hBljiMZidHV3UZeqo6uzk7t37/LowUNevx5ifm6ObDbLg3v3mJqa4u3wMF9+9RVnz52jtbWVWDSGc2jd/z5PClUiIiIiIp80g+MYIpEoTU0+0WiM+oZGuru7uXfvHo8ePGB2ZoZMJsPw27ek0ytMToxz84svuXr1Kt09vdQ3NOD7fmWuleyXQpWIiIiIyDFgjMF1XVKpFLFYjIaGeppbWulob+fe3bsMDw+ztLTE5OQkS4tLzM8vMDU5ybXrNzh95gxt7W3E4wlc1620J9fQwL1SqBIREREROWZ836etrZ36+gb6+nppaWvj/r17vBgYYHJqimw2y7Nnz5iemmZqcorpmWkuXbpEX39/pd26d4jrVx1/ClUiIiIiIseQcRyi8RhdvT38n93dnDt3jr98/xfu3LnN2OgoK0vLzM7M8Le//Y23w28ZHR3h22+/49y5czQ0NhKJRHAcd8tgtXHL595DUKFKRERERORYM2AM5y9cpKOjk0uXLvEff/53Hty7z8LiIsVigZHhYebn53n54iW//e1v+eabb+ju7SWRSOC6igy70TMkIiIiInJsVZqmm/KQwKbmJr746kvaO9q5cOEif/3rX3nzZoj08grp5WUGX7xgYW6ON0OvufXtN1y9do3Ozi7canfAStVqY2Wqut7V5zpcUKFKREREROSYMjV/gsVxXOrrG4ifi1Nf30BrWxt37vzK00ePGR0dJZvNMjo6Si6TZW52ltHRMW7evMnFS5eIxdR6fTsKVSIiIiIix0xtJclsMePJ9326e7ppbmmmrb2NjrZ27t+/z+DgIAvz88zNzbGSTjM5PcXExDgLCwucO3eOto4OYtHoasVq9RifaYWqSqFKREREROSYsVAuUNnaphK2Jgs5gCUej3Pl6lU6OjroP3mSv//tbzx68IC5uTny+fJcq7nZWQZfveKPf/xHvvr6Fr19vSSSSTxPUaJKz4SIiIiIyHFk139iK3+bStoqV5cMvh+hvaODVCrFiZMnuH3+PH/9/ntevnzJ8vIyK8vLvHr5kvnZeZ4+fcY//tN/4tY3t2hqat7msGuVsfXDD48vhSoRERERkWNmvzHGcRziiQSdnV1cu36dqclJpqenWV5eBqBULDI7P8uz589obG6krb1t21D1OVKoEhERERH5pFUrQ2tRaudQZTfdwlrIZDKMDA9z/8EDhl6/ZiWdxppyXcvzfZpbWrh67SqXLl2mubnlcB/CJ06hSkRERETkk2U3fL6+5fn24WrtO7lcjtmZGYYGB3n0+BGPHj5k+M0bVlZW8DyP+lSKnt5eLl66xI2bNzlz9ixtbe172PPnQ6FKREREROSTtjlCbdWowtR+31rCMCS9ssLY6BjPnj7hwf37DAwMMD01SSGfJxKJ0NTayulTp7nxxRdcv3aNzu5uUqkUvu/vcD6fX6xSqBIREREROabKtSuzbkupFJDLZcnl8jx/+oz7d+/y5PFj3r55w/LyItZakskkPf39XLl6lZtffMm5c+dobWvF9yOfffv0rShUiYiIiIgcMzvFnvGxUW7fvsPY6ChDg4O8ffOG2ZlZCoU8rmNoaW/jypUrXL9xk0uXL9PX309dXZ3C1A4UqkREREREPmmbw44BtljzlzAMGRsb4y9//jNvXr8mk86Qz+cBaGxqpLe/jytXrnD12jVOnzlDS0sLkWgM4zjbHElAoUpERERE5BO2z5hjIZvJMjk5yczUFKEtJ6+W1jYuXbnEl199xcVLl+jq7qK+vqE8d0oVql0pVImIiIiIfC4M+L5HLBbFcRxsEOBHIvT19/H1rVvc+vZb2lpbicZiOJXq1OodZVvO7jcREREREZHjwHEckskk7e3tRKLlphP19fWcPn2qPH+qr49YPL463E/2Rs+WiIiIiMhnJJFM0tbeTiQaxRpDS0srHR2dpOpS5aF+Gu63bwpVIiIiIiKfoS36WMg70pwqEREREZHPiAXspopU+Wuz4Xbl76hytRtVqkREREREPkPVcFUOWNWtBjWl2D9VqkREREREZAPVp/ZDlSoREREREZEDUKgSEREREflMqRp1OBSqREREREQ+U5pBdTgUqkREREREPlNh5UPt1Q9GoUpEREREROQAFKpEREREROSdWVTpUqgSEREREfkMmZq/32VeVTVMWU3KUqgSEREREflcHTQPfe4Vqiot/isiIiIi8pk6aPc/FanKFKpERERERGTfVgOVylUa/iciIiIiInIQClUiIiIiIiIHoFAlIiIiIiJyAApVIiIiIiIiB6BQJSIiIiIicgAKVSIiIiIiIgegUCUiIiIiInIAClUiIiIiIiIHoFAlIiIiIiJyAApVIiIiIiIiB6BQJSIiIiIicgAKVSIiIiIiIgegUCUiIiIiInIAClUiIiIiIiIHoFAlIiIiIiJyAApVIiIiIiIiB6BQJSIiIiIicgAKVSIiIiIiIgegUCUiIp8NW/kQERE5TApVIiLy2VCoEhGRo6BQJSIin4UQwHzos5DDFAKhqfxsRUQ+IO9Dn4CIiMj7oDx1DJmav1WCFJEPSKFKREQ+CwZ04S0iIkdCoUpERETek+1S7TvWES2qUonIR0GhSkRE5H2yYOznN6nZwrrsZKytbDOroWi/0cpZ3bGIyIelUCUiIiLvRTX/mA1f124TEfkUfW5vlImIiMgHZGo+MUpSInJMqFIlIiLyHhk+36qMsbWP3ez6PNSuK/Y5P28i8vFTqBIRkWPu4xpk9rkuQGxW/7Qbtu/wM6n91q5P2sf1cxaRz4tClYiIHHtr1Y6Ns3o+gM++5LKPB1/TwGKre23fS7DaFlBE5P1QqBIRkc+GrV6km/cTruw27b7L1arPsV61H+Xnp3a44Ja3qDzHilAi8iGpUYWIiMgR2i46KVKJiBwfqlSJiMixVa4IVWfz2HXb17YdYY3j2FVQ3mXxXltTIdzbs7HXKp6pOaXd216IiBwdhSoRETnGalKNLV/Ub75g3ykobPzeNuP5dthDOdntVq/a2Odup/PadIQNt93POR4kiLy/+Wlmm8dkav5UowoR+ZAUqkRE5Jjauky0adNW2cBud/+twsqGHWy6tq8EJrsWnAy14+837LM2gO2aF3Y6nx3OsWaTrdm0fZzbOL9p52OuP12z7/WozIYzsdWa46anevOMK7vuOwpXIvJ+KFSJiMixFoYhmUwGGwQQwsYA4Nhy9cpuClXs8Zp891BVLBZZXloin88ThiHWWoIgIJNOs7S4iLUWx3G2uf822/Zl61BlMRjXwY/4RKNRXFMT9So3NVtltC33Xcus+67Z7nY1p2U3jaaw5gAAIABJREFUPDCzqfm8xVaCqQ3LP1drXIzjYhyDU336j92QSxH5FChUiYjIsZbL5fi//st/YWxklHw2W7kwX+NU0kNYkx7WZmFtXlNp87YyW3ObNeWtYRiSzWYZGhpieXkZay3T09P867/+Kw8fPsSPRsrzjez6Ks1W+6xura3E1J7TXs6xejvP92hsauLKtWvcunWLxoZG9mdj8Kltfr6XaLN+dluIi8FiCNcFsWrAsjYkn8+zvLTM8kqGSCxBqrGRRDIJlUC4OYyJiBw9hSoRETm+LNgg4NXLl7wYeEEunV4XqsoRoObyfXNCWv81G7ZvcbxNDFhrCYOATCZDUCqBhWKhyNTkJMvLyziOs9bEYa+Vqu2qV1tMr9p0l8p2PxKhvaOD1tY2CvnC+tPeYhTi2tcl8pkM01PjDL8ZYnxslEw6TyE0BLiExiOsDHB0CDYEnWpQCnGqPwvHxySauXT9a07299Bc5xMxAa4tYWyBTCbDxNg4L18NMjj0hpnZBXKFAMePkKxvorPvJJcuX+PEqZPURT18p3pMEZH3Q6FKRESOrWoYSK+ssLS4QCadXhc6qsHBsH5u0eEcFdYdzFaGr1VCjrWWUrHIytIS+550tJ+zqT2FDYfxIxHiiTi5bBYbhmv32byX6h4oz22yeCYk5lpinsUpZRh9/Zo3I1MsZktYP068vpme7k4aUzF819RUmyw2DAhLBXLpFRYX5plbypKPtuE1naCprYOGZARjQmyQZ2VhihcDAzx6+IRnz18wNjHFSrZIthgQYPAidTS2DzI0MssXX3/N1fMnaW9KEvVNJTSrgYWIHD2FKhEROdYcx6G7u5t8Lkcum904TQeoXGofcagKQ0uhUKhUqizGKc9l8jxvz63G38kOmcLzfVpa22hubsb1tr4kWBtuuP7Onu/T2NSE54TEI4aZqXlePHvJ9NQCYbyJrlQ7fafO0d/ZRDzqrhvCZ0slSsU86cVZxkbeknv1lpnFRZZXchSLARZLGJbIp9O8Hhzi/r0HvH47RiGAts5u2hyPTCbD4uICs/OLDL9aZnZumcWlZXznH3EvnqWlMUnEAZfgEJ9MEZGtKVSJiMixZSlf/H/z3XecO3eeUrG4+QZVB8w1qyMG17XTq/Sis5agFLC8tEQulyMIAzzPoy6VIhGPl5tUHHGw2qoa5zoOiWQdfX19xOPxPe7MEBoH4/lE6lI0xzwiCY++wWGeJaKMW0vRiVDX3M35K19wtreJRMTgEFJds8raEIICpdwS0xM9NDY3kr39loixODbAsUUKxSxT07M8H3jD5FyGpu7TXO0/SXtbK1HfIZ9eYPT1AA/u3+fJ89fMjL/iYT5DV2cH9c3tRJMN1EcVqkTk/VCoEhGRY6qcIFzP58bNLwiKJbDh5psd0nJL1VlDzhZBrTynqtysolAoEIYhruuSSCSIRCpNKnZeP3fTPg+sErQczyUajRKLxba82daHc7EYAmMxnosXj5GsS5CKeUQ8h6IXwU00kGppJ9VQR9K3OIQbGmqU8InT0uDjeA4vx/Mkox4eISYskcukGRsZZ3p6he7+C5y+co2TZ8/RVJ8gaoqQX2ThdBtdjRGiBPz99kuWZyYYGHhJz/lrtHX3koz6QGHLRyAicpgUqkRE5FgzxpBKpTB24/yaikMMVbChBXlNm+/y39V5VRaMwVQ/djv+EYWq8v7WzmP/zOqH4zg4jsHZ8ykaQiI40Ubau05y82aR1o5WGuNgShlyK4vMLa/gN7Zz/tpNTpw6Saq+DteEgMGNxGjp6uXqF7CULjHwaoziXJa5qQnm5ubIFwqA/w6PSURk/xSqRETkWDPG4LpuJVR9PNZ1ITzKoX8HZrb4vLL6lK32TyyHMseAMXaL5hBbtTl3KAYugY0QSTRy7colYrE6GpMuXpDBBAViyRRtqX5ae05Ql0rhOxancuzQeDjRJA3tnfSd7KejpZ7FhWWC3AqFXI5SaWNjeRGRo6NQJSIix9ruceWQSlXb7vco9n0U9vI8bLfQr9nw2eb7rF+RqvzVSjpLJpPBGJemxiai0QgxLyDMu0TjdXR2xwnj7TQ0pPA8gyGoWUPMwRoXPxanvr6BpvoUEcfguQbXMZUpau8aq7a736fwcxSRD0GhSkREjq3dr6s/YC3jI7s+31O0PIScaIwFAmxgmZ2dYXx8hkQixcmTfTiOC47BeEni9T49CRf8OmJ+udHFVoc0GFzHw3d9HOOQSqWoS8bwPecQnuJPLRiLyIeiUCUiIvIBbGxR/mEcXqgszwurTiILsWFAUCpSKhYpYle7/xkTAEWK+SJv3wzz4uUwnV29dHZ1kkhaAjyM7xLxE0QqCwhDwObYV56bZsOQQqFENlcCx6ejo4OWlkbiMa8c4OxWwWi7ipuIyLtRqBIREZFDFECQI8jMszA1wTR15QWCa0NVKcfCwhJPn73g7cQi8eZeSrg1+9g94BgsblikkEszt7DE+FIBm2zjxOmz9Ha2Uxd1KscUETl6ClUiIiJH4tOofKyv4+x8ztWGGnZtQ+0XADg2xOZWWBh/zd0fv+dNXQTftVjCckv7oEghvcjw2BTPh+dx67s4ccWlZDzC1YYdG8/Drq9T2fL6U16QZ3pmkjdvR5jJGTrOfcGJM+fpbK4j4QW4lSC39T7Z8D277jZhzePbeq6YiMgahSoREZH3ZuOws0/rUt1u/MpueDy2HEJCa8nl88wvLBDmHTwCQspDAm0pTz69yNTkDEtLOeribeX97jm5VIKSDSnki4wMj/NyaJhofTNffPcb+k70U5eM4pugsjbW2vmutdPYTTVkbdwmIrI1hSoRETm2yn3myvNutp4+dHiNCHZs9FAJH6GtBoLKbZ3ykDez60JVR2t1naoDn4LF4mAiMeqaOzl3+Rrt9VGibrA6z4qwSFhIMzU9R/LZW9JBnKgJcG2IsbWt19e3ci9/FQIhxgQEpYDZmQWevxxmen6ZK9euc+PmVdramoh6Dg4BDtv82Gv2u+P31JNdRPZIoUpERI4xSxiGLC8tUiyUyo0NNtxiq9YF27Uz2K5+sVUUWHdbWz6PTCZNsVggDEIc1yUeTxCJRnCctSVzdzqfvZznTue4kWPKi/ZGolHi8Tie5/LuyarSOt04ONE6mrtO8OV3v+N0Zz1Jv2ZOFQEueRYXlmn4/ieevhynzi8P53Ow5YC56WRt5XFUnumwRCaT4emL1wyNzNDQ3M4ffv9bTvR1kIy5uKaEUw2u656FjcMLtw/VDiIie6dQJSIix1R5uFcYlHjy5AkLc/MExRJ2w4X0+whVobXksllGR0eYn5+nUCgQj8fp6e6mpbUNz/dWz+TgoWrr4Gi3CEuu6xKPx+nq6ebEiRN4XpKNc4v2xQCOA8YlNB4htSGtOh+rHKvqGho5deokxcAjVRfFJcRgsHarmV2VR2Qt2ICwkGdifJLb959QcmP89re/48bNa3hRH4+gUvFa/5i3fkQa0icih0OhSkREjrVCvsC//rf/xsvnA2QzmSOrVG20cbu1llKxSBiGWGsxxuB7XrlK5Tjr7rfd+ezlPPd2juUtvu/T0dnJb3/3O1pbWkgmk1s8ksNmsPgYoLOrCz+axPMiJBLR3RfJsiFhPsf81BR//v++p2Si3PyHr7lx6xbRiIOhWKlmiYi8XwpVIiJyvFlLemWFxcVFMun0+z88NVlhQ2OHXPUTc9gVk61j3satkUiEeCJBLpvF2s2xa7c9vptygAyNpb6+gXg8iTGGaMTHN+XwGRoXawzGhpjKGlcmDCnkMkyOj3H319sUA7j+5Vecv3qdRF0dhlJ5XlZNfcpWvnIO+RGIiGykUCUiIseaMYZUqp6mpiaikSgHu7jeri61tdo5VaVSiUw6vVqpqp5bfUMDrutuu4+DneP6QYlbhar6hgbiiQTGWT+L6GgiyPqo5kci+L6Pg8UNS8yMj7KUK2GSjSQbW0jFPHxKEAYUM2kmJ8Z5NvCK8bk0Zy5f5/zFS7Q0N+E5FseWI5Rjw9XhjqFxCI0LhDhWg/1E5OgoVImIyDFVvrR2XI/r12/Q3tZOPp9ndeGhKluZy2Rqmm9Xe3ybPQz2s2b9Pm3Nziv3D4KA9PIKz58+ZWZmhkKhSCwWpau7m/MXLhCLxcAxG+6/8z7X+pCz4Ty3G+y3gTV4nkd9Qz0nTp4iGo3V3HrDTVfbFdbMUVpLjJVbWKy1NcW4rWLZ2rZqw0MDmDCglEvz6ulj5nIByd6z9CabSMYdCEOKuQwzE2MMvRpkcmqO9v6znL/6Ba0tTURcMDZYrVA5FjLpFbKFEmE0jh+vI+oaHFWqROQIKVSJiMgxZohEIvynf/onioVCpUK011lRW+9vr7ctZ55y+/RSqcT05CT/TxCQzWYplZZobGrmd7//PX/44x+pS6UqHQDft3KwiicSJBKJDYv5rmdX/6iNXdXns1x9Cyuhqvw0b7WO1fqdODYoh6ZslsmRMZ48GSBM1HOy81S5eYctYQsZZqfGefHyBWPj0yTr27h680uSDQ1YQoJCAVPpLGitJSgUeftmlIWVFerb2mjviRJxfJWpRORIKVSJiMix5roubW1tNVs2VnG26pe3nX0O/zPlkBEUizjGIZmqx/U8jIFoxKelpYXu7m7qGxo2Db97P8yWn251q62+XZ7vFOBQJAxLlAJLUKmgGaqzp8yGNunlTxxCXEqUillmpib49//1Mw+Hpjl1oZlkLEa9HxAJsmRmXjPw5DEvhibw4o2c6OnDlHIsTY+zYsLKcL9yqMvlC4yMzzD4eoRILMbNpjYSnrNaBBQROSoKVSIi8lnbe6A6zGOWl7Gtfn6AJuaHZ09Pw7p+huXWF0GRXCbD0uISS5kchWJAqVhgeWGON0NDxIIWGhIevldeE8sYSzGfp5hdYXF+komRtwwMDPHTo2GItHAh2UQqGccrZZiffs2zX/7K//rpAYMTGUykgWeDb4n55ShcDmvlZ9BYSyGwzK4EJBs7uHb9Kom6FL6G/onIe6BQJSIin5md+trtJdrsNf5UF6zd4T6mWgParhb0saht3l6OhKVCjuWFGSYn3vL29UvuPR5gcmGFXBhSzK8wM/KSH77/H7xpSZGIuXiewa1U40qFAsVchqXFWaYnxxmdmGZsrsTZK700NjUQ82BhZoLnDx7x099v8/jFG6aWA0JnmpGRNzgErK5CVRliaYCSdQj9FDduddLa1kaqrg730DsriohsplAlIiJyRIzd6YL+Yw9S2ykv30tQoJDLsrSYYWEhj59oov/8JdoKIaHj48aSRMmRWSlRyBocU+52CGBDSxCUKJTATzTQ2p0g2RHl4tVL9PV2kow6FNNZCsUQL9FKz4kozSUIVwcU1nQ3rBlaGOLiJZs4f/EsPT2dxOOxDUsPb/eI1vsUfyoi8mEpVImIyGfuqC6hzTaff/oM4LkuyboUHZ29RKJ19J68SDG0NQllt4pgOQ1ZIDAugYnS0tFDb1s99fESRbeeM2cvUd/YRSG06+p+6/ZZCVXlGpoL0TraunvpaG8l4ruVJha7W998XkRkfxSqREREZB/KLSZMJE59c5xUUwcnVqOIU9N2fV3f+i32s1ZiKte+PCwuLkVc8iQSCVLNPZzFKQ/0q/Zgt9U2GOVGIBvjUAmPEJdyxCrt6RF9qjVDEfl4KFSJiIjIPjnYQ27/UA5A5RBkcQmoXRB5t2GUtfsJcAkO8cxERHanUCUiIiJ7tEW42VOJZ7sbbdfGw7D+G+tvYTfebr+nIyJyyBSqREREZFcWqPbdMNbUNIuAw48yuyyaJSLykfkQKw2KiIjIJ652NpOIyOdOlSoRERHZmwOkqPfftlz9/ETk/VGoEhERkV1t7pC3W1jZnMBspeHfjgsib7GPzfFo9/vuHKnWz8qyCl4ickAa/iciIiIiInIAqlSJiIjIESuXp9ZXqCz7GZq32ijDstrMPaztEmjXPt3rXtdut79zERHZSKFKRERE9mmfM6TMu0aWagyzq50Ht7nJ+qzG2gLBO91lPQUrEXl3ClUiIiKyR+/YqeIw2gRul3k27NtuqFod1emIiNRSqBIREZF3sJ/uelvdZn9VIaf2kJX7Oqufr8Wk0O6l5rShrPUO5yMiUkuNKkREROTYUDQSkQ9BlSoRERE5AocZbwxh5bPN7wbbDbfc335FRA6DKlUiIiKyR7W99fbTZ+/wDh/ufqsPcWYi8plTpUpERET26QNFFnWYEJGPlEKViIiIfPQ0tEZEPmZ6jRIRERERETkAhSoREREREZEDUKgSERERERE5AIUqERERERGRA1CoEhEREREROQCFKhERERERkQNQqBIRERERETkAhSoREREREZEDUKgSERERERE5AIUqERERERGRA1CoEhEREREROQCFKhERERERkQNQqBIRERERETkAhSoREREREZEDUKgSERERERE5AIUqERERERGRA1CoEhEREREROQCFKhERERERkQNQqBIRERERETkAhSoREREREZEDUKgSERERERE5AO9Dn4CI7MZus90cwp5tZU8H39fBbXycH8M5iYiIiOxOoUrkk7BT4LDbbD/gMYzZ9lt72pMpf6JoJCIiIsedQpWIHLrDinkiIiIinwKFKpFP3PoAYzm0GGM37p0973v/Z7DPUpiIiIjIR0ShSuSTcDT1np3nUtl3rjiZ8t0PwNTsQLUuERER+bgpVIl89HYOFYcXOTbuaa+p6PDDj4YPioiIyKdEoUrkk7JV3Djs2LF2jPV73uo49pAi1fp7K1SJiIjIp0ShSuQTYmvmOZWb8x1l5DBYWxtvLMbUDss7XBa7RdFLkUpEREQ+flr8V+QTEwbhez2erfz33o5lbTU9KlKJiIjIJ0GVKpFPgiUMQwqFIjPT0zS3NBONRnFdl6OKHkEQUCgUyGQzeL5PPBYj4vtb9AOsVq8ONhAwDEIKxQKZdIZIxCcWi+H7kQM8AhEREZH3Q5UqkY9eOVDlcjmG377l//6v/5WhwUGymSxheBRVK4O1kM1mGBoa5McffmRgYIDFxcVtjmdXI9W71rOsDSkUCkxMTPDDD3/n/v37zM7OHtHjExERETlcqlSJfAKCIGBqcpIffvg7f/rTfycejxPxI/SfPEkk6mzTGn1jS/S9V5BKpRLT09P88vMv3Ll7l4sXL+C7LslEgkQiwfpq1MGHBpZKJRYX5nn+9Cn/89/+jZbWVowxNDQ0Eo/H0EBAERER+ZgpVIl8NGo76a2FiDAMSa+s8OzZM/7nv/0bi/Pz/OU//oO2tlYam5tobmnBddxDPZOV5WUGX77i559+4vGjR2QzaZqammhqaqKvrw/HcSpnvPl898tiyWQyvH37ltu//srDBw9IJhO0trTQ09PDiRMnKk05ykcSERER+dgoVIl85Ar5PIODr/j1118YfPUSgKHBQe7cvkNHZyeJRIJksu5Qj/n69Wt++PvfeTs0RKlU4sXzARrqG2hva6ejvYNYPHZoxwpKAbMzszx8+IC//vUv5HJZgqDEzz/9SEtLCyf6+6lJVSIiIiIfHc2pEvlIWWsplYpMT8/wy8+/cPfX2zUj7SwP7t/n559+ZmpyilKxuKH9OZTrR2v/7dWbN294cP8+LwYGWFleBmspFYu8ef2au7dv8+zZs4M/tup/1jI9NcXDBw+4f/ce2ZU0WCgWi4yPjXP/3j1u376NtSHW2ppOhO+nG6GIiIjIXihUibxHlp2CQW38sVgbsry0zJ07d3j44CFzs3MY1gbAzc/P8+TRY27fvs3CwsKBmzpYa8lms+WAc+8uU5OTlEoljLVgQ+ZmZ3j+/DmPHjxgYnyCUinYd2DbKL2yzOvBQR49fMjQ4BBhGJYfo4VsJsOLgef85S/fs7CwQKlUWm21LiIiIvIxUagS+aiUQ0MQBmQy5e57d27/yts3rymVijiuS0NjI67nUSqVGBkZ4e7tO7x69Yp0eoUgCNbta32I2/m41oa8HBjgwb17vB56TTaTwXVdYvE4kUikUj0a49HDhzx69JB0Or23IFebBGuEYcjo6BiPHj3ixcBzlpYWy8eLRsut261lZnqmXJH78UdWlpewNtSsKhEREfnoKFSJvEeG2oyxdTywWAqFAlOTk9z59VdePH/O0uIinu/T0trKV19/TWtbG34kwvLSEi9fvODunTtMTkyQz+e2GAa4u6AUsLi4yI8//lgOOAsLuK5Le3sb5y+cp6u7m3gsxsryEq9evuTXX35lZGSEXC63+863KMqFQcDiwiLPnj3j0aOHjI+PY4D6+nrOnj1LX18fdckkxUKBifEJ/vSnP/H2zf/f3p1ttZGtCR7/74jQhAYkEPNowBiwDRg705npyqw8c13UeYGqx+ju+36VvurrXr26etXFqVrV51ROdnpI8ICxzWQQIAEaQHPE7guJ0YAxnpDz+7GwIaTYOxREhOLT3vvb8+Ry7yuNvBBCCCHE2UlQJcQHdTCsOkq5XCaTSvPs2Qw/fP8d8bU1HK2JNDQwMTHBP/3zP3Hjs8+INkZBKdYTCX784QeeTlfmkiqXy29QW2VcUzabZWpykvv37xGLxSiWS4QjYa7fuME//vnPfPb55zS3tACwubnBo0cPufvznd25pN6k9UhrTT6fZ2bmKQ/u32NxYYF8Lked38+F/n7+8c9/5ne/+z3d3T0YhsH29jYPp6a4c+cOK7HYMePHhBBCCCE+Hsn+J8Q5U+n2N8t3//kdSy+XKBQKeOt89A/088c//Ym+gQF+94ffk85kyGxlyG5ts7y0xE8//kg4HMbn9RGORE5dX7lUZGUlxr/+67+yMD9PNpvFV1dHz4ULXP/8c0ZHR6mPRMhms2SzWdZWV1mNxbj3813a29sJ+OtoaGg8dX2FQoGVlRXu3bvL4yePSSY38Xi9dHZ18dnnnzPx2WdkUmlSmQzxeJy1tVVy2Sx//etfaWltpT4cJhJpxHy3WeSFEEIIIc6sRoIq+VRa1JJK64/Wms3NTTweL3V1ddW5nV5NTrFfLpdjeWmJyclfePjwIblcDpfLRW9vL9ev3+Di4CCWZdHff5Fr166xub7Bs6dPyefzPHn0kI6OdurDYdweT3WS3pM5jmZ1dZWffvyBx48ekdnKoBV0dHYwfm2CixcHCUca6OtXbKyvs7GxwVYmw3Yux9zcLHd//plIJEIgEMTldr+2Ptu22dzcYHJykl8ePGA9nkBriEajDA0Pc/3GDRoaowT8Aa5NTBBfW2Pz/21QKpdYWnzJ3Ts/09DQwOjYOIHAThp5GWUlapMcuUII8ek4v0GVhtz2NkuLi0zef0BiLb53OyrvROKc0hocx6ZU7aK2vr5OIBCkr6+Pnt5e3G7Xsevats16IsH04ydM/jJJIh4HoDEa5erVUUZHRwmFQoAiFApx5cpV4qtrbG5ssBKLkUgkmJqaojHaRKg+REdHJ+ZOc47iQDp2qCSKyKTSTE9P89NPP7GxsU6pVKKpuZmh4WFGLl8m2tyE5XLR0BBhYHCQeCLB+vo6M09nSCaTPHn8hNbWNhqjUXp6equl62qVh09UzVYmw9zsLJO//MLC3Dz5fJ5wfT19/f1cHR2lq7sHt9uNZZr09fczfm2cxcUFns3MkM/lePL4Mb66OtLpDPX19SilUDKHlagBdrlMIrHO6uoKhUIB7Why2W2eP3tGQyRCnd+PMuRYFkK8X1pXbgleLi4QW16mWCyitcPeAGhpyDir8xtUAVtbWzx7+pStdJpAMAhU/9TyviPOKV2d06lQLKA1ZLPb+P0BvvzqK1pbWnC7KkGVUjuXLc3OAb29tcXc7BwPp6aYff6cUqlEMBhk4OJFro6O0t3Tg2lVTlnLMunq6uLq6CjLsRiZdJpMJs3c3BzRh1M0NTcRDtUTCofZrWZ3GysLisUic3Oz3L93l2czM5SKRdweDwMXB7h89SpdPV14fT6UUrjdbtpa2xgeHmZtdY21tTiZdIpYLMbU5BTNzc1EG6PU+f3Hnp+lYpHl5SUe7mb7S+O2XHR0djEycoXBwUv4/X4ATMukoaGBoZERlpaWmH3xAtu2WVtd5c5PP7G4sEAgEMAwDAmqRE1wbIdcLsvC/Dz5XB60Zmtri18e3GdjPYHL7ZZjWQjx3u0EVel0ipcvX1IsFKrjlCWYelvnOqjK5/MsLy2xtrpS7TrF7mfgQpxHGo1tlw8kizBNi0g4zK2vbuEPBCo3TvtunrTW2LbN8tISj6ammJmeJpVM4na5aG1t5dr161wcHKx+sLC3XiAYZGBggLW1NVaWlynMFkglk8w8fUpTUxNN0SbqAgFM0zx4s6Y1jnZIbm7w4MF9Hty/TzqVAqC1tZWxsTEuDQ0RCodRhrF7mQ0EAvT09DI6uklseZlHDx+S3c7y4vkzGhoa6O7uZmBwENM6WN9OUonk5iYz09M8nJxkJRYDx6l0+7s0xPDIMK2trfvWqwRynZ2dXJuY4C9/+QvJzSSFQoHlpSViy8u4XC6U2t+l8m1mzBLi/dJoHK0pFYugK0dtLp9nYX6elVis0uoqR7AQ4j3becfc6VWzf7mEVW/nXAZVSimUoVBa4aAp7rtBFR/Kgf5i57TMnRuQd13m25anUUrtBhO2bZNIJJidnyfS2IjX6wXN7nNs2yG1ucnjx4+ZmppieXkZZRiEIxGuXL3K2NjYbua9w6LNTYyNjbEwP08qmSSeiLOyssLDhw9paWmlpa2VUKi+GlhVPqHSWlPI53nyZJp7P99lfm4eNHg8bsbHx7ly5Sqtra143J4DdZmWRaShgUtDl1hfT7C2tsrycqXb4eNHD2lpaaajsxN/IIBh7iUW1VrjODbPX7xgcnKSudlZ8tkcHo+HvoF+RsdH6entxeP1HqjPMA0CgQC9Fy4wfu0ad27fIZ1MVverolgq72vtq/ztXp/O9Nf6lvFrOffOb5k7NyyVD1X2l6YolcpnKvN47+N1i0+XnM/vtjzeQ5mq2McYAAAYk0lEQVTvZxv3fwBa+ZBSvI1zFVS5PR5a2loZHhlmK5OpzkfzJgfoUQfeccsOl3lcPacpc/+ni/qEZa+r+3Xrv+k2vknd76rM4173UWW+6et+Xd1nKfPd70vHcSgWC6ysxCrHse2wtLTE9999R2trKx2dHXg83t0gJ5fdZvrpNPcf3Gfx5cJut7/+gQG+/Oormltbsayjx2JZlovm5ma++PJLVldXKRSLpNOpyljEBw9o7+jg8uXL+AN+lDIqAVWxwNLSEt/9538yOzeHY9uVAKevjy9ufkFXV/crAdUOt7tS39WrV1lcWCCXzbG+nmBlJcbt2z8xOHSJ0dGx3e66UAmqlpeXuX//Pk+np0mmUrhcLrq6uxkdG6NvYIBQfejI+lCK+nCYP/zxTySTKZZfLuFyuQgEA7tdIQ//RV7vXR1DZ1n/fZ5776PM93nuHbX+SYlcamlfvrrdlQ8XNMVCgXK5jKMdlGHg9Xirra5HlXdymWfblx/6GHrbMs9yDL7N+fyh7iFOs/673m+19V4q9yXHbePr6jnbvuzu6qa5uRn3Me//4vU+YlD16oUsEAwwMjJCuL6+MnDuwNMOHRCH+55/Gsd07V8fTvsa38d71Lss8y2OIce22dreqnStu3efzc1NNjY3mZqcpK+/D1+dj2i0CbfHTSGfqwQc9+4x8/QpqWQKj8dDR1cXExMTDFy8SMAfOGashUYpqAv4uXjxIuPXrpFKpSg8z5NOpZh++pSmlhYaGhro6u7C6/VSKhXZWF/nzp07PHn8mNTmJqZlEW1u5ptvv6Wvr59gIIhlWke+RMMw8Pp8dHV1MXH9Omtra+RyWXK5HC9fvuTf//JvNDY00nuhF7fHg+NotrYy3Lt7l8ePHhGvJt+INDZydWyMkcuXaWxsrCbU0IdqqySh8Hi9DF4a5Ktbt1iNxQj4AzS3tuDxVC78urqKOvw3Pcmv5T7nqPXPU9xy0vpnvdc+av2Pea+9E1RRmWQ7k8lQyOexHQfLsggEAvh8PgxD7b2vyTEocctRy87L6z5q2fu4Lzlt3Wcp87xcx85S5v7nvsNjMBQM0tLSeuBDUfFmPlJQpdk/d+fOoH2Px0t7ewfRaFM1EwkcfVQd5aibzoN1vvrc014hXlfmWd5l3mb9464kp33uWa5Op13/fb7u91Hmu3rde8scxyGfz9Pa2ko+l2fq4RSpzRQrsRg/fP89ra1teL0+AsrPxsYGjx49YnKyku1Pa01jUxNDQ0NMTEwQDkewrKMCjr16LcuiPhJmbHyc1ZUV0ukUy0tLxONxpiZ/oaOjHb/fT7QpylY6w4sXL/jhu+9YXVmhXC4TaWxkaGiYz27epDHaWP3UXB27Bw3DIBgKMXjpEktLy6SSKV68eE46leLevXsMXBygzl9Ha1sbxUKRudlK6vWF+XlyuRzBQID+gQFGx8fp6OzE5/Puu5c8eGHQKEzLoj4c4fObN8lub+P1eAnVh7CqLVVvcsae7EMcg+/z3HsfZZ7n8/lD78vjtvGk5+oDz3bsyrWhXC7hOBrTNPF4PLjcruqYqpO2/V3tyw99DB217Cz78qT1j/K2++00ZdbyfpP7kpO38W2Xvc3672NfHlfG3nNN08Llcp1qehRxtHPV/c80TUyfr5pxbGepBFVy8aqtoApdCawaGhpYi8dJZ9JMbz8hn8vyaGqKvr4+QvUhGiIRZmdnuX//HnOzsxQLBerr6+nr62d0bIzevj4s6+gWo8NMy6T3Qi9XRq8ST1TqTCdTLMzN8eDePaLRJpSCRDzBvbt3mX7yhFw2i8vjobu7h5tffEFPTw9uj2c3KYw6pk5lGFguF80tLYyOj5OIr7GxXkm1Hl9b5fvvviPa1ISvro6tdIY7t28zPf2EZDKJaZq0tbczNj7OpaEhgsHgXtr3o/Z+NWW65TLo6e3dtz2ve9M4i08xEHjbMs/z+VwLN7Sv257j3t8kqJKg6qhlElSdbf3zfB07atmHCqoOe1fvpb9eHy+oUod/VSf8Pd/FH/rI28O3rOttyzzr+idt42me+yG2sVbKfA/bqEAZCo/Hw61bt1iJxVhbixNfXSWTTnPnp9s0NDQSiUSYeTrN0ydPyGQyeN1uOjsradKHR0b2urcds4X7GcrA5/MxNDRMPB6vzHeV2SKVSvHkyTTR5mZyuSzxRIIfv/+BXDYLSlXmwBob5ebNm3g8XiqfZpzi+FKKOn+Avr4+EmNjxGIxNpNJHNvmwYMHdHZ1Uef1ks5k+O5vfyO+uka5XCba0srFwUuMXh2lra0N47X1Hb0DDr5l6NeXcSof4his1fPkPJZZq9t40Ku3P+/7Gl6rf++T1v9YZdbyfpP7kvNb5rvel/qV68zB0EyCqXflXLVUCfFJUYrGaBMTN26wsrLC9+k02e0sz2ZmiETCeD0eFhYWiC0tA9AQjXJpeIiRkWFajsn29zptbW1cuXyF1dgK8bU4qysxYrEY3/3tbyzOzVEql3k5P49G4/X7mZi4xs0vblIfCfPKOMVTCAVDXLkyysb6Os+ePye5vk65WOTn27eJr66igdjyMqViEZfLTf9APzc++6za6nSKgOpUzxBCCCGE+Lg+UlD1ZrNx7I+xJaoWtWBnTJJSiqGhIRJrayzMzzP74gXlUpmpyUkMw6BQKOA4Dh6Ph0uXLjExcZ3u7p4D80Mdfbbs/6xp5/fKeKfOahKJRDzOxnqCcrnE0vIyiUQCtEZrjcvj5kJfH9ev3+DixcE3mkR3//aYlkm4IcLlq1f5ZnmZf/k//0KpWGB1ZYXk5iYA2WwWDfT39zM6Ns6FvgvU+f2VMSTq8Os4RMvZLj41+tjOQkII8b5puQC9N+Z/+a//7b9/7I14ExJUiVrjcrlxuVyUS2Xm5+cp5AsUCwWKhSK2Y+N2u+m/eJGvv/6ay1euEok27o5rgoNBjN73XXnkUGuPUlguF5ZlUS6XSCQSZNJpisUixWKRUqmEYRrURyL86R/+gRs3PyfaGK0GN29+Ximldgfbezwe5ufm2MpkKFXrKxaLaK0J1tfz1a2/4/ObN+ns6sbj8RyY6Jd9P6kDPx8XUu59OSdcFQ7uL7lyiPNFHfqSI1QI8e4dvs5Ul57xfV8cryZm+pI3HVHLDMOgpbWNG599xqWhIQLBIGY1aLIsi8ZolPHxcUYuX6Eh2ribuOHwBfCAE04Dy7JobGxk5MoVxieuEWlowDJNVHVbAsEQl69cYWJiojKp8BEXVg1otfd9EtM0CdWHuDg4yN9/+y0NDQ2ofUGhaVkMj4wwOjZKZ1cnPp/vNXtsL7g61dl+0hPlkiHOnVdvboQQ4kPZ6yUi3rWaCKqEqHU+n4/unh6+/uabyuS/Xi/KUASDQS4OXmL82gQdHR34fL7T3XCd2GNO46vOJXVtYoL+gQECgcpcV16vj87OTn7z7W/o6OzE7fagj6lL62o3gVNkyjBNk0gkwm9++1sGq4EjVLoHRqNRbt26xcWBAYLB4IFWuHfipG085fYLIYQQQrwNSVQhxAeglKI+XM9Xt27x7OkM6WQSNqG1vZ3Pbt5kZGSEujr/oWBK7/v3yM5+xzMUvro6hkcus7qyynoiQb5YpCHayJWrV7lx4wahUD3GMaW9aQOPUgpXNc36H/74R7a3Mvzy4AHBYJDPv7jJ8OXLNESjuFzu6is6Temn24KTQjRpqBJCCCHEhyBBlRAfiFIGwWCIr7/5hmQqycbGBiMjlxkZHsYfCBzoMvcuGIZJKBhkeGSE5aUl3F4vzS0tfPu73+IPBVHGOw43lMLldjM2Ps7c7Au2MhmCwSDf/P23tLe3466miBdCCCGE+NRIUCXEB6KUwrIs+vr7+erWLXLZLF3dPbS2tWGaBkqdvg3nxHp2EjcoUJaL9vZ2vvjqSzq6uqjz19HT04NpmMd2MdS7aTD2/j1VrdWnhkIhrt/4jFAohGlZXLhwgbq6uso4MrVTx95rleQzQgghhKh1ajm2KiMOhPhAtNbYts1KLIbt2ASDIUL1oWrAcTCw2At6zpa7TlXrK9tlMuk06UwawzBob++opFBHHaxT7+tuqN4m2NGkU2lSqSRaQ3NLC263G6PaMqZRB5JfKEmbLoQQQogaJ0GVEB/QTitQsVisZuMzMS1z9/GDM52fLaDZs1eabdvYdhkAt9tz6Dk7q+pDi88e6ji2jW3baCrZCPdnGzqQO6K6ia9L4CcXKSGEEEKcZ9L9T4iPwO12H5si4n202pimuZuqfX9dx//6dlthmCbGbn36wP/7cxs61T6AuvqwtFgJIYQQohZJSnUhxEfzaq5DIYQQQojaIy1VQnxAr7bEvO+2mbOGLcelzDhcxuu2X7/SIfGVtV+zWRJsCSGEEOK8k6BKiA/qLYIopQ6Oezpz+e8rkDspfDqedPkTQgghRK2ToEqIGlAZc6TfIAA5FHzti8feLIh5XRC3l1bjuJDqcE7Dg/8fSFvxxlsnhBBCCHEeSFAlRE07Kd36vmBlXw5zvS+eOTrgOU09R2UZPGr90wRJ+8s+W/p4IYQQQoiPSYIqIWrAXjLy/Uv0GzY/qQPtQkeObzqlA+1TO6n7tEKjUMqojKRSJ5UpI6WEEEII8emQoEqImrITjDhHtBmddjyVQSWBhPPKI2/OwdBlHNsmX4ScbeD1+XFZBua+bRRCCCGE+JRJUCVEzdBUgimNLhfY3s6S3c5TLJUpaXi1a97elLpKmSjTQlkeXG4vXq8bj8fENBVGtUXJ2TcJ726LltpZpo5sXDIcGwrbZDY3eBFbJ55zMThylcb6AF4TOBS4He34EVhCCCGEELVAgiohashON8BCPs/C/AvmXsyzthZnM5WhVLIpY6BNF5bLjdtl4TIrE+2ahoFpufB466ivD9Pc2k5zSwuhSBhfnReXZaCURqEx9gdP+qgRT5XnKRx0uUBmI8Hjh1P8++0pNp0Q9a3dhIIBPOZxAdJxXf8koBJCCCFEbZKgSoiaUQllwADDwLJMTMthO7POo/sPiK9tsGVbWKFmmlrb6GhtpCHoQWmbcrFAPrtNPpcDxyEQbqa5q5++oRH6+vtojjbgssDABvQRXQv30xi6jNJFstspFmaf8/PtO/zw40Ps+h5+v13A1oqTcxUeHh8mAZUQQgghapcEVULUEK0rAYjHF+DSyAi9PW10NEWILyywuRSjWHTwtYTpGRzlq+sj9LbXQ7lAJrXO2tICs0+nefroMb/cv4+ua2bo2ku+/vY33LgxTmPYj6vaxXCnA+DhBOiV2itBlVPcZn3lJQ8nf2Fy8iHp9BaeegtHmTg7ySqEEEIIIX4FJKgSombsb80xcACP10tjY4S2pgbmvS42bYtAJErnhUEuDV+hp9mLwsakjCqOkVy9xi93fuB//M//xbOVTX7461/JFsqEIhHGxy9jGBamKh2adWqHBqXRjkZrh0wqw8z0DE8eP2ZldQXwV8Mxg9e3PEnLlBBCCCE+HcbH3gAhxFkZaEyUYeJ2mVjmTnqJnQx/OxQOFspyE46EGR4e4O++GCcackEpw+LcLN//dI9UVlNyTjPdr002V2B2domZmRd4PB4uDvSicOSCIoQQQohfJbkHEqKGKKVQSsHutwHKwDAUSjkoVQmq9M7juwGWAcrE5XIRDgXo6+mgvs6FqctspZMsLsbIbJcoO6raxbCS8W/nq8JBOWWKuW0WF5d49HQWyxukq6eH5mhDpf5qdkKZh0oIIYQQvybS/U+ImrUXNO2Mddp7qBJUqQPPUyhD4XJZhEJ+PC4TU2nKpRLZbI5iyUbr44MhpR3s3BbJ1WWePXtBYqtEX+8Afp1hY30VtTsW6zTbLYQQQgjx6ZCgSohPhT5uLJPe+1+D1ppS2cbRlVQSyjCwXCbmse3WleQVulxiK7nO8twsL5dihFp66ei7AJuzGEpj6NdN9ns4458QQgghxKdBuv8JUQP0oe/XPlr9Ue2bU0ppB9u22d7Os7QcJ5MtYmsDr89HtCFCndeFaVRmo9r5QmvQNkqXyGczxGIrzC3EKGNy6fJVoi0tWJaFoZ1q6ow3fUVCCCGEELVPgiohPhlHBykKjUEZnBLZ7W0WF5b5+d4U6+kStuEl2tLG1SuXqPdbWK9cERwsihilDCvLy0zPxlkvehkYGqO7rZmgm0pmwff+2oQQQgghzi/p/idEDXhdxzkNoHZafxzQDkrb4NiUS3kyqQ0SsSXmZh7z8P5dpmeXKCk3Fy4OcvPLLxm9PESdCyxlV5NdsFuWckokVpaYm5tjI1si1NpH/+AwIZ8bs5DGxN4dz6WObIDSR/wsYZgQQgghPh0SVAlRA04bgiinxFYywfzMI+4YG8zX2eSyOZLJFInEOol4nM1knkjnAP2tPfQNXubK6BU6WxvxmDYGOxn8Kt/aKZPZyvJibpm19TQ+f5Tevh6ijRFclobCwW3T+344aZv3J3+X8EoIIYQQtU6CKiFqwGmm0lUaDF2mtJ1kPTbLC3uVxeI6y2sbbKby5GwDTyBMW/cwvX199F3opaujjWg0jN9nYFHeHYMFDjhlSoUsC4sx5pc20cpDW1srnR1NeDyqEnSpQ9umdLW56qitr6Z7B6pZ2ytB2GsCMCGEEEKI806CKiFqlT74o6ompnBbBqE6L5Ggn8JmnM14nKXVFLYrQFt9G+0DVxn//DrdrRFCPguX6WBo++B0wdrBKeVIrceZmXlBJqdp7Wynq6uTcMiHgb27ATupMCrRUjW5BUelotgXOkmOCiGEEEJ8QiSoEuITYSuwlQtffROd/SOMX+mArQ4KJSjkpljfylPczrCVyuB2eXC5PBhmJdff/oBH4WA4ZXKpdV7OPOLly0VCrf20dHYRaYhgaRtdrmQHdGybkgNlbaK1wnDKqHIJXS5jm5UJhA1zJxWhwtDS5U8IIYQQnx4JqoT4hDi4UO4Q3lAT0fYuou4wxVye8naK+w9nScQW+fn2HeojYTx/d4OOlghe16shjp3Psr60wJNffiaxYeOEO3m5liCXy+BWe61UTjbJ2tw86xspHEdTzGeZez6DUcoR9FmEg15a25rxeN1YEkkJIYQQ4hMlQZUQnwqlQCmUMlCmhenyEQx7uDg8zNbmOplcgczMCusvn3L7bxaRgAfr+jjtzRGUwYF5pnL5PPF4nPm5eRY3S6xsKxaez+A1waK8V2dpm/zmKrGlZUq2jZ1Jc/v775h5XE+938OFnk6+/uYrGlz1GMrc10p1XIR1XL9AiciEEEIIcX5JUCXEJ0JRiasqw5sMHOVCuSyiLW0MXxkhvZUmuZVjej7By2eP+OHHBjyBEG7vCC0hL6bh7JbjaHCUgeX2YFAgn05Q2E5hVEreq9POU95OspUtVPIFlgpsxFfJZ7fJBvwEA0EKZRuHNx1GJanXhRBCCFE7JKgSolYdijf0/m+l0MrEUS7cvgDt3d1cyW6RSm+R2kyylEzweOoB/lCYgL8O/0g/IZ+JoTQKheX20tDSzsjoNYKJNAU8OBi7sY7ayd5XyrK1vsKio1nLFDE9Hrq6u2lsjBL019HR2Y7X48VQBgrFXrAkmSqEEEII8emQoEqIWqX1bgpzrfVuQOWg0UpX05YrHMPCG4rSOzBEPltkMx4nc/cxG/FFpu58j9/noSFcT19vB16zksvP7fPT3jtAfbSZ0aKmjIXeF1TtBHRONkns+SO+p8Tc8hquUANffP0tg/0XCHgs/HUW4VAQl6kwKjkC9yVW52Bhr53iWAghhBDifJKgSoiap3EOBCS6mtFv5zcXjmnirze4NFzCySdZXV3l0fwGicVn/PyTl7pwI3WRZtrrLSxTYVoe3MEo7mCUCAqtjEONS5Vf7O0AamuFsN9V6X7oqqOxtYvOnh7q3Q4WxQPbIoQQQgjxKTJe/xQhxPmhARt0GaVtsMvYpTKFkk3RVpWxUOUidiFHqVTCxqKMha0scHnwR6JcHB7j29/+lp62RnxGnsTiDD/+x1+4+9NPxOMb5EqaMi5s5cJRFo4y0btJMI76dna/UQq9u1yjFBhKYfA2FxtptRJCCCHE+SYtVULUDI3CARyUU0aX8xSyaZLrm2xsbLFdBNt2KGylSK6tsJHYoCUSwG2Cy1SgLExPkGBLF9c+/4K1tTWKxdvMrqyzMvuYf/u//xu3LnD58jDNTRHqPBampV5JTnF4pqnKb5VAaicD4U5L1sFwaH83v/2PnJSUQgIqIYQQQpx/ElQJUXM0hXyO5cVZFmafM/NkmvmlVbJlwDDJpjZ4MT3Fj26H9OYaXe0ttLc1EqzzguHG8IVp7e7ly6++JJ1Kkck+ZG07zYsnk/yHx2JldYWR4UH6+7qJNobwmMaxE/ZqwFEWGG5My4VlgIFdDf7eoNvf/hwWBxYKIYQQQpx/SmstAx6EEEIIIYQQ4oxkTJUQQgghhBBCvIX/D80xiDerdDFDAAAAAElFTkSuQmCC)\n"
      ],
      "metadata": {
        "id": "-FWp_ms_WLD3"
      }
    },
    {
      "cell_type": "markdown",
      "source": [
        "###A)Usando a eliminação de Gauss sem pivotamento, encontre i1, i2 e i3 quando:\n",
        "\n",
        "E1 = 12 volts\n",
        "\n",
        "E2 = 10 volts\n",
        "\n",
        "R1 = 0.001 ohms\n",
        "\n",
        "R2 = 3.333 ohms\n",
        "\n",
        "R3 = 4.002 ohms\n",
        "\n",
        "R4 = 0.012 ohm\n",
        "\n",
        "Encontre as correntes i1, i2 e i3 e aritmética de truncamento com três  algarismos\n",
        "\n",
        "\n",
        "Função é dada por:\n",
        "\\begin{align}\n",
        "R_2 * i_2 - R_4 * i_1 + R_1 * i_1 + E_2 - E_1 = 0\\\\\n",
        "R_3 * i_3 - R_2 * i_2 - E_2 = 0\\\\\n",
        "i_1 - i_2 - i_3 = 0\n",
        "\\end{align}"
      ],
      "metadata": {
        "id": "cHIGD9MhXdbb"
      }
    },
    {
      "cell_type": "code",
      "source": [
        "A = np.array([\n",
        "    [1, -1, -1],\n",
        "    [-0.011, 3.333, 0],\n",
        "    [0, -3.333, 4.002]\n",
        "], dtype=\"float\")\n",
        "\n",
        "b = np.array([2, 10, 0])\n",
        "\n",
        "A, b, det, info = Gaussiana(A, b, 3, False)\n",
        "\n",
        "i1, i2, i3 = np.linalg.solve(A, b)\n",
        "\n",
        "print(f\"Vetor: [ {i1}, {i2}, {i3} ]\")\n",
        "print(f\"Determinante: {round(det, 3)}\")\n",
        "print(f\"Info: {info}\")\n",
        "print(f\"Resultado Final sem pivotamento: \\n i1 = {round(i1, 3)}\\n i2 = {round(i2, 3)}\\n i3 = {round(i3, 3)} \")\n",
        "\n"
      ],
      "metadata": {
        "colab": {
          "base_uri": "https://localhost:8080/"
        },
        "id": "PX1JE0X_WTO9",
        "outputId": "a6658bd2-9c6b-424d-f41e-35529d6e4f23"
      },
      "execution_count": null,
      "outputs": [
        {
          "output_type": "stream",
          "name": "stdout",
          "text": [
            "Vetor: [ 7.524192240250563, 3.018531687561583, 2.50566055268898 ]\n",
            "Determinante: 52.912\n",
            "Info: 3\n",
            "Resultado Final sem pivotamento: \n",
            " i1 = 7.524\n",
            " i2 = 3.019\n",
            " i3 = 2.506 \n"
          ]
        }
      ]
    },
    {
      "cell_type": "markdown",
      "source": [
        "###B)Usando a eliminação de Gauss com pivotamento parcial melhora a resposta da letra a?"
      ],
      "metadata": {
        "id": "rw7-aRRna1u_"
      }
    },
    {
      "cell_type": "code",
      "source": [
        "A = np.array([\n",
        "    [1, -1, -1],\n",
        "    [-0.011, 3.333, 0],\n",
        "    [0, -3.333, 4.002]\n",
        "], dtype=\"float\")\n",
        "\n",
        "b = np.array([2, 10, 0])\n",
        "\n",
        "A, b, det, info = Gaussiana(A, b, 3, True)\n",
        "\n",
        "i1, i2, i3 = np.linalg.solve(A, b)\n",
        "\n",
        "print(f\"Vetor: [ {i1}, {i2}, {i3} ]\")\n",
        "print(f\"Determinante: {round(det,3)}\")\n",
        "print(f\"Info: {info}\")\n",
        "print(f\"Resultado Final com pivotamento: \\n i1 = {round(i1, 3)}\\n i2 = {round(i2, 3)}\\n i3 = {round(i3, 3)} \")\n"
      ],
      "metadata": {
        "colab": {
          "base_uri": "https://localhost:8080/"
        },
        "id": "yHpevNscbAYQ",
        "outputId": "b4489eba-7cbf-4f43-d57e-18b27d237fbe"
      },
      "execution_count": null,
      "outputs": [
        {
          "output_type": "stream",
          "name": "stdout",
          "text": [
            "Vetor: [ 7.532516602641081, 3.018559160704786, 2.513957441936295 ]\n",
            "Determinante: 52.737\n",
            "Info: 3\n",
            "Resultado Final com pivotamento: \n",
            " i1 = 7.533\n",
            " i2 = 3.019\n",
            " i3 = 2.514 \n"
          ]
        }
      ]
    },
    {
      "cell_type": "markdown",
      "source": [
        "***R: Melhora a respota utilizando a pivotação Parcial, devido ao pivotamento parcial ser uma técnica utilizada no método de eliminação de Gauss que ajuda a evitar erros numéricos decorrentes de divisões por números muito pequenos ou muito próximos de zero. A ideia é escolher o pivô (elemento da diagonal principal) de tal forma que ele seja o maior elemento em valor absoluto da coluna correspondente, antes de fazer as eliminações sucessivas. ***\n",
        "\n",
        "***O pivotamento parcial é importante para garantir a estabilidade numérica e melhorar a precisão dos resultados obtidos pelo método de eliminação de Gauss.***"
      ],
      "metadata": {
        "id": "ncLSUEXbWhAg"
      }
    },
    {
      "cell_type": "markdown",
      "source": [
        "##***2) O SELA abaixo pode ser decomposto na forma LU (Fatoração LU)? Caso positivo, encontre as matrizes L, U e o vetor solução.***\n",
        "\n",
        "\\begin{align}\n",
        "6x_1 + 15x_2 + 55x_3 = 152.6 \\\\\n",
        "15x_1 + 55x_2 + 225x_3 = 585.6 \\\\\n",
        "55x_1 + 225x_2 + 979x_3 = 2488.8\n",
        "\\end{align}"
      ],
      "metadata": {
        "id": "vyJMywEfcLEA"
      }
    },
    {
      "cell_type": "markdown",
      "source": [
        "***R: A Matriz pode ser decomposta utilizando o método da Fatoração LU***"
      ],
      "metadata": {
        "id": "4bwteezNV3lp"
      }
    },
    {
      "cell_type": "code",
      "source": [
        "A = np.array([\n",
        "    [6, 15, 55],\n",
        "    [15, 55, 225],\n",
        "    [55, 225, 979]\n",
        "], dtype=\"double\")\n",
        "\n",
        "b = np.array([152.6, 585.6, 2488.8], dtype=\"double\")\n",
        "\n",
        "L, U, b = FatoracaoLU(A, b, 3)\n",
        "\n",
        "\n",
        "y = np.linalg.solve(L, b)\n",
        "x = np.linalg.solve(U, y)\n",
        "\n",
        "print(f\"Matriz L: \\n{L}\\n\")\n",
        "print(f\"Matriz U: \\n{U}\\n\")\n",
        "print(f\"Vetor Solução: {x}\")"
      ],
      "metadata": {
        "colab": {
          "base_uri": "https://localhost:8080/"
        },
        "id": "Uu09dNKMc6Lc",
        "outputId": "89ee7542-def9-476e-acfb-0815954b5285"
      },
      "execution_count": null,
      "outputs": [
        {
          "output_type": "stream",
          "name": "stdout",
          "text": [
            "Matriz L: \n",
            "[[1.         0.         0.        ]\n",
            " [2.5        1.         0.        ]\n",
            " [9.16666667 5.         1.        ]]\n",
            "\n",
            "Matriz U: \n",
            "[[ 6.         15.         55.        ]\n",
            " [ 0.         17.5        87.5       ]\n",
            " [ 0.          0.         37.33333333]]\n",
            "\n",
            "Vetor Solução: [ 11.27916667  49.10839286 -11.84910714]\n"
          ]
        }
      ]
    },
    {
      "cell_type": "markdown",
      "source": [
        "##***3) O SELA abaixo pode ser decomposto na forma GG$^T$ (Fatoração de Cholesky)? Caso positivo, encontre as matrizes G, G$^T$ e o vetor solução.***\n",
        "\n",
        "\\begin{align}\n",
        "8x_1 + 20x_2 + 15x_3 = 50 \\\\\n",
        "20x_1 + 80x_2 + 50x_3 = 250 \\\\\n",
        "15x_1 + 50x_2 + 60x_3 = 100\n",
        "\\end{align}"
      ],
      "metadata": {
        "id": "3tkxkRY8fQw5"
      }
    },
    {
      "cell_type": "markdown",
      "source": [
        "***R: A Matriz pode ser decomposta utilizando o método de Cholesky***"
      ],
      "metadata": {
        "id": "mdhs32twVqG3"
      }
    },
    {
      "cell_type": "code",
      "source": [
        "A = A = np.array([\n",
        "    [8, 20, 15],\n",
        "    [20, 80, 50],\n",
        "    [15, 50, 60]\n",
        "], dtype=\"float\")\n",
        "\n",
        "b = np.array([50, 250, 100], dtype=\"float\")\n",
        "\n",
        "G, GT = cholesky(3, A)\n",
        "\n",
        "y = np.linalg.solve(G, b)\n",
        "x = np.linalg.solve(GT, y)\n",
        "\n",
        "print(f\"Matriz G: \\n{G}\\n\")\n",
        "print(f\"Matriz Transposta de G: \\n{GT}\\n\")\n",
        "print(f\"Vetor Solução: {x}\")"
      ],
      "metadata": {
        "colab": {
          "base_uri": "https://localhost:8080/"
        },
        "id": "S2lNEUpsf3Yh",
        "outputId": "f917c676-1bcd-4cab-c9b6-ffd576b0da85"
      },
      "execution_count": null,
      "outputs": [
        {
          "output_type": "stream",
          "name": "stdout",
          "text": [
            "Matriz G: \n",
            "[[2.82842712 0.         0.        ]\n",
            " [7.07106781 5.47722558 0.        ]\n",
            " [5.30330086 2.28217732 5.16397779]]\n",
            "\n",
            "Matriz Transposta de G: \n",
            "[[2.82842712 7.07106781 5.30330086]\n",
            " [0.         5.47722558 2.28217732]\n",
            " [0.         0.         5.16397779]]\n",
            "\n",
            "Vetor Solução: [-2.734375   4.8828125 -1.71875  ]\n"
          ]
        }
      ]
    },
    {
      "cell_type": "markdown",
      "source": [
        "##***4) Resolver o SELA abaixo usando os métodos de Gauss-Jacobi e Gauss-Seidel e  verifique a convergência dos métodos. Considere como critério de parada $\\dfrac{\\mathrm{}||x^k-x^{k-1}||_{\\infty}} {\\mathrm{}||x^k||_{\\infty}} < 10^{-3}$ ou $k_{max} = 10$. Justifique os resultados obtidos.***\n",
        "\n",
        "\\begin{align}\n",
        "10x_1 + 2x_2 - 3x_3 + 5x_4 = 48 \\\\\n",
        "x_1 + 8x_2 - x_3 + 2x_4 = 4 \\\\\n",
        "2x_1 - x_2 - 5x_3 + x_4 = -11 \\\\\n",
        "- x_1 + 2x_2 + 3x_3 + 20x_4 = 150\n",
        "\\end{align}"
      ],
      "metadata": {
        "id": "trBwh0uzhayH"
      }
    },
    {
      "cell_type": "markdown",
      "source": [
        "***Gaus Jacobi***"
      ],
      "metadata": {
        "id": "81jWQZqrqPS3"
      }
    },
    {
      "cell_type": "code",
      "source": [
        "A = np.array([\n",
        "    [10, 2, -3, 5],\n",
        "    [1, 8, -1, 2],\n",
        "    [2, -1, -5, 1],\n",
        "    [-1, 2, 3, 20]\n",
        "], dtype=\"float\")\n",
        "\n",
        "b = np.array([48, 4, -11, 150], dtype=\"float\")\n",
        "\n",
        "x, iter, info = gausJacobi(4, A, b, 10**-3, 10)\n",
        "print(f\"Vetor solução: {x}\\n\")\n",
        "print(f\"iterações: {iter}\\n\")\n",
        "print(f\"Info: {info}\\n\")"
      ],
      "metadata": {
        "id": "ir9M-3yOiRH0",
        "colab": {
          "base_uri": "https://localhost:8080/"
        },
        "outputId": "9d040c35-7839-4943-e6b7-12c5f39d8369"
      },
      "execution_count": null,
      "outputs": [
        {
          "output_type": "stream",
          "name": "stdout",
          "text": [
            "Vetor solução: [2.9971968250000005, -1.00055990625, 4.998165762499999, 7.000635368749999]\n",
            "\n",
            "iterações: 6\n",
            "\n",
            "Info: 0\n",
            "\n"
          ]
        }
      ]
    },
    {
      "cell_type": "markdown",
      "source": [
        "***Gauss Seidel***"
      ],
      "metadata": {
        "id": "3normxt5qTBK"
      }
    },
    {
      "cell_type": "code",
      "source": [
        "A = np.array([\n",
        "    [10, 2, -3, 5],\n",
        "    [1, 8, -1, 2],\n",
        "    [2, -1, -5, 1],\n",
        "    [-1, 2, 3, 20]\n",
        "], dtype=\"float\")\n",
        "\n",
        "b = np.array([48, 4, -11, 150], dtype=\"float\")\n",
        "\n",
        "x, iter, info = gausSeidel(4, A, b, 10**-3, 10)\n",
        "print(f\"Vetor solução: {x}\\n\")\n",
        "print(f\"iterações: {iter}\\n\")\n",
        "print(f\"Info: {info}\\n\")"
      ],
      "metadata": {
        "id": "_XVF5gzWkrCn",
        "colab": {
          "base_uri": "https://localhost:8080/"
        },
        "outputId": "ba01a939-10e1-43f1-928e-858469a03653"
      },
      "execution_count": null,
      "outputs": [
        {
          "output_type": "stream",
          "name": "stdout",
          "text": [
            "Vetor solução: [3.0013332019653327, -0.9998652252517699, 5.000522127101135, 6.999974863558274]\n",
            "\n",
            "iterações: 4\n",
            "\n",
            "Info: 0\n",
            "\n"
          ]
        }
      ]
    },
    {
      "cell_type": "markdown",
      "source": [
        "***R: Método de Gauss-Seidel convergiu mais rapidamente devido a matriz ter uma diagonal dominante, fazendo com que o método de Gauss-Seidel converga mais rapidamente que o método de Gauss-Jacobi***"
      ],
      "metadata": {
        "id": "a-eE1LxHVI2i"
      }
    },
    {
      "cell_type": "markdown",
      "source": [
        "##5)"
      ],
      "metadata": {
        "id": "XSPWL0kcmdzZ"
      }
    },
    {
      "cell_type": "markdown",
      "source": [
        "###A) Aplique analítica e graficamente os métodos de Gauss-Jacobi e Gauss-Seidel no sistema:\n",
        "\n",
        "\\begin{align}\n",
        "2x_1 + 5x_2 = -3 \\\\\n",
        "3x_1 + x_2 = 2\n",
        "\\end{align}"
      ],
      "metadata": {
        "id": "sGyzRYMopPIm"
      }
    },
    {
      "cell_type": "code",
      "source": [
        "func1 = lambda x : (- 5 * x - 3) / 2\n",
        "func2 = lambda x : (2 - x) / 3\n",
        "plot_two_functions(func1, func2, -60000, 60000, 10, \"Func\", \"x\", \"y\", \"func1\", \"func2\")\n"
      ],
      "metadata": {
        "colab": {
          "base_uri": "https://localhost:8080/",
          "height": 293
        },
        "id": "WNZr9E0Uk7Ae",
        "outputId": "2e642fe1-d7cd-4570-f78c-dc88e8000b3a"
      },
      "execution_count": null,
      "outputs": [
        {
          "output_type": "display_data",
          "data": {
            "text/plain": [
              "<Figure size 432x288 with 1 Axes>"
            ],
            "image/png": "[encoded data removed]"
          },
          "metadata": {
            "needs_background": "light"
          }
        }
      ]
    },
    {
      "cell_type": "code",
      "source": [
        "func1 = lambda x : (- 5 * x - 3) / 2\n",
        "func2 = lambda x : (2 - x) / 3\n",
        "A = np.array([\n",
        "    [2, 5],\n",
        "    [3, 1]\n",
        "], dtype=\"double\")\n",
        "\n",
        "b = np.array([-3, 2], dtype=\"double\")\n",
        "\n",
        "x, iter, info = gausJacobi(2, A, b, 10**-3, 10)\n",
        "\n",
        "print(f\"Vetor solução: {x}\\n\")\n",
        "print(f\"iterações: {iter}\\n\")\n",
        "print(f\"Info: {info}\\n\")\n",
        "#plot_two_functions(func1, func2, -10, 10, 10, \"Func\", \"funcao1\", \"funcao2\", x)\n",
        "plot_two_functions(func1, func2, -60000, 60000, 10, \"Func\", \"x\", \"y\", \"func1\", \"func2\", x)"
      ],
      "metadata": {
        "id": "TcZ6-tkJnJOl",
        "colab": {
          "base_uri": "https://localhost:8080/",
          "height": 397
        },
        "outputId": "cb2d21e8-01a5-4ed7-9433-2b15f8d45c23"
      },
      "execution_count": null,
      "outputs": [
        {
          "output_type": "stream",
          "name": "stdout",
          "text": [
            "Vetor solução: [-59325.171875, 71190.40625]\n",
            "\n",
            "iterações: 10\n",
            "\n",
            "Info: 1\n",
            "\n"
          ]
        },
        {
          "output_type": "display_data",
          "data": {
            "text/plain": [
              "<Figure size 432x288 with 1 Axes>"
            ],
            "image/png": "[encoded data removed]"
          },
          "metadata": {
            "needs_background": "light"
          }
        }
      ]
    },
    {
      "cell_type": "code",
      "source": [
        "func1 = lambda x : (- 5 * x - 3) / 2\n",
        "func2 = lambda x : (2 - x) / 3\n",
        "A = np.array([\n",
        "    [2, 5],\n",
        "    [3, 1]\n",
        "], dtype=\"double\")\n",
        "\n",
        "b = np.array([-3, 2], dtype=\"double\")\n",
        "\n",
        "x, iter, info = gausSeidel(2, A, b, 10**-3, 10)\n",
        "\n",
        "print(f\"Vetor solução: {x}\\n\")\n",
        "print(f\"iterações: {iter}\\n\")\n",
        "print(f\"Info: {info}\\n\")\n",
        "plot_two_functions(func1, func2, -6000000, 6000000, 1000, \"Func\", \"x\", \"y\", \"func1\", \"func2\", x)"
      ],
      "metadata": {
        "id": "vHt-McUrnnDl",
        "colab": {
          "base_uri": "https://localhost:8080/",
          "height": 397
        },
        "outputId": "9acd273d-3fe6-4cbd-b69c-4a599de20909"
      },
      "execution_count": null,
      "outputs": [
        {
          "output_type": "stream",
          "name": "stdout",
          "text": [
            "Vetor solução: [-563135146.0947266, 1689405440.2841797]\n",
            "\n",
            "iterações: 10\n",
            "\n",
            "Info: 1\n",
            "\n"
          ]
        },
        {
          "output_type": "display_data",
          "data": {
            "text/plain": [
              "<Figure size 432x288 with 1 Axes>"
            ],
            "image/png": "[encoded data removed]"
          },
          "metadata": {
            "needs_background": "light"
          }
        }
      ]
    },
    {
      "cell_type": "markdown",
      "source": [
        "###B)Repita o item (a) para o sistema permutando as equações."
      ],
      "metadata": {
        "id": "ulwddAROosVB"
      }
    },
    {
      "cell_type": "markdown",
      "source": [
        "***Gauss Jacobi***"
      ],
      "metadata": {
        "id": "TnOEb_m7o03X"
      }
    },
    {
      "cell_type": "code",
      "source": [
        "func2 = lambda x : (- 5 * x - 3) / 2\n",
        "func1 = lambda x : (2 - x) / 3\n",
        "A = np.array([\n",
        "    [3, 1],\n",
        "    [2, 5]\n",
        "], dtype=\"double\")\n",
        "x, iter, info = gausJacobi(2, A, b, 10**-3, 10)\n",
        "\n",
        "print(f\"Vetor solução: {x}\\n\")\n",
        "print(f\"iterações: {iter}\\n\")\n",
        "print(f\"Info: {info}\\n\")\n",
        "plot_two_functions(func1, func2, -6000000, 6000000, 1000, \"Func\", \"x\", \"y\", \"func1\", \"func2\", x)"
      ],
      "metadata": {
        "id": "FVhGbUR4ozFM",
        "colab": {
          "base_uri": "https://localhost:8080/",
          "height": 397
        },
        "outputId": "133e0098-60ef-41df-bc8a-44952ba14e6b"
      },
      "execution_count": null,
      "outputs": [
        {
          "output_type": "stream",
          "name": "stdout",
          "text": [
            "Vetor solução: [-1.307279012345679, 0.9227851851851853]\n",
            "\n",
            "iterações: 7\n",
            "\n",
            "Info: 0\n",
            "\n"
          ]
        },
        {
          "output_type": "display_data",
          "data": {
            "text/plain": [
              "<Figure size 432x288 with 1 Axes>"
            ],
            "image/png": "[encoded data removed]"
          },
          "metadata": {
            "needs_background": "light"
          }
        }
      ]
    },
    {
      "cell_type": "markdown",
      "source": [
        "***Gauss Seidel***"
      ],
      "metadata": {
        "id": "MpCI6vpho45L"
      }
    },
    {
      "cell_type": "code",
      "source": [
        "func2 = lambda x : (- 5 * x - 3) / 2\n",
        "func1 = lambda x : (2 - x) / 3\n",
        "A = np.array([\n",
        "    [3, 1],\n",
        "    [2, 5]\n",
        "], dtype=\"double\")\n",
        "x, iter, info = gausSeidel(2, A, b, 10**-3, 10)\n",
        "\n",
        "print(f\"Vetor solução: {x}\\n\")\n",
        "print(f\"iterações: {iter}\\n\")\n",
        "print(f\"Info: {info}\\n\")\n",
        "plot_two_functions(func1, func2, -6000000, 6000000, 1000, \"Func\", \"x\", \"y\", \"func1\", \"func2\", x)"
      ],
      "metadata": {
        "id": "Foo0OgafoHxX",
        "colab": {
          "base_uri": "https://localhost:8080/",
          "height": 397
        },
        "outputId": "78a3b797-10bd-402a-ebad-aadfc924be12"
      },
      "execution_count": null,
      "outputs": [
        {
          "output_type": "stream",
          "name": "stdout",
          "text": [
            "Vetor solução: [-1.3076372016460904, 0.9230548806584362]\n",
            "\n",
            "iterações: 5\n",
            "\n",
            "Info: 0\n",
            "\n"
          ]
        },
        {
          "output_type": "display_data",
          "data": {
            "text/plain": [
              "<Figure size 432x288 with 1 Axes>"
            ],
            "image/png": "[encoded data removed]"
          },
          "metadata": {
            "needs_background": "light"
          }
        }
      ]
    },
    {
      "cell_type": "markdown",
      "source": [
        "###C) Justifique os resultados obtidos"
      ],
      "metadata": {
        "id": "Isq1PgsupEsJ"
      }
    },
    {
      "cell_type": "markdown",
      "source": [
        "***Os métodos de Gauss-Jacobi e Gauss-Seidel são dois métodos iterativos usados para resolver sistemas de equações lineares. A principal diferença entre os dois é que o método de Gauss-Seidel utiliza os resultados das iterações anteriores para calcular os valores da próxima iteração, enquanto o método de Gauss-Jacobi utiliza os valores originais do vetor de solução em cada iteração.***\n",
        "\n",
        "***Essa diferença pode levar a diferentes resultados para sistemas de equações lineares, dependendo da matriz de coeficientes do sistema e do vetor de solução inicial. Em geral, o método de Gauss-Seidel tende a convergir mais rapidamente do que o método de Gauss-Jacobi, especialmente para sistemas com coeficientes diagonais dominantes ou com matriz simétrica e positiva definida.***\n",
        "\n",
        "***Os métodos de Gauss-Jacobi e Gauss-Seidel podem não convergir em um resultado devido a diversos fatores, entre eles tem que o método requer que a matriz dos coeficientes seja diagonal dominante ou simétrica definida positiva. Se esta condição não for satisfeita, o método pode não convergir.***\n",
        "\n",
        "***Visto isso após permutar foi possível obter uma Matriz mais bem condicionada para o método de Gauss-Seidel comparado com o Gauss-Jacobi, obtendo uma diagonal dominante, fazendo com que o método de Gauss-Seidel convergisse mais rapidamente que o método de Gauss-Jacobi.***\n"
      ],
      "metadata": {
        "id": "Q1swG4hFpwUJ"
      }
    }
  ]
}