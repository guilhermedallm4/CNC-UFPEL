{
  "nbformat": 4,
  "nbformat_minor": 0,
  "metadata": {
    "colab": {
      "provenance": []
    },
    "kernelspec": {
      "name": "python3",
      "display_name": "Python 3"
    },
    "language_info": {
      "name": "python"
    }
  },
  "cells": [
    {
      "cell_type": "markdown",
      "source": [
        "# Cálculo de Deslocamento de um Objeto\n",
        "Integrantes: Claudio Junior, Eduarda Carvalho, Félix Silva, Guilherme Dallmann, Julia Junqueira (T2)."
      ],
      "metadata": {
        "id": "hxj0O1h0NTxI"
      }
    },
    {
      "cell_type": "markdown",
      "source": [
        "## Import das Bibliotecas"
      ],
      "metadata": {
        "id": "t3ofuqI5w2fJ"
      }
    },
    {
      "cell_type": "code",
      "source": [
        "import math"
      ],
      "metadata": {
        "id": "13-zeM9_85oO"
      },
      "execution_count": null,
      "outputs": []
    },
    {
      "cell_type": "markdown",
      "source": [
        "##Método do Trapézio"
      ],
      "metadata": {
        "id": "mrHOc2Qi8jrN"
      }
    },
    {
      "cell_type": "markdown",
      "source": [
        "Suponha que a função $v(t)$ represente a velocidade de um objeto em relação ao tempo. Para calcular o deslocamento do objeto em um intervalo de tempo $[a, b]$,  podemos utilizar o método do trapézio para aproximar a integral da função $v(t)$, dada a função:\n",
        "\n",
        "\n",
        "\\begin{align*}\n",
        "v(t) = 2*t + 3\n",
        "\\end{align*}\n",
        "\n",
        "\n",
        "Neste exemplo, a função velocidade representa a velocidade do objeto em função do tempo, e trapz é uma implementação do método do trapézio que aproxima a integral da função velocidade no intervalo [a, b] utilizando n subintervalos. O valor retornado pela função trapz é uma aproximação do deslocamento do objeto neste intervalo de tempo.\n",
        "\n",
        "É importante ressaltar que esta é apenas uma aproximação do deslocamento do objeto, e que a precisão da aproximação depende do número de subintervalos utilizados na integração. Além disso, este método pressupõe que a velocidade do objeto seja constante em cada subintervalo, o que pode não ser verdade em situações mais complexas."
      ],
      "metadata": {
        "id": "M1RzDixNw6wQ"
      }
    },
    {
      "cell_type": "code",
      "execution_count": null,
      "metadata": {
        "id": "TdGiFQQN8d4_"
      },
      "outputs": [],
      "source": [
        "def trapezio(f, a, b, n):\n",
        "  h = (b - a) / n\n",
        "  sum = (f(a) + f(b)) / 2\n",
        "  for i in range(1, n):\n",
        "      x = a + i * h\n",
        "      sum += f(x)\n",
        "  return h*sum"
      ]
    },
    {
      "cell_type": "code",
      "source": [
        "velocidade = lambda t: 2*t + 3\n",
        "a = 0\n",
        "b = 4\n",
        "n = 10\n",
        "deslocamento = trapezio(velocidade, a, b, n)\n",
        "print(f\"O deslocamento do objeto é: {deslocamento}\")"
      ],
      "metadata": {
        "colab": {
          "base_uri": "https://localhost:8080/"
        },
        "id": "he1XrqJY82VO",
        "outputId": "8d17d834-85c2-4c93-c165-3f4030d8332c"
      },
      "execution_count": null,
      "outputs": [
        {
          "output_type": "stream",
          "name": "stdout",
          "text": [
            "O deslocamento do objeto é: 28.0\n"
          ]
        }
      ]
    },
    {
      "cell_type": "code",
      "source": [
        "tempo = [0, 0.5, 1, 1.5, 2, 2.5, 3, 3.5, 4, 4.5]\n",
        "velocidade = [62, 74, 73.5, 60.5, 49.5, 42.5, 39, 44.5, 58, 61.5]"
      ],
      "metadata": {
        "id": "LlcfXQPlIxSn"
      },
      "execution_count": null,
      "outputs": []
    },
    {
      "cell_type": "markdown",
      "source": [
        "Para calcular o deslocamento a partir da função de velocidade $v(t)$, é necessário integrar a função em relação ao tempo. Dessa forma, a função de deslocamento $s(t)$ pode ser obtida como:\n",
        "\n",
        "$s(t) = \\int (t) dt + s0$\n",
        "\n",
        "Onde s0 é a posição inicial do objeto.\n",
        "\n",
        "Para a função $v(t) = 2t + 3$, sua integral em relação ao tempo t é dada por:\n",
        "\n",
        "$\\int (t) dt = \\int(2t + 3) dt = t^2 + 3t + C$\n",
        "\n",
        "Onde $C$ é uma constante de integração.\n",
        "\n",
        "Assumindo que o objeto comece do repouso $(s0 = 0)$, a função de deslocamento $s(t)$ pode ser escrita como:\n",
        "\n",
        "$s(t) = t^2 + 3t$\n",
        "\n",
        "Portanto, se você deseja calcular o deslocamento do objeto em um determinado intervalo de tempo $[a, b]$, pode utilizar o método do trapézio para aproximar a integral da função de velocidade no intervalo e obter uma estimativa para o deslocamento total no intervalo."
      ],
      "metadata": {
        "id": "ubZJMrMKcCVS"
      }
    }
  ]
}